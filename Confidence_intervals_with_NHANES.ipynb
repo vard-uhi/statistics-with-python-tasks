{
  "nbformat": 4,
  "nbformat_minor": 0,
  "metadata": {
    "colab": {
      "name": "1_Practice Confidence intervals with NHANES.ipynb",
      "provenance": [],
      "collapsed_sections": [
        "TiHFkdE7yekx"
      ],
      "authorship_tag": "ABX9TyOodFV+Bf5oNNcgQL/HuV35",
      "include_colab_link": true
    },
    "kernelspec": {
      "name": "python3",
      "display_name": "Python 3"
    }
  },
  "cells": [
    {
      "cell_type": "markdown",
      "metadata": {
        "id": "view-in-github",
        "colab_type": "text"
      },
      "source": [
        "<a href=\"https://colab.research.google.com/github/vard-uhi/statistics-with-python-tasks/blob/main/Confidence_intervals_with_NHANES.ipynb\" target=\"_parent\"><img src=\"https://colab.research.google.com/assets/colab-badge.svg\" alt=\"Open In Colab\"/></a>"
      ]
    },
    {
      "cell_type": "markdown",
      "metadata": {
        "id": "KTDTCBIxyAYX"
      },
      "source": [
        "# Practice notebook for confidence intervals using NHANES data\n",
        "\n",
        "This notebook will give you the opportunity to practice working with confidence intervals using the NHANES data.\n",
        "\n",
        "You can enter your code into the cells that say \"enter your code here\", and you can type responses to the questions into the cells that say \"Type Markdown and Latex\".\n",
        "\n",
        "Note that most of the code that you will need to write below is very similar to code that appears in the case study notebook.  You will need to edit code from that notebook in small ways to adapt it to the prompts below.\n",
        "\n",
        "To get started, we will use the same module imports and read the data in the same way as we did in the case study:"
      ]
    },
    {
      "cell_type": "code",
      "metadata": {
        "id": "mMswLQgWx2xF",
        "outputId": "7a9674a9-10f0-4557-80c9-e8ecb03c482c",
        "colab": {
          "base_uri": "https://localhost:8080/"
        }
      },
      "source": [
        "%matplotlib inline\n",
        "import matplotlib.pyplot as plt\n",
        "import pandas as pd\n",
        "import numpy as np\n",
        "import seaborn as sns\n",
        "import statsmodels.api as sm"
      ],
      "execution_count": 1,
      "outputs": [
        {
          "output_type": "stream",
          "text": [
            "/usr/local/lib/python3.6/dist-packages/statsmodels/tools/_testing.py:19: FutureWarning: pandas.util.testing is deprecated. Use the functions in the public API at pandas.testing instead.\n",
            "  import pandas.util.testing as tm\n"
          ],
          "name": "stderr"
        }
      ]
    },
    {
      "cell_type": "code",
      "metadata": {
        "id": "CYv_ts6zyHY3",
        "outputId": "a01fac9d-ad30-4406-b32a-602ec70c825b",
        "colab": {
          "resources": {
            "http://localhost:8080/nbextensions/google.colab/files.js": {
              "data": "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",
              "ok": true,
              "headers": [
                [
                  "content-type",
                  "application/javascript"
                ]
              ],
              "status": 200,
              "status_text": ""
            }
          },
          "base_uri": "https://localhost:8080/",
          "height": 72
        }
      },
      "source": [
        "#load the data\n",
        "from google.colab import files\n",
        "data_to_load = files.upload()"
      ],
      "execution_count": 2,
      "outputs": [
        {
          "output_type": "display_data",
          "data": {
            "text/html": [
              "\n",
              "     <input type=\"file\" id=\"files-fa7982e5-7dd1-4b4a-a134-a159d81d0505\" name=\"files[]\" multiple disabled\n",
              "        style=\"border:none\" />\n",
              "     <output id=\"result-fa7982e5-7dd1-4b4a-a134-a159d81d0505\">\n",
              "      Upload widget is only available when the cell has been executed in the\n",
              "      current browser session. Please rerun this cell to enable.\n",
              "      </output>\n",
              "      <script src=\"/nbextensions/google.colab/files.js\"></script> "
            ],
            "text/plain": [
              "<IPython.core.display.HTML object>"
            ]
          },
          "metadata": {
            "tags": []
          }
        },
        {
          "output_type": "stream",
          "text": [
            "Saving nhanes_2015_2016.csv to nhanes_2015_2016.csv\n"
          ],
          "name": "stdout"
        }
      ]
    },
    {
      "cell_type": "code",
      "metadata": {
        "id": "pqkjMp9cyOFA"
      },
      "source": [
        "import io\n",
        "# .read_csv() assigns the information from the initial *.csv file to this variable\n",
        "raw_data = pd.read_csv(io.BytesIO(data_to_load['nhanes_2015_2016.csv']))"
      ],
      "execution_count": 3,
      "outputs": []
    },
    {
      "cell_type": "code",
      "metadata": {
        "id": "mZ-pkUUFySgj"
      },
      "source": [
        "df = raw_data.copy()"
      ],
      "execution_count": 4,
      "outputs": []
    },
    {
      "cell_type": "code",
      "metadata": {
        "id": "ot10VaKVyU90",
        "outputId": "f50c7ae4-240f-4f5a-f622-bfb80113be95",
        "colab": {
          "base_uri": "https://localhost:8080/",
          "height": 224
        }
      },
      "source": [
        "df.head()"
      ],
      "execution_count": 5,
      "outputs": [
        {
          "output_type": "execute_result",
          "data": {
            "text/html": [
              "<div>\n",
              "<style scoped>\n",
              "    .dataframe tbody tr th:only-of-type {\n",
              "        vertical-align: middle;\n",
              "    }\n",
              "\n",
              "    .dataframe tbody tr th {\n",
              "        vertical-align: top;\n",
              "    }\n",
              "\n",
              "    .dataframe thead th {\n",
              "        text-align: right;\n",
              "    }\n",
              "</style>\n",
              "<table border=\"1\" class=\"dataframe\">\n",
              "  <thead>\n",
              "    <tr style=\"text-align: right;\">\n",
              "      <th></th>\n",
              "      <th>SEQN</th>\n",
              "      <th>ALQ101</th>\n",
              "      <th>ALQ110</th>\n",
              "      <th>ALQ130</th>\n",
              "      <th>SMQ020</th>\n",
              "      <th>RIAGENDR</th>\n",
              "      <th>RIDAGEYR</th>\n",
              "      <th>RIDRETH1</th>\n",
              "      <th>DMDCITZN</th>\n",
              "      <th>DMDEDUC2</th>\n",
              "      <th>DMDMARTL</th>\n",
              "      <th>DMDHHSIZ</th>\n",
              "      <th>WTINT2YR</th>\n",
              "      <th>SDMVPSU</th>\n",
              "      <th>SDMVSTRA</th>\n",
              "      <th>INDFMPIR</th>\n",
              "      <th>BPXSY1</th>\n",
              "      <th>BPXDI1</th>\n",
              "      <th>BPXSY2</th>\n",
              "      <th>BPXDI2</th>\n",
              "      <th>BMXWT</th>\n",
              "      <th>BMXHT</th>\n",
              "      <th>BMXBMI</th>\n",
              "      <th>BMXLEG</th>\n",
              "      <th>BMXARML</th>\n",
              "      <th>BMXARMC</th>\n",
              "      <th>BMXWAIST</th>\n",
              "      <th>HIQ210</th>\n",
              "    </tr>\n",
              "  </thead>\n",
              "  <tbody>\n",
              "    <tr>\n",
              "      <th>0</th>\n",
              "      <td>83732</td>\n",
              "      <td>1.0</td>\n",
              "      <td>NaN</td>\n",
              "      <td>1.0</td>\n",
              "      <td>1</td>\n",
              "      <td>1</td>\n",
              "      <td>62</td>\n",
              "      <td>3</td>\n",
              "      <td>1.0</td>\n",
              "      <td>5.0</td>\n",
              "      <td>1.0</td>\n",
              "      <td>2</td>\n",
              "      <td>134671.37</td>\n",
              "      <td>1</td>\n",
              "      <td>125</td>\n",
              "      <td>4.39</td>\n",
              "      <td>128.0</td>\n",
              "      <td>70.0</td>\n",
              "      <td>124.0</td>\n",
              "      <td>64.0</td>\n",
              "      <td>94.8</td>\n",
              "      <td>184.5</td>\n",
              "      <td>27.8</td>\n",
              "      <td>43.3</td>\n",
              "      <td>43.6</td>\n",
              "      <td>35.9</td>\n",
              "      <td>101.1</td>\n",
              "      <td>2.0</td>\n",
              "    </tr>\n",
              "    <tr>\n",
              "      <th>1</th>\n",
              "      <td>83733</td>\n",
              "      <td>1.0</td>\n",
              "      <td>NaN</td>\n",
              "      <td>6.0</td>\n",
              "      <td>1</td>\n",
              "      <td>1</td>\n",
              "      <td>53</td>\n",
              "      <td>3</td>\n",
              "      <td>2.0</td>\n",
              "      <td>3.0</td>\n",
              "      <td>3.0</td>\n",
              "      <td>1</td>\n",
              "      <td>24328.56</td>\n",
              "      <td>1</td>\n",
              "      <td>125</td>\n",
              "      <td>1.32</td>\n",
              "      <td>146.0</td>\n",
              "      <td>88.0</td>\n",
              "      <td>140.0</td>\n",
              "      <td>88.0</td>\n",
              "      <td>90.4</td>\n",
              "      <td>171.4</td>\n",
              "      <td>30.8</td>\n",
              "      <td>38.0</td>\n",
              "      <td>40.0</td>\n",
              "      <td>33.2</td>\n",
              "      <td>107.9</td>\n",
              "      <td>NaN</td>\n",
              "    </tr>\n",
              "    <tr>\n",
              "      <th>2</th>\n",
              "      <td>83734</td>\n",
              "      <td>1.0</td>\n",
              "      <td>NaN</td>\n",
              "      <td>NaN</td>\n",
              "      <td>1</td>\n",
              "      <td>1</td>\n",
              "      <td>78</td>\n",
              "      <td>3</td>\n",
              "      <td>1.0</td>\n",
              "      <td>3.0</td>\n",
              "      <td>1.0</td>\n",
              "      <td>2</td>\n",
              "      <td>12400.01</td>\n",
              "      <td>1</td>\n",
              "      <td>131</td>\n",
              "      <td>1.51</td>\n",
              "      <td>138.0</td>\n",
              "      <td>46.0</td>\n",
              "      <td>132.0</td>\n",
              "      <td>44.0</td>\n",
              "      <td>83.4</td>\n",
              "      <td>170.1</td>\n",
              "      <td>28.8</td>\n",
              "      <td>35.6</td>\n",
              "      <td>37.0</td>\n",
              "      <td>31.0</td>\n",
              "      <td>116.5</td>\n",
              "      <td>2.0</td>\n",
              "    </tr>\n",
              "    <tr>\n",
              "      <th>3</th>\n",
              "      <td>83735</td>\n",
              "      <td>2.0</td>\n",
              "      <td>1.0</td>\n",
              "      <td>1.0</td>\n",
              "      <td>2</td>\n",
              "      <td>2</td>\n",
              "      <td>56</td>\n",
              "      <td>3</td>\n",
              "      <td>1.0</td>\n",
              "      <td>5.0</td>\n",
              "      <td>6.0</td>\n",
              "      <td>1</td>\n",
              "      <td>102718.00</td>\n",
              "      <td>1</td>\n",
              "      <td>131</td>\n",
              "      <td>5.00</td>\n",
              "      <td>132.0</td>\n",
              "      <td>72.0</td>\n",
              "      <td>134.0</td>\n",
              "      <td>68.0</td>\n",
              "      <td>109.8</td>\n",
              "      <td>160.9</td>\n",
              "      <td>42.4</td>\n",
              "      <td>38.5</td>\n",
              "      <td>37.7</td>\n",
              "      <td>38.3</td>\n",
              "      <td>110.1</td>\n",
              "      <td>2.0</td>\n",
              "    </tr>\n",
              "    <tr>\n",
              "      <th>4</th>\n",
              "      <td>83736</td>\n",
              "      <td>2.0</td>\n",
              "      <td>1.0</td>\n",
              "      <td>1.0</td>\n",
              "      <td>2</td>\n",
              "      <td>2</td>\n",
              "      <td>42</td>\n",
              "      <td>4</td>\n",
              "      <td>1.0</td>\n",
              "      <td>4.0</td>\n",
              "      <td>3.0</td>\n",
              "      <td>5</td>\n",
              "      <td>17627.67</td>\n",
              "      <td>2</td>\n",
              "      <td>126</td>\n",
              "      <td>1.23</td>\n",
              "      <td>100.0</td>\n",
              "      <td>70.0</td>\n",
              "      <td>114.0</td>\n",
              "      <td>54.0</td>\n",
              "      <td>55.2</td>\n",
              "      <td>164.9</td>\n",
              "      <td>20.3</td>\n",
              "      <td>37.4</td>\n",
              "      <td>36.0</td>\n",
              "      <td>27.2</td>\n",
              "      <td>80.4</td>\n",
              "      <td>2.0</td>\n",
              "    </tr>\n",
              "  </tbody>\n",
              "</table>\n",
              "</div>"
            ],
            "text/plain": [
              "    SEQN  ALQ101  ALQ110  ALQ130  ...  BMXARML  BMXARMC  BMXWAIST  HIQ210\n",
              "0  83732     1.0     NaN     1.0  ...     43.6     35.9     101.1     2.0\n",
              "1  83733     1.0     NaN     6.0  ...     40.0     33.2     107.9     NaN\n",
              "2  83734     1.0     NaN     NaN  ...     37.0     31.0     116.5     2.0\n",
              "3  83735     2.0     1.0     1.0  ...     37.7     38.3     110.1     2.0\n",
              "4  83736     2.0     1.0     1.0  ...     36.0     27.2      80.4     2.0\n",
              "\n",
              "[5 rows x 28 columns]"
            ]
          },
          "metadata": {
            "tags": []
          },
          "execution_count": 5
        }
      ]
    },
    {
      "cell_type": "markdown",
      "metadata": {
        "id": "TiHFkdE7yekx"
      },
      "source": [
        "## Question 1\n",
        "\n",
        "Restrict the sample to women between 35 and 50, then use the marital status variable [DMDMARTL](https://wwwn.cdc.gov/Nchs/Nhanes/2015-2016/DEMO_I.htm#DMDMARTL) to partition this sample into two groups - women who are currently married, and women who are not currently married.  Within each of these groups, calculate the proportion of women who have completed college.  Calculate 95% confidence intervals for each of these proportions."
      ]
    },
    {
      "cell_type": "code",
      "metadata": {
        "id": "XWzzWNL9ygHI"
      },
      "source": [
        "#sample the dataset to women between 35 and 50\n",
        "female_age_filter = df[(df['RIAGENDR'] == 2 ) & (df['RIDAGEYR'] >= 35) & (df['RIDAGEYR'] <=50)]\n",
        "female_age_filter.reset_index(inplace = True, drop = True)"
      ],
      "execution_count": 54,
      "outputs": []
    },
    {
      "cell_type": "code",
      "metadata": {
        "id": "t2o8IgA0-snz"
      },
      "source": [
        "#group of women who are currently married \n",
        "female_married = female_age_filter[female_age_filter['DMDMARTL'] == 1]\n",
        "female_married.reset_index(inplace = True, drop = True)"
      ],
      "execution_count": 55,
      "outputs": []
    },
    {
      "cell_type": "code",
      "metadata": {
        "id": "Bd4MXohz-_1n"
      },
      "source": [
        "#group of woman women who are not currently married\n",
        "female_not_married = female_age_filter[female_age_filter['DMDMARTL'].isin([2,3,4,5,6])]\n",
        "female_not_married.reset_index(inplace = True, drop = True)"
      ],
      "execution_count": 56,
      "outputs": []
    },
    {
      "cell_type": "markdown",
      "metadata": {
        "id": "GBUKVKE4_AaU"
      },
      "source": [
        "Merried"
      ]
    },
    {
      "cell_type": "code",
      "metadata": {
        "id": "e0vYkEPYASuz",
        "outputId": "de1cda64-5793-4e16-b5a0-7fd8a9ccc891",
        "colab": {
          "base_uri": "https://localhost:8080/"
        }
      },
      "source": [
        "#proportion of women who have completed college among women who are currently married\n",
        "proportion_married = sum(female_married['DMDEDUC2'] == 5) / len(female_married)\n",
        "proportion_married"
      ],
      "execution_count": 58,
      "outputs": [
        {
          "output_type": "execute_result",
          "data": {
            "text/plain": [
              "0.36080178173719374"
            ]
          },
          "metadata": {
            "tags": []
          },
          "execution_count": 58
        }
      ]
    },
    {
      "cell_type": "code",
      "metadata": {
        "id": "go6ao2CTBDdR",
        "outputId": "05ef4c4f-6c5e-4f5b-df66-0b120d3ea144",
        "colab": {
          "base_uri": "https://localhost:8080/"
        }
      },
      "source": [
        "#standard deviation\n",
        "sd_married = proportion_married * (1-proportion_married)\n",
        "sd_married"
      ],
      "execution_count": 60,
      "outputs": [
        {
          "output_type": "execute_result",
          "data": {
            "text/plain": [
              "0.23062385603246013"
            ]
          },
          "metadata": {
            "tags": []
          },
          "execution_count": 60
        }
      ]
    },
    {
      "cell_type": "code",
      "metadata": {
        "id": "A8ToclEfB6Pz",
        "outputId": "57dfff88-55a4-4846-ca64-7766e71f2894",
        "colab": {
          "base_uri": "https://localhost:8080/"
        }
      },
      "source": [
        "#number of observations\n",
        "n_married = len(female_age_filter['DMDEDUC2'])\n",
        "n_married"
      ],
      "execution_count": 61,
      "outputs": [
        {
          "output_type": "execute_result",
          "data": {
            "text/plain": [
              "787"
            ]
          },
          "metadata": {
            "tags": []
          },
          "execution_count": 61
        }
      ]
    },
    {
      "cell_type": "code",
      "metadata": {
        "id": "HzJTI98M5WT2",
        "outputId": "d5a21ecb-cd74-4ba7-d134-77386159d145",
        "colab": {
          "base_uri": "https://localhost:8080/"
        }
      },
      "source": [
        "print('Lower Boundary: ', proportion_married - 1.96 * np.sqrt((sd_married/n_married)))\n",
        "print('Upper Boundary: ', proportion_married + 1.96 * np.sqrt((sd_married/n_married)))"
      ],
      "execution_count": 62,
      "outputs": [
        {
          "output_type": "stream",
          "text": [
            "Lower Boundary:  0.3272495958045783\n",
            "Upper Boundary:  0.3943539676698092\n"
          ],
          "name": "stdout"
        }
      ]
    },
    {
      "cell_type": "code",
      "metadata": {
        "id": "uUpk4gA-7nwK"
      },
      "source": [
        "import statsmodels.api as sm"
      ],
      "execution_count": 63,
      "outputs": []
    },
    {
      "cell_type": "code",
      "metadata": {
        "id": "aaZ0sgZn8NJf"
      },
      "source": [
        "ci_low, ci_upp = sm.stats.proportion_confint(proportion_married * n_married, n_married, alpha=0.05, method='normal')"
      ],
      "execution_count": 64,
      "outputs": []
    },
    {
      "cell_type": "code",
      "metadata": {
        "id": "NEAdGcFe5W49",
        "outputId": "16dabaa6-a862-4169-b61e-f8bb9f58b4c8",
        "colab": {
          "base_uri": "https://localhost:8080/"
        }
      },
      "source": [
        "ci_low, ci_upp"
      ],
      "execution_count": 65,
      "outputs": [
        {
          "output_type": "execute_result",
          "data": {
            "text/plain": [
              "(0.3272502123338684, 0.39435335114051917)"
            ]
          },
          "metadata": {
            "tags": []
          },
          "execution_count": 65
        }
      ]
    },
    {
      "cell_type": "code",
      "metadata": {
        "id": "-_uyD1ic5Wgc",
        "outputId": "7e044225-483f-439f-8e51-198b34eb86e0",
        "colab": {
          "base_uri": "https://localhost:8080/"
        }
      },
      "source": [
        "ci_upp-ci_low"
      ],
      "execution_count": 66,
      "outputs": [
        {
          "output_type": "execute_result",
          "data": {
            "text/plain": [
              "0.06710313880665075"
            ]
          },
          "metadata": {
            "tags": []
          },
          "execution_count": 66
        }
      ]
    },
    {
      "cell_type": "markdown",
      "metadata": {
        "id": "arquxrtm8qFL"
      },
      "source": [
        "Not Married"
      ]
    },
    {
      "cell_type": "code",
      "metadata": {
        "id": "GLfFZ_re5WG5",
        "outputId": "d1c90603-58f1-4af1-b3c0-b662bbdd9999",
        "colab": {
          "base_uri": "https://localhost:8080/"
        }
      },
      "source": [
        "#population proportion\n",
        "proportion_not_married = sum(female_not_married['DMDEDUC2']==5)/len(female_not_married)\n",
        "proportion_not_married"
      ],
      "execution_count": 68,
      "outputs": [
        {
          "output_type": "execute_result",
          "data": {
            "text/plain": [
              "0.21301775147928995"
            ]
          },
          "metadata": {
            "tags": []
          },
          "execution_count": 68
        }
      ]
    },
    {
      "cell_type": "code",
      "metadata": {
        "id": "sLS--Cvd5xzo",
        "outputId": "dc9783b7-fc8d-40e5-f4cd-33eccb2c065e",
        "colab": {
          "base_uri": "https://localhost:8080/"
        }
      },
      "source": [
        "n_not_married = len(female_not_married['DMDEDUC2'])\n",
        "n_not_married"
      ],
      "execution_count": 69,
      "outputs": [
        {
          "output_type": "execute_result",
          "data": {
            "text/plain": [
              "338"
            ]
          },
          "metadata": {
            "tags": []
          },
          "execution_count": 69
        }
      ]
    },
    {
      "cell_type": "code",
      "metadata": {
        "id": "mcy2gwC49PUm",
        "outputId": "53083001-8c1e-46c3-890d-7e370ec4ea7f",
        "colab": {
          "base_uri": "https://localhost:8080/"
        }
      },
      "source": [
        "#standard error\n",
        "se_not_married = np.sqrt((proportion_not_married*(1-proportion_not_married))/n_not_married)\n",
        "se_not_married"
      ],
      "execution_count": 70,
      "outputs": [
        {
          "output_type": "execute_result",
          "data": {
            "text/plain": [
              "0.022270605048202215"
            ]
          },
          "metadata": {
            "tags": []
          },
          "execution_count": 70
        }
      ]
    },
    {
      "cell_type": "code",
      "metadata": {
        "id": "63zeh99Z5xl_",
        "outputId": "750b79a0-731f-4369-c71d-2497fc680e8d",
        "colab": {
          "base_uri": "https://localhost:8080/"
        }
      },
      "source": [
        "print('Lower Boundary: ', proportion_not_married - 1.96 * se_not_married)\n",
        "print('Upper Boundary: ', proportion_not_married + 1.96 * se_not_married)"
      ],
      "execution_count": 71,
      "outputs": [
        {
          "output_type": "stream",
          "text": [
            "Lower Boundary:  0.1693673655848136\n",
            "Upper Boundary:  0.25666813737376626\n"
          ],
          "name": "stdout"
        }
      ]
    },
    {
      "cell_type": "code",
      "metadata": {
        "id": "Yc2vniIu57r8"
      },
      "source": [
        "ci_low, ci_upp = sm.stats.proportion_confint(proportion_not_married * n_not_married, n_not_married, alpha=0.05, method='normal')"
      ],
      "execution_count": 72,
      "outputs": []
    },
    {
      "cell_type": "code",
      "metadata": {
        "id": "QoVfBNWq58Ee",
        "outputId": "4ed0cc56-4f55-44ad-b8a6-22ad98fc105f",
        "colab": {
          "base_uri": "https://localhost:8080/"
        }
      },
      "source": [
        "ci_low, ci_upp"
      ],
      "execution_count": 73,
      "outputs": [
        {
          "output_type": "execute_result",
          "data": {
            "text/plain": [
              "(0.16936816767089768, 0.2566673352876822)"
            ]
          },
          "metadata": {
            "tags": []
          },
          "execution_count": 73
        }
      ]
    },
    {
      "cell_type": "code",
      "metadata": {
        "id": "dThNi0r-57fe",
        "outputId": "5aa23992-a32e-4305-dcef-368f0a7a4ab6",
        "colab": {
          "base_uri": "https://localhost:8080/"
        }
      },
      "source": [
        "ci_upp - ci_low"
      ],
      "execution_count": 75,
      "outputs": [
        {
          "output_type": "execute_result",
          "data": {
            "text/plain": [
              "0.08729916761678452"
            ]
          },
          "metadata": {
            "tags": []
          },
          "execution_count": 75
        }
      ]
    },
    {
      "cell_type": "markdown",
      "metadata": {
        "id": "7KoEM7nPYQYk"
      },
      "source": [
        "__Q1a.__ Identify which of the two confidence intervals is wider, and explain why this is the case. "
      ]
    },
    {
      "cell_type": "markdown",
      "metadata": {
        "id": "-Ctx7otVJ_eR"
      },
      "source": [
        "Sample 1 has a wider confidence interval, it has more than 2 times more data. However, STD is lower, which means data is not that spread and because of it results of the confidence intervals of 2 samples has close confidence interval range."
      ]
    },
    {
      "cell_type": "markdown",
      "metadata": {
        "id": "vE5ToEScYqRj"
      },
      "source": [
        "__Q1b.__ Write 1-2 sentences summarizing these findings for an audience that does not know what a confidence interval is (the goal here is to report the substance of what you learned about how marital status and educational attainment are related, not to teach a person what a confidence interval is)."
      ]
    },
    {
      "cell_type": "markdown",
      "metadata": {
        "id": "PJnMSJAdY0Lf"
      },
      "source": [
        "A higher proportion of women who are currently married have completed their college in comparison to women who are not currently married. This is a significant difference between our 2 groups and we are 95% sure in the results."
      ]
    },
    {
      "cell_type": "markdown",
      "metadata": {
        "id": "AbD91XDrB7Hz"
      },
      "source": [
        "## Question 2\n",
        "\n",
        "Construct 95% confidence intervals for the proportion of smokers who are female, and for the proportion of smokers who are male.  Then construct a 95% confidence interval for the difference between these proportions."
      ]
    },
    {
      "cell_type": "code",
      "metadata": {
        "id": "B82zWDfoB71e"
      },
      "source": [
        "df_smokers = df[df['SMQ020'] == 1]\n",
        "df_smokers.reset_index(inplace=True, drop=True)"
      ],
      "execution_count": 76,
      "outputs": []
    },
    {
      "cell_type": "code",
      "metadata": {
        "id": "Fmfl1nVx6LqO"
      },
      "source": [
        "smokers_gender = df_smokers['RIAGENDR']"
      ],
      "execution_count": 77,
      "outputs": []
    },
    {
      "cell_type": "code",
      "metadata": {
        "id": "UI19cUpu6N0H"
      },
      "source": [
        "smokers_gender = smokers_gender[~smokers_gender.isna()]\n",
        "smokers_gender.reset_index(inplace=True, drop=True)"
      ],
      "execution_count": 78,
      "outputs": []
    },
    {
      "cell_type": "code",
      "metadata": {
        "id": "FVSBVI7E6QJ_",
        "outputId": "8a8c6705-4b87-41ca-ba70-a677b1421299",
        "colab": {
          "base_uri": "https://localhost:8080/"
        }
      },
      "source": [
        "n_smokers = len(smokers_gender)\n",
        "n_smokers"
      ],
      "execution_count": 79,
      "outputs": [
        {
          "output_type": "execute_result",
          "data": {
            "text/plain": [
              "2319"
            ]
          },
          "metadata": {
            "tags": []
          },
          "execution_count": 79
        }
      ]
    },
    {
      "cell_type": "code",
      "metadata": {
        "id": "FFs5oa1i6SZo",
        "outputId": "b2b63c57-353f-4ceb-ad18-6d82efedd0c0",
        "colab": {
          "base_uri": "https://localhost:8080/"
        }
      },
      "source": [
        "n_smokers_male = sum(smokers_gender == 1)\n",
        "n_smokers_male"
      ],
      "execution_count": 80,
      "outputs": [
        {
          "output_type": "execute_result",
          "data": {
            "text/plain": [
              "1413"
            ]
          },
          "metadata": {
            "tags": []
          },
          "execution_count": 80
        }
      ]
    },
    {
      "cell_type": "code",
      "metadata": {
        "id": "KPzF35xP6Vhz",
        "outputId": "0d484547-98bb-4a8f-aed1-4d4eebe0f420",
        "colab": {
          "base_uri": "https://localhost:8080/"
        }
      },
      "source": [
        "n_smokers_female = sum(smokers_gender == 2)\n",
        "n_smokers_female"
      ],
      "execution_count": 81,
      "outputs": [
        {
          "output_type": "execute_result",
          "data": {
            "text/plain": [
              "906"
            ]
          },
          "metadata": {
            "tags": []
          },
          "execution_count": 81
        }
      ]
    },
    {
      "cell_type": "code",
      "metadata": {
        "id": "QGFenReX6Xij",
        "outputId": "17e0597a-6ab0-43d2-85ad-1d3b9e47c206",
        "colab": {
          "base_uri": "https://localhost:8080/"
        }
      },
      "source": [
        "proportion_smokers_male = (n_smokers_male / n_smokers)\n",
        "proportion_smokers_male"
      ],
      "execution_count": 82,
      "outputs": [
        {
          "output_type": "execute_result",
          "data": {
            "text/plain": [
              "0.6093143596377749"
            ]
          },
          "metadata": {
            "tags": []
          },
          "execution_count": 82
        }
      ]
    },
    {
      "cell_type": "code",
      "metadata": {
        "id": "NXp8ryfo6Z5e",
        "outputId": "20df07f4-1245-46c6-9434-9e2cea6ab1a1",
        "colab": {
          "base_uri": "https://localhost:8080/"
        }
      },
      "source": [
        "proportion_smokers_female = (n_smokers_female / n_smokers)\n",
        "proportion_smokers_female"
      ],
      "execution_count": 83,
      "outputs": [
        {
          "output_type": "execute_result",
          "data": {
            "text/plain": [
              "0.3906856403622251"
            ]
          },
          "metadata": {
            "tags": []
          },
          "execution_count": 83
        }
      ]
    },
    {
      "cell_type": "code",
      "metadata": {
        "id": "b_WFPu036dId",
        "outputId": "ddb27f22-f154-4d9a-a1c0-080363f00895",
        "colab": {
          "base_uri": "https://localhost:8080/"
        }
      },
      "source": [
        "#Standard error\n",
        "se_smokers_male = np.sqrt((proportion_smokers_male * (1 - proportion_smokers_male)) / n_smokers_male)\n",
        "se_smokers_male"
      ],
      "execution_count": 84,
      "outputs": [
        {
          "output_type": "execute_result",
          "data": {
            "text/plain": [
              "0.012979661011895138"
            ]
          },
          "metadata": {
            "tags": []
          },
          "execution_count": 84
        }
      ]
    },
    {
      "cell_type": "code",
      "metadata": {
        "id": "pPHK2FcH6fgI",
        "outputId": "65f4acea-8d03-49df-b881-c17a6512c75c",
        "colab": {
          "base_uri": "https://localhost:8080/"
        }
      },
      "source": [
        "#standard error\n",
        "se_smokers_female = np.sqrt((proportion_smokers_female * (1 - proportion_smokers_female))/ n_smokers_female)\n",
        "se_smokers_female"
      ],
      "execution_count": 85,
      "outputs": [
        {
          "output_type": "execute_result",
          "data": {
            "text/plain": [
              "0.016209526631489866"
            ]
          },
          "metadata": {
            "tags": []
          },
          "execution_count": 85
        }
      ]
    },
    {
      "cell_type": "code",
      "metadata": {
        "id": "oAMnbRaz6iBw",
        "outputId": "501b0d14-b96b-4e81-d863-e5e9efb156a8",
        "colab": {
          "base_uri": "https://localhost:8080/"
        }
      },
      "source": [
        "print('Lower Boundary Male: ', proportion_smokers_male -1.96 * se_smokers_male)\n",
        "print('Upper Boundary Male: ', proportion_smokers_male +1.96 * se_smokers_male)"
      ],
      "execution_count": 86,
      "outputs": [
        {
          "output_type": "stream",
          "text": [
            "Lower Boundary Male:  0.5838742240544604\n",
            "Upper Boundary Male:  0.6347544952210894\n"
          ],
          "name": "stdout"
        }
      ]
    },
    {
      "cell_type": "code",
      "metadata": {
        "id": "syJRRnKC6smI",
        "outputId": "bd1aa185-5407-4e47-bdae-9f596c191717",
        "colab": {
          "base_uri": "https://localhost:8080/"
        }
      },
      "source": [
        "print('Lower Boundary Female: ', proportion_smokers_female - 1.96 * se_smokers_female)\n",
        "print('Upper Boundary Female: ', proportion_smokers_female + 1.96 * se_smokers_female)"
      ],
      "execution_count": 87,
      "outputs": [
        {
          "output_type": "stream",
          "text": [
            "Lower Boundary Female:  0.35891496816450497\n",
            "Upper Boundary Female:  0.4224563125599452\n"
          ],
          "name": "stdout"
        }
      ]
    },
    {
      "cell_type": "code",
      "metadata": {
        "id": "uP44x2oY6ydP",
        "outputId": "778d899e-a17c-4163-c486-7f8fa2f0606d",
        "colab": {
          "base_uri": "https://localhost:8080/"
        }
      },
      "source": [
        "proportion_smokers_gender_diff = proportion_smokers_male - proportion_smokers_female\n",
        "proportion_smokers_gender_diff"
      ],
      "execution_count": 88,
      "outputs": [
        {
          "output_type": "execute_result",
          "data": {
            "text/plain": [
              "0.21862871927554983"
            ]
          },
          "metadata": {
            "tags": []
          },
          "execution_count": 88
        }
      ]
    },
    {
      "cell_type": "code",
      "metadata": {
        "id": "XStaQIok60zJ"
      },
      "source": [
        "se_proportion_smokers_diff = np.sqrt((se_smokers_male**2) + (se_smokers_female**2))"
      ],
      "execution_count": 89,
      "outputs": []
    },
    {
      "cell_type": "code",
      "metadata": {
        "id": "KNoyqVZh63Sw",
        "outputId": "75459395-218a-45ba-a7be-82d5590d4a7f",
        "colab": {
          "base_uri": "https://localhost:8080/"
        }
      },
      "source": [
        "print('Lower Boundary Gender Difference: ', proportion_smokers_gender_diff - 1.96 * se_proportion_smokers_diff)\n",
        "print('Upper Boundary Gender Difference: ', proportion_smokers_gender_diff + 1.96 * se_proportion_smokers_diff)"
      ],
      "execution_count": 90,
      "outputs": [
        {
          "output_type": "stream",
          "text": [
            "Lower Boundary Gender Difference:  0.17792766142206878\n",
            "Upper Boundary Gender Difference:  0.2593297771290309\n"
          ],
          "name": "stdout"
        }
      ]
    },
    {
      "cell_type": "code",
      "metadata": {
        "id": "dYMWie9Z66PX",
        "outputId": "00c35757-8994-4d0f-80cb-e61e3447ccd9",
        "colab": {
          "base_uri": "https://localhost:8080/"
        }
      },
      "source": [
        "0.2593297771290309-0.17792766142206878\n"
      ],
      "execution_count": 91,
      "outputs": [
        {
          "output_type": "execute_result",
          "data": {
            "text/plain": [
              "0.0814021157069621"
            ]
          },
          "metadata": {
            "tags": []
          },
          "execution_count": 91
        }
      ]
    },
    {
      "cell_type": "markdown",
      "metadata": {
        "id": "mmM1wM41NeQO"
      },
      "source": [
        "__Q2a.__ Discuss why it may be relevant to report the proportions of smokers who are female and male, and contrast this to reporting the proportions of males and females who smoke."
      ]
    },
    {
      "cell_type": "markdown",
      "metadata": {
        "id": "S5iYMTE4NjoL"
      },
      "source": [
        "It is relevant to report the proportions of smokers who are female and male to make comparisons between these 2 groups."
      ]
    },
    {
      "cell_type": "markdown",
      "metadata": {
        "id": "TA84Ssv3OAwI"
      },
      "source": [
        "__Q2b.__ How does the width of the confidence interval for the difference of the two proportions compare to the widths of the confidence intervals for each proportion separately?"
      ]
    },
    {
      "cell_type": "markdown",
      "metadata": {
        "id": "hQFFBScJOKI9"
      },
      "source": [
        "The confidence interval for the difference of the two proportions is wider than the confidence intervals for each proportion separately."
      ]
    },
    {
      "cell_type": "markdown",
      "metadata": {
        "id": "mSZ3mQn7DXdB"
      },
      "source": [
        "## Question 3\n",
        "\n",
        "Construct a 95% interval for height ([BMXHT](https://wwwn.cdc.gov/Nchs/Nhanes/2015-2016/BMX_I.htm#BMXHT)) in centimeters.  Then convert height from centimeters to inches by dividing by 2.54, and construct a 95% confidence interval for height in inches.  Finally, convert the endpoints (the lower and upper confidence limits) of the confidence interval from inches to back to centimeters   "
      ]
    },
    {
      "cell_type": "code",
      "metadata": {
        "id": "B1IjSYrk68hV"
      },
      "source": [
        "height_cm = df['BMXHT']"
      ],
      "execution_count": 92,
      "outputs": []
    },
    {
      "cell_type": "code",
      "metadata": {
        "id": "ALLh8BJT7IKk"
      },
      "source": [
        "height_cm = height_cm[~height_cm.isna()]\n",
        "height_cm.reset_index(inplace=True, drop=True)"
      ],
      "execution_count": 93,
      "outputs": []
    },
    {
      "cell_type": "code",
      "metadata": {
        "id": "wT1o5qwS7KgR",
        "outputId": "c0b53efe-b405-41ec-81df-05568477a1fc",
        "colab": {
          "base_uri": "https://localhost:8080/"
        }
      },
      "source": [
        "np.mean(height_cm)"
      ],
      "execution_count": 94,
      "outputs": [
        {
          "output_type": "execute_result",
          "data": {
            "text/plain": [
              "166.14283447911131"
            ]
          },
          "metadata": {
            "tags": []
          },
          "execution_count": 94
        }
      ]
    },
    {
      "cell_type": "code",
      "metadata": {
        "id": "hP-Z4rsF7Msa"
      },
      "source": [
        "height_inches = height_cm/2.54"
      ],
      "execution_count": 95,
      "outputs": []
    },
    {
      "cell_type": "code",
      "metadata": {
        "id": "n_FQuVnb7PY8"
      },
      "source": [
        "height_inches = height_inches[~height_inches.isna()]\n",
        "height_inches.reset_index(inplace=True, drop=True)"
      ],
      "execution_count": 96,
      "outputs": []
    },
    {
      "cell_type": "code",
      "metadata": {
        "id": "_jTwx3_q7Rxd",
        "outputId": "1de6e8dd-8b94-4e6b-dd38-3af4b58ad69d",
        "colab": {
          "base_uri": "https://localhost:8080/"
        }
      },
      "source": [
        "np.mean(height_inches)"
      ],
      "execution_count": 97,
      "outputs": [
        {
          "output_type": "execute_result",
          "data": {
            "text/plain": [
              "65.41056475555557"
            ]
          },
          "metadata": {
            "tags": []
          },
          "execution_count": 97
        }
      ]
    },
    {
      "cell_type": "code",
      "metadata": {
        "id": "4At5kJzb7URl",
        "outputId": "a0ee8f43-8c13-4c59-d143-3014d6017334",
        "colab": {
          "base_uri": "https://localhost:8080/"
        }
      },
      "source": [
        "n_height_inches = len(height_inches)\n",
        "n_height_inches"
      ],
      "execution_count": 98,
      "outputs": [
        {
          "output_type": "execute_result",
          "data": {
            "text/plain": [
              "5673"
            ]
          },
          "metadata": {
            "tags": []
          },
          "execution_count": 98
        }
      ]
    },
    {
      "cell_type": "code",
      "metadata": {
        "id": "wTv0LhxS7Wyz",
        "outputId": "fded62ac-144a-4c1e-9257-eaa307897f56",
        "colab": {
          "base_uri": "https://localhost:8080/"
        }
      },
      "source": [
        "std_height_inches = np.std(height_inches)\n",
        "std_height_inches"
      ],
      "execution_count": 99,
      "outputs": [
        {
          "output_type": "execute_result",
          "data": {
            "text/plain": [
              "3.9678642989700457"
            ]
          },
          "metadata": {
            "tags": []
          },
          "execution_count": 99
        }
      ]
    },
    {
      "cell_type": "code",
      "metadata": {
        "id": "t1bfiDOg7Zau",
        "outputId": "034b4124-e908-4914-fd21-e5e2671ad873",
        "colab": {
          "base_uri": "https://localhost:8080/"
        }
      },
      "source": [
        "print('Lower Boundary Inches: ', np.mean(height_inches) - 1.96 * (std_height_inches/np.sqrt(n_height_inches)))\n",
        "print('Upper Boundary Inches: ', np.mean(height_inches) + 1.96 * (std_height_inches/np.sqrt(n_height_inches)))"
      ],
      "execution_count": 100,
      "outputs": [
        {
          "output_type": "stream",
          "text": [
            "Lower Boundary Inches:  65.30731084935765\n",
            "Upper Boundary Inches:  65.51381866175349\n"
          ],
          "name": "stdout"
        }
      ]
    },
    {
      "cell_type": "code",
      "metadata": {
        "id": "mkkK7-zT7cLw",
        "outputId": "fbd5f7fb-576a-44f4-f2a5-e8c779cafe23",
        "colab": {
          "base_uri": "https://localhost:8080/"
        }
      },
      "source": [
        "sm.stats.DescrStatsW(height_inches).tconfint_mean()"
      ],
      "execution_count": 101,
      "outputs": [
        {
          "output_type": "execute_result",
          "data": {
            "text/plain": [
              "(65.30728160535489, 65.51384790575659)"
            ]
          },
          "metadata": {
            "tags": []
          },
          "execution_count": 101
        }
      ]
    },
    {
      "cell_type": "code",
      "metadata": {
        "id": "2sq30TgN7esy",
        "outputId": "46656bd2-737b-4e04-c662-ae9154d8ffba",
        "colab": {
          "base_uri": "https://localhost:8080/"
        }
      },
      "source": [
        "print('Lower Boundary cm: ', (np.mean(height_inches) - 1.96 * (std_height_inches/np.sqrt(n_height_inches)))*2.54)\n",
        "print('Upper Boundary cm: ', (np.mean(height_inches) + 1.96 * (std_height_inches/np.sqrt(n_height_inches)))*2.54)"
      ],
      "execution_count": 102,
      "outputs": [
        {
          "output_type": "stream",
          "text": [
            "Lower Boundary cm:  165.88056955736843\n",
            "Upper Boundary cm:  166.40509940085386\n"
          ],
          "name": "stdout"
        }
      ]
    },
    {
      "cell_type": "markdown",
      "metadata": {
        "id": "5BOoMPUVOl1K"
      },
      "source": [
        "__Q3a.__ Describe how the confidence interval constructed in centimeters relates to the confidence interval constructed in inches."
      ]
    },
    {
      "cell_type": "markdown",
      "metadata": {
        "id": "ZVahhS83Oq3a"
      },
      "source": [
        "Both confidence intervals are very narrow and the sample mean for inches and cms fall inside the population confidence interval."
      ]
    },
    {
      "cell_type": "markdown",
      "metadata": {
        "id": "nevjOE_D7sM6"
      },
      "source": [
        "## Question 4\n",
        "\n",
        "Partition the sample based on 10-year age bands, i.e. the resulting groups will consist of people with ages from 18-28, 29-38, etc. Construct 95% confidence intervals for the difference between the mean BMI for females and for males within each age band."
      ]
    },
    {
      "cell_type": "code",
      "metadata": {
        "id": "_sDrRwzQXrLh",
        "outputId": "55e74c7a-838d-4868-f9b2-d568a91418bf",
        "colab": {
          "base_uri": "https://localhost:8080/"
        }
      },
      "source": [
        "df[\"RIDAGEYR\"].describe()"
      ],
      "execution_count": 6,
      "outputs": [
        {
          "output_type": "execute_result",
          "data": {
            "text/plain": [
              "count    5735.000000\n",
              "mean       48.052310\n",
              "std        18.431011\n",
              "min        18.000000\n",
              "25%        32.000000\n",
              "50%        48.000000\n",
              "75%        63.000000\n",
              "max        80.000000\n",
              "Name: RIDAGEYR, dtype: float64"
            ]
          },
          "metadata": {
            "tags": []
          },
          "execution_count": 6
        }
      ]
    },
    {
      "cell_type": "code",
      "metadata": {
        "id": "3gqIjJuz77r3"
      },
      "source": [
        "df[\"Age_Group\"] = pd.cut(df.RIDAGEYR, [18,28,38,48,58,68,78,88])"
      ],
      "execution_count": 8,
      "outputs": []
    },
    {
      "cell_type": "code",
      "metadata": {
        "id": "JKLGwf7BAa1_"
      },
      "source": [
        ""
      ],
      "execution_count": null,
      "outputs": []
    },
    {
      "cell_type": "markdown",
      "metadata": {
        "id": "-_NY5IhuBTQe"
      },
      "source": [
        "## Question 5\n",
        "\n",
        "Construct a 95% confidence interval for the first and second systolic blood pressure measures, and for the difference between the first and second systolic blood pressure measurements within a subject."
      ]
    },
    {
      "cell_type": "code",
      "metadata": {
        "id": "dTZfVU82BfKx"
      },
      "source": [
        "first_systolic = df['BPXSY1']\n",
        "second_systolic = df['BPXSY2']\n",
        "difference_systolic = first_systolic - second_systolic"
      ],
      "execution_count": 19,
      "outputs": []
    },
    {
      "cell_type": "code",
      "metadata": {
        "id": "AD5eIADVCrCD"
      },
      "source": [
        "first_systolic = first_systolic[~first_systolic.isna()]\n",
        "first_systolic.reset_index(inplace=True, drop=True)"
      ],
      "execution_count": 23,
      "outputs": []
    },
    {
      "cell_type": "code",
      "metadata": {
        "id": "1-Al5pnVCt4Q"
      },
      "source": [
        "second_systolic = second_systolic[~second_systolic.isna()]\n",
        "second_systolic.reset_index(inplace=True, drop=True)"
      ],
      "execution_count": 24,
      "outputs": []
    },
    {
      "cell_type": "code",
      "metadata": {
        "id": "m6_7gpRSC3K1"
      },
      "source": [
        "difference_systolic = difference_systolic[~difference_systolic.isna()]\n",
        "difference_systolic.reset_index(inplace=True, drop=True)"
      ],
      "execution_count": 25,
      "outputs": []
    },
    {
      "cell_type": "code",
      "metadata": {
        "id": "uItvWlwyCYgm",
        "outputId": "b87ae324-293c-4a12-f101-c42f1c075734",
        "colab": {
          "base_uri": "https://localhost:8080/"
        }
      },
      "source": [
        "#first systolic blood pressure\n",
        "lower, upper = sm.stats.DescrStatsW(first_systolic).tconfint_mean()\n",
        "print(\"Lower Boundary:\", lower, \"\\n\", \"Upper Boundary:\", upper, \"\\n\", \"Diff:\", abs(upper)-abs(lower) )"
      ],
      "execution_count": 40,
      "outputs": [
        {
          "output_type": "stream",
          "text": [
            "Lower Boundary: 124.59163222328895 \n",
            " Upper Boundary: 125.57759569746646 \n",
            " Diff: 0.9859634741775096\n"
          ],
          "name": "stdout"
        }
      ]
    },
    {
      "cell_type": "code",
      "metadata": {
        "id": "mQxSxKSIDL7H",
        "outputId": "126b3db6-7bfc-4a69-8f3e-fb264c710bc4",
        "colab": {
          "base_uri": "https://localhost:8080/"
        }
      },
      "source": [
        "#second systolic blood pressure\n",
        "lower, upper = sm.stats.DescrStatsW(second_systolic).tconfint_mean()\n",
        "print(\"Lower Boundary:\", lower, \"\\n\", \"Upper Boundary:\", upper, \"\\n\", \"Diff:\", abs(upper)-abs(lower) )"
      ],
      "execution_count": 41,
      "outputs": [
        {
          "output_type": "stream",
          "text": [
            "Lower Boundary: 124.29482629577244 \n",
            " Upper Boundary: 125.27120803123749 \n",
            " Diff: 0.9763817354650541\n"
          ],
          "name": "stdout"
        }
      ]
    },
    {
      "cell_type": "code",
      "metadata": {
        "id": "DjEOuG9PDBit",
        "outputId": "8e761d9e-1479-4cb7-beb8-f4ea04074c3d",
        "colab": {
          "base_uri": "https://localhost:8080/"
        }
      },
      "source": [
        "#difference\n",
        "lower, upper = sm.stats.DescrStatsW(difference_systolic).tconfint_mean()\n",
        "print(\"Lower Boundary:\", lower, \"\\n\", \"Upper Boundary:\", upper, \"\\n\", \"Diff:\", abs(upper)-abs(lower) )"
      ],
      "execution_count": 42,
      "outputs": [
        {
          "output_type": "stream",
          "text": [
            "Lower Boundary: 0.5399696008802797 \n",
            " Upper Boundary: 0.8100024609561889 \n",
            " Diff: 0.2700328600759092\n"
          ],
          "name": "stdout"
        }
      ]
    },
    {
      "cell_type": "markdown",
      "metadata": {
        "id": "3rKcjfCZDtpV"
      },
      "source": [
        "__Q5a.__ Based on these confidence intervals, would you say that a difference of zero between the population mean values of the first and second systolic blood pressure measures is consistent with the data?"
      ]
    },
    {
      "cell_type": "markdown",
      "metadata": {
        "id": "ROKfIhVFFg40"
      },
      "source": [
        "__Q5b.__ Discuss how the width of the confidence interval for the within-subject difference compares to the widths of the confidence intervals for the first and second measures."
      ]
    },
    {
      "cell_type": "markdown",
      "metadata": {
        "id": "JVyIj-2-GHfu"
      },
      "source": [
        "Within-subject difference is narrower."
      ]
    },
    {
      "cell_type": "markdown",
      "metadata": {
        "id": "iYPqVaCxGXGk"
      },
      "source": [
        "## Question 6\n",
        "\n",
        "Construct a 95% confidence interval for the mean difference between the average age of a smoker, and the average age of a non-smoker."
      ]
    },
    {
      "cell_type": "code",
      "metadata": {
        "id": "ZAwwBeTdHCXl"
      },
      "source": [
        "smokers = df[df['SMQ020'] ==1]['RIDAGEYR']\n",
        "smokers = smokers[~smokers.isna()]\n",
        "smokers.reset_index(inplace=True, drop=True)"
      ],
      "execution_count": 45,
      "outputs": []
    },
    {
      "cell_type": "code",
      "metadata": {
        "id": "A9OG-xWiHZvc",
        "outputId": "13b05a9d-20d5-409f-f3b6-5bebc3ec63e4",
        "colab": {
          "base_uri": "https://localhost:8080/"
        }
      },
      "source": [
        "df['SMQ020'].unique()"
      ],
      "execution_count": 46,
      "outputs": [
        {
          "output_type": "execute_result",
          "data": {
            "text/plain": [
              "array([1, 2, 7, 9])"
            ]
          },
          "metadata": {
            "tags": []
          },
          "execution_count": 46
        }
      ]
    },
    {
      "cell_type": "code",
      "metadata": {
        "id": "coOycFkc8Qwj"
      },
      "source": [
        "non_smokers = df[df['SMQ020'] !=1]['RIDAGEYR']\n",
        "non_smokers = non_smokers[~non_smokers.isna()]\n",
        "non_smokers.reset_index(inplace=True, drop=True)"
      ],
      "execution_count": 47,
      "outputs": []
    },
    {
      "cell_type": "code",
      "metadata": {
        "id": "i1qH0vRU8Ys1",
        "outputId": "b59d9775-47fa-405e-cc67-6cc587a1f202",
        "colab": {
          "base_uri": "https://localhost:8080/"
        }
      },
      "source": [
        "smokers_temp = sm.stats.DescrStatsW(smokers)\n",
        "non_smokers_temp = sm.stats.DescrStatsW(non_smokers)\n",
        "\n",
        "compare_means = sm.stats.CompareMeans(smokers_temp, non_smokers_temp)\n",
        "lower, upper = compare_means.tconfint_diff(usevar='pooled')\n",
        "print(\"pooled: \", lower, \",\", upper)"
      ],
      "execution_count": 49,
      "outputs": [
        {
          "output_type": "stream",
          "text": [
            "pooled:  5.833562476381499 , 7.746041103858306\n"
          ],
          "name": "stdout"
        }
      ]
    },
    {
      "cell_type": "markdown",
      "metadata": {
        "id": "NVI_d_TS8dqk"
      },
      "source": [
        "Q6a. Use graphical and numerical techniques to compare the variation in the ages of smokers to the variation in the ages of non-smokers.\n",
        "\n"
      ]
    },
    {
      "cell_type": "code",
      "metadata": {
        "id": "iA1FKR1k8bhO",
        "outputId": "f8c82e9f-5f0f-4354-959b-58ad48d41991",
        "colab": {
          "base_uri": "https://localhost:8080/"
        }
      },
      "source": [
        "smokers.describe()"
      ],
      "execution_count": 50,
      "outputs": [
        {
          "output_type": "execute_result",
          "data": {
            "text/plain": [
              "count    2319.000000\n",
              "mean       52.096593\n",
              "std        17.461141\n",
              "min        18.000000\n",
              "25%        37.000000\n",
              "50%        54.000000\n",
              "75%        66.000000\n",
              "max        80.000000\n",
              "Name: RIDAGEYR, dtype: float64"
            ]
          },
          "metadata": {
            "tags": []
          },
          "execution_count": 50
        }
      ]
    },
    {
      "cell_type": "code",
      "metadata": {
        "id": "4s9E2MTS8grg",
        "outputId": "57a9fb7c-f654-4793-e153-25539cda6ca0",
        "colab": {
          "base_uri": "https://localhost:8080/"
        }
      },
      "source": [
        "non_smokers.describe()"
      ],
      "execution_count": 51,
      "outputs": [
        {
          "output_type": "execute_result",
          "data": {
            "text/plain": [
              "count    3416.000000\n",
              "mean       45.306792\n",
              "std        18.568337\n",
              "min        18.000000\n",
              "25%        29.000000\n",
              "50%        44.000000\n",
              "75%        60.000000\n",
              "max        80.000000\n",
              "Name: RIDAGEYR, dtype: float64"
            ]
          },
          "metadata": {
            "tags": []
          },
          "execution_count": 51
        }
      ]
    },
    {
      "cell_type": "code",
      "metadata": {
        "id": "UNqEz3QK8jD9",
        "outputId": "c9736c55-f17d-43bb-dae1-994e48fdc95a",
        "colab": {
          "base_uri": "https://localhost:8080/",
          "height": 350
        }
      },
      "source": [
        "sns.boxplot(smokers)"
      ],
      "execution_count": 52,
      "outputs": [
        {
          "output_type": "stream",
          "text": [
            "/usr/local/lib/python3.6/dist-packages/seaborn/_decorators.py:43: FutureWarning: Pass the following variable as a keyword arg: x. From version 0.12, the only valid positional argument will be `data`, and passing other arguments without an explicit keyword will result in an error or misinterpretation.\n",
            "  FutureWarning\n"
          ],
          "name": "stderr"
        },
        {
          "output_type": "execute_result",
          "data": {
            "text/plain": [
              "<matplotlib.axes._subplots.AxesSubplot at 0x7f069599a400>"
            ]
          },
          "metadata": {
            "tags": []
          },
          "execution_count": 52
        },
        {
          "output_type": "display_data",
          "data": {
            "image/png": "[encoded data removed]",
            "text/plain": [
              "<Figure size 432x288 with 1 Axes>"
            ]
          },
          "metadata": {
            "tags": [],
            "needs_background": "light"
          }
        }
      ]
    },
    {
      "cell_type": "code",
      "metadata": {
        "id": "MfLKxAZ28lX_",
        "outputId": "bdbd6091-1927-4dcd-a31f-46d44ad3e2b0",
        "colab": {
          "base_uri": "https://localhost:8080/",
          "height": 350
        }
      },
      "source": [
        "sns.boxplot(non_smokers)"
      ],
      "execution_count": 53,
      "outputs": [
        {
          "output_type": "stream",
          "text": [
            "/usr/local/lib/python3.6/dist-packages/seaborn/_decorators.py:43: FutureWarning: Pass the following variable as a keyword arg: x. From version 0.12, the only valid positional argument will be `data`, and passing other arguments without an explicit keyword will result in an error or misinterpretation.\n",
            "  FutureWarning\n"
          ],
          "name": "stderr"
        },
        {
          "output_type": "execute_result",
          "data": {
            "text/plain": [
              "<matplotlib.axes._subplots.AxesSubplot at 0x7f0695b5eb00>"
            ]
          },
          "metadata": {
            "tags": []
          },
          "execution_count": 53
        },
        {
          "output_type": "display_data",
          "data": {
            "image/png": "[encoded data removed]",
            "text/plain": [
              "<Figure size 432x288 with 1 Axes>"
            ]
          },
          "metadata": {
            "tags": [],
            "needs_background": "light"
          }
        }
      ]
    },
    {
      "cell_type": "markdown",
      "metadata": {
        "id": "ECmBfOQO8qbP"
      },
      "source": [
        "Q6b. Does it appear that uncertainty about the mean age of smokers, or uncertainty about the mean age of non-smokers contributed more to the uncertainty for the mean difference that we are focusing on here?"
      ]
    }
  ]
}