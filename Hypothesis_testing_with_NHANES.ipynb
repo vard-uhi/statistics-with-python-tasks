{
  "nbformat": 4,
  "nbformat_minor": 0,
  "metadata": {
    "colab": {
      "name": "2_Practice Hypothesis testing with NHANES.ipynb",
      "provenance": [],
      "collapsed_sections": [
        "IntEHnppMoMT"
      ],
      "authorship_tag": "ABX9TyMubaMZs4XZucgtBL8R8ELR",
      "include_colab_link": true
    },
    "kernelspec": {
      "name": "python3",
      "display_name": "Python 3"
    }
  },
  "cells": [
    {
      "cell_type": "markdown",
      "metadata": {
        "id": "view-in-github",
        "colab_type": "text"
      },
      "source": [
        "<a href=\"https://colab.research.google.com/github/vard-uhi/statistics-with-python-tasks/blob/main/Hypothesis_testing_with_NHANES.ipynb\" target=\"_parent\"><img src=\"https://colab.research.google.com/assets/colab-badge.svg\" alt=\"Open In Colab\"/></a>"
      ]
    },
    {
      "cell_type": "markdown",
      "metadata": {
        "id": "qi8O57sd0LSK"
      },
      "source": [
        "# Practice notebook for hypothesis tests using NHANES data\n",
        "\n",
        "This notebook will give you the opportunity to perform some hypothesis tests with the NHANES data that are similar to\n",
        "what was done in the week 3 case study notebook.\n",
        "\n",
        "You can enter your code into the cells that say \"enter your code here\", and you can type responses to the questions into the cells that say \"Type Markdown and Latex\".\n",
        "\n",
        "Note that most of the code that you will need to write below is very similar to code that appears in the case study notebook.  You will need to edit code from that notebook in small ways to adapt it to the prompts below.\n",
        "\n",
        "To get started, we will use the same module imports and read the data in the same way as we did in the case study:"
      ]
    },
    {
      "cell_type": "code",
      "metadata": {
        "id": "q0kVyLbJ0HXS",
        "outputId": "d07be8ea-1162-4b2d-8c4a-fc8b74035026",
        "colab": {
          "base_uri": "https://localhost:8080/"
        }
      },
      "source": [
        "%matplotlib inline\n",
        "import matplotlib.pyplot as plt\n",
        "import seaborn as sns\n",
        "import pandas as pd\n",
        "import statsmodels.api as sm\n",
        "import numpy as np"
      ],
      "execution_count": 1,
      "outputs": [
        {
          "output_type": "stream",
          "text": [
            "/usr/local/lib/python3.6/dist-packages/statsmodels/tools/_testing.py:19: FutureWarning: pandas.util.testing is deprecated. Use the functions in the public API at pandas.testing instead.\n",
            "  import pandas.util.testing as tm\n"
          ],
          "name": "stderr"
        }
      ]
    },
    {
      "cell_type": "code",
      "metadata": {
        "id": "g3wyfLwK0Q5T",
        "outputId": "f50bd6eb-fa7d-4583-ebd0-c4f5912d6a81",
        "colab": {
          "resources": {
            "http://localhost:8080/nbextensions/google.colab/files.js": {
              "data": "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",
              "ok": true,
              "headers": [
                [
                  "content-type",
                  "application/javascript"
                ]
              ],
              "status": 200,
              "status_text": ""
            }
          },
          "base_uri": "https://localhost:8080/",
          "height": 72
        }
      },
      "source": [
        "#load the data\n",
        "from google.colab import files\n",
        "data_to_load = files.upload()"
      ],
      "execution_count": 2,
      "outputs": [
        {
          "output_type": "display_data",
          "data": {
            "text/html": [
              "\n",
              "     <input type=\"file\" id=\"files-36711dd1-76ae-4250-9346-284dc271513f\" name=\"files[]\" multiple disabled\n",
              "        style=\"border:none\" />\n",
              "     <output id=\"result-36711dd1-76ae-4250-9346-284dc271513f\">\n",
              "      Upload widget is only available when the cell has been executed in the\n",
              "      current browser session. Please rerun this cell to enable.\n",
              "      </output>\n",
              "      <script src=\"/nbextensions/google.colab/files.js\"></script> "
            ],
            "text/plain": [
              "<IPython.core.display.HTML object>"
            ]
          },
          "metadata": {
            "tags": []
          }
        },
        {
          "output_type": "stream",
          "text": [
            "Saving nhanes_2015_2016.csv to nhanes_2015_2016.csv\n"
          ],
          "name": "stdout"
        }
      ]
    },
    {
      "cell_type": "code",
      "metadata": {
        "id": "5cDYjS3F0Xq_"
      },
      "source": [
        "import io\n",
        "# .read_csv() assigns the information from the initial *.csv file to this variable\n",
        "raw_data = pd.read_csv(io.BytesIO(data_to_load['nhanes_2015_2016.csv']))"
      ],
      "execution_count": 3,
      "outputs": []
    },
    {
      "cell_type": "code",
      "metadata": {
        "id": "o7q_vjjQ0d23"
      },
      "source": [
        "df = raw_data.copy()"
      ],
      "execution_count": 4,
      "outputs": []
    },
    {
      "cell_type": "code",
      "metadata": {
        "id": "UKMQPMF60gg8",
        "outputId": "24e84c17-1794-4b10-b017-3a00c793e6b1",
        "colab": {
          "base_uri": "https://localhost:8080/",
          "height": 224
        }
      },
      "source": [
        "df.head()"
      ],
      "execution_count": 5,
      "outputs": [
        {
          "output_type": "execute_result",
          "data": {
            "text/html": [
              "<div>\n",
              "<style scoped>\n",
              "    .dataframe tbody tr th:only-of-type {\n",
              "        vertical-align: middle;\n",
              "    }\n",
              "\n",
              "    .dataframe tbody tr th {\n",
              "        vertical-align: top;\n",
              "    }\n",
              "\n",
              "    .dataframe thead th {\n",
              "        text-align: right;\n",
              "    }\n",
              "</style>\n",
              "<table border=\"1\" class=\"dataframe\">\n",
              "  <thead>\n",
              "    <tr style=\"text-align: right;\">\n",
              "      <th></th>\n",
              "      <th>SEQN</th>\n",
              "      <th>ALQ101</th>\n",
              "      <th>ALQ110</th>\n",
              "      <th>ALQ130</th>\n",
              "      <th>SMQ020</th>\n",
              "      <th>RIAGENDR</th>\n",
              "      <th>RIDAGEYR</th>\n",
              "      <th>RIDRETH1</th>\n",
              "      <th>DMDCITZN</th>\n",
              "      <th>DMDEDUC2</th>\n",
              "      <th>DMDMARTL</th>\n",
              "      <th>DMDHHSIZ</th>\n",
              "      <th>WTINT2YR</th>\n",
              "      <th>SDMVPSU</th>\n",
              "      <th>SDMVSTRA</th>\n",
              "      <th>INDFMPIR</th>\n",
              "      <th>BPXSY1</th>\n",
              "      <th>BPXDI1</th>\n",
              "      <th>BPXSY2</th>\n",
              "      <th>BPXDI2</th>\n",
              "      <th>BMXWT</th>\n",
              "      <th>BMXHT</th>\n",
              "      <th>BMXBMI</th>\n",
              "      <th>BMXLEG</th>\n",
              "      <th>BMXARML</th>\n",
              "      <th>BMXARMC</th>\n",
              "      <th>BMXWAIST</th>\n",
              "      <th>HIQ210</th>\n",
              "    </tr>\n",
              "  </thead>\n",
              "  <tbody>\n",
              "    <tr>\n",
              "      <th>0</th>\n",
              "      <td>83732</td>\n",
              "      <td>1.0</td>\n",
              "      <td>NaN</td>\n",
              "      <td>1.0</td>\n",
              "      <td>1</td>\n",
              "      <td>1</td>\n",
              "      <td>62</td>\n",
              "      <td>3</td>\n",
              "      <td>1.0</td>\n",
              "      <td>5.0</td>\n",
              "      <td>1.0</td>\n",
              "      <td>2</td>\n",
              "      <td>134671.37</td>\n",
              "      <td>1</td>\n",
              "      <td>125</td>\n",
              "      <td>4.39</td>\n",
              "      <td>128.0</td>\n",
              "      <td>70.0</td>\n",
              "      <td>124.0</td>\n",
              "      <td>64.0</td>\n",
              "      <td>94.8</td>\n",
              "      <td>184.5</td>\n",
              "      <td>27.8</td>\n",
              "      <td>43.3</td>\n",
              "      <td>43.6</td>\n",
              "      <td>35.9</td>\n",
              "      <td>101.1</td>\n",
              "      <td>2.0</td>\n",
              "    </tr>\n",
              "    <tr>\n",
              "      <th>1</th>\n",
              "      <td>83733</td>\n",
              "      <td>1.0</td>\n",
              "      <td>NaN</td>\n",
              "      <td>6.0</td>\n",
              "      <td>1</td>\n",
              "      <td>1</td>\n",
              "      <td>53</td>\n",
              "      <td>3</td>\n",
              "      <td>2.0</td>\n",
              "      <td>3.0</td>\n",
              "      <td>3.0</td>\n",
              "      <td>1</td>\n",
              "      <td>24328.56</td>\n",
              "      <td>1</td>\n",
              "      <td>125</td>\n",
              "      <td>1.32</td>\n",
              "      <td>146.0</td>\n",
              "      <td>88.0</td>\n",
              "      <td>140.0</td>\n",
              "      <td>88.0</td>\n",
              "      <td>90.4</td>\n",
              "      <td>171.4</td>\n",
              "      <td>30.8</td>\n",
              "      <td>38.0</td>\n",
              "      <td>40.0</td>\n",
              "      <td>33.2</td>\n",
              "      <td>107.9</td>\n",
              "      <td>NaN</td>\n",
              "    </tr>\n",
              "    <tr>\n",
              "      <th>2</th>\n",
              "      <td>83734</td>\n",
              "      <td>1.0</td>\n",
              "      <td>NaN</td>\n",
              "      <td>NaN</td>\n",
              "      <td>1</td>\n",
              "      <td>1</td>\n",
              "      <td>78</td>\n",
              "      <td>3</td>\n",
              "      <td>1.0</td>\n",
              "      <td>3.0</td>\n",
              "      <td>1.0</td>\n",
              "      <td>2</td>\n",
              "      <td>12400.01</td>\n",
              "      <td>1</td>\n",
              "      <td>131</td>\n",
              "      <td>1.51</td>\n",
              "      <td>138.0</td>\n",
              "      <td>46.0</td>\n",
              "      <td>132.0</td>\n",
              "      <td>44.0</td>\n",
              "      <td>83.4</td>\n",
              "      <td>170.1</td>\n",
              "      <td>28.8</td>\n",
              "      <td>35.6</td>\n",
              "      <td>37.0</td>\n",
              "      <td>31.0</td>\n",
              "      <td>116.5</td>\n",
              "      <td>2.0</td>\n",
              "    </tr>\n",
              "    <tr>\n",
              "      <th>3</th>\n",
              "      <td>83735</td>\n",
              "      <td>2.0</td>\n",
              "      <td>1.0</td>\n",
              "      <td>1.0</td>\n",
              "      <td>2</td>\n",
              "      <td>2</td>\n",
              "      <td>56</td>\n",
              "      <td>3</td>\n",
              "      <td>1.0</td>\n",
              "      <td>5.0</td>\n",
              "      <td>6.0</td>\n",
              "      <td>1</td>\n",
              "      <td>102718.00</td>\n",
              "      <td>1</td>\n",
              "      <td>131</td>\n",
              "      <td>5.00</td>\n",
              "      <td>132.0</td>\n",
              "      <td>72.0</td>\n",
              "      <td>134.0</td>\n",
              "      <td>68.0</td>\n",
              "      <td>109.8</td>\n",
              "      <td>160.9</td>\n",
              "      <td>42.4</td>\n",
              "      <td>38.5</td>\n",
              "      <td>37.7</td>\n",
              "      <td>38.3</td>\n",
              "      <td>110.1</td>\n",
              "      <td>2.0</td>\n",
              "    </tr>\n",
              "    <tr>\n",
              "      <th>4</th>\n",
              "      <td>83736</td>\n",
              "      <td>2.0</td>\n",
              "      <td>1.0</td>\n",
              "      <td>1.0</td>\n",
              "      <td>2</td>\n",
              "      <td>2</td>\n",
              "      <td>42</td>\n",
              "      <td>4</td>\n",
              "      <td>1.0</td>\n",
              "      <td>4.0</td>\n",
              "      <td>3.0</td>\n",
              "      <td>5</td>\n",
              "      <td>17627.67</td>\n",
              "      <td>2</td>\n",
              "      <td>126</td>\n",
              "      <td>1.23</td>\n",
              "      <td>100.0</td>\n",
              "      <td>70.0</td>\n",
              "      <td>114.0</td>\n",
              "      <td>54.0</td>\n",
              "      <td>55.2</td>\n",
              "      <td>164.9</td>\n",
              "      <td>20.3</td>\n",
              "      <td>37.4</td>\n",
              "      <td>36.0</td>\n",
              "      <td>27.2</td>\n",
              "      <td>80.4</td>\n",
              "      <td>2.0</td>\n",
              "    </tr>\n",
              "  </tbody>\n",
              "</table>\n",
              "</div>"
            ],
            "text/plain": [
              "    SEQN  ALQ101  ALQ110  ALQ130  ...  BMXARML  BMXARMC  BMXWAIST  HIQ210\n",
              "0  83732     1.0     NaN     1.0  ...     43.6     35.9     101.1     2.0\n",
              "1  83733     1.0     NaN     6.0  ...     40.0     33.2     107.9     NaN\n",
              "2  83734     1.0     NaN     NaN  ...     37.0     31.0     116.5     2.0\n",
              "3  83735     2.0     1.0     1.0  ...     37.7     38.3     110.1     2.0\n",
              "4  83736     2.0     1.0     1.0  ...     36.0     27.2      80.4     2.0\n",
              "\n",
              "[5 rows x 28 columns]"
            ]
          },
          "metadata": {
            "tags": []
          },
          "execution_count": 5
        }
      ]
    },
    {
      "cell_type": "markdown",
      "metadata": {
        "id": "kpjU4mBs0qgG"
      },
      "source": [
        "## Question 1\n",
        "\n",
        "Conduct a hypothesis test (at the 0.05 level) for the null hypothesis that the proportion of women who smoke is equal to the proportion of men who smoke."
      ]
    },
    {
      "cell_type": "code",
      "metadata": {
        "id": "HxWTZL_k0ivl"
      },
      "source": [
        "male_smoke = df[df['RIAGENDR'] == 1]['SMQ020']\n",
        "male_smoke = male_smoke[~male_smoke.isna()]\n",
        "male_smoke.reset_index(inplace=True, drop=True)\n",
        "\n",
        "female_smoke = df[df['RIAGENDR'] == 2]['SMQ020']\n",
        "female_smoke = female_smoke[~female_smoke.isna()]\n",
        "female_smoke.reset_index(inplace=True, drop=True)"
      ],
      "execution_count": 6,
      "outputs": []
    },
    {
      "cell_type": "code",
      "metadata": {
        "id": "cZJNP5Bn89gc",
        "outputId": "3ff21033-2467-4a12-ac98-e4aa72325b69",
        "colab": {
          "base_uri": "https://localhost:8080/"
        }
      },
      "source": [
        "print(sum(male_smoke == 1), \",\", sum(male_smoke != 1))"
      ],
      "execution_count": 7,
      "outputs": [
        {
          "output_type": "stream",
          "text": [
            "1413 , 1346\n"
          ],
          "name": "stdout"
        }
      ]
    },
    {
      "cell_type": "code",
      "metadata": {
        "id": "gQNxWBOL8_r1",
        "outputId": "d10d93aa-b6f9-4612-e462-8fc02cc9d9ac",
        "colab": {
          "base_uri": "https://localhost:8080/"
        }
      },
      "source": [
        "print(sum(female_smoke ==1 ), \",\", sum(female_smoke != 1))"
      ],
      "execution_count": 8,
      "outputs": [
        {
          "output_type": "stream",
          "text": [
            "906 , 2070\n"
          ],
          "name": "stdout"
        }
      ]
    },
    {
      "cell_type": "code",
      "metadata": {
        "id": "4104rMeD9B8X",
        "outputId": "8d256db2-fc6f-4f5e-c958-261dc4d32756",
        "colab": {
          "base_uri": "https://localhost:8080/"
        }
      },
      "source": [
        "sum(male_smoke ==1 ) / len(male_smoke)"
      ],
      "execution_count": 9,
      "outputs": [
        {
          "output_type": "execute_result",
          "data": {
            "text/plain": [
              "0.5121420804639362"
            ]
          },
          "metadata": {
            "tags": []
          },
          "execution_count": 9
        }
      ]
    },
    {
      "cell_type": "code",
      "metadata": {
        "id": "I38cSXro9Exq",
        "outputId": "4fe4bba0-ee32-49a5-f84b-aa0d064d7269",
        "colab": {
          "base_uri": "https://localhost:8080/"
        }
      },
      "source": [
        "sum(female_smoke ==1 ) / len(female_smoke)"
      ],
      "execution_count": 10,
      "outputs": [
        {
          "output_type": "execute_result",
          "data": {
            "text/plain": [
              "0.30443548387096775"
            ]
          },
          "metadata": {
            "tags": []
          },
          "execution_count": 10
        }
      ]
    },
    {
      "cell_type": "code",
      "metadata": {
        "id": "1pMowls99HIQ",
        "outputId": "128e5c99-0d55-4c1e-c7ac-9c0d49422650",
        "colab": {
          "base_uri": "https://localhost:8080/"
        }
      },
      "source": [
        "(np.std(male_smoke)**2) / (np.std(female_smoke)**2)"
      ],
      "execution_count": 11,
      "outputs": [
        {
          "output_type": "execute_result",
          "data": {
            "text/plain": [
              "1.2459917316304396"
            ]
          },
          "metadata": {
            "tags": []
          },
          "execution_count": 11
        }
      ]
    },
    {
      "cell_type": "code",
      "metadata": {
        "id": "4TzfjaiA9JQ6",
        "outputId": "c2a9b1a9-15f7-410c-e76c-66fff2bc069a",
        "colab": {
          "base_uri": "https://localhost:8080/"
        }
      },
      "source": [
        "sm.stats.ttest_ind(male_smoke, female_smoke)"
      ],
      "execution_count": 12,
      "outputs": [
        {
          "output_type": "execute_result",
          "data": {
            "text/plain": [
              "(-13.667880438664463, 7.117170730872684e-42, 5733.0)"
            ]
          },
          "metadata": {
            "tags": []
          },
          "execution_count": 12
        }
      ]
    },
    {
      "cell_type": "markdown",
      "metadata": {
        "id": "OOOkPOTVKBjj"
      },
      "source": [
        "__Q1a.__ Write 1-2 sentences explaining the substance of your findings to someone who does not know anything about statistical hypothesis tests."
      ]
    },
    {
      "cell_type": "markdown",
      "metadata": {
        "id": "X3X7gJXxKXC_"
      },
      "source": [
        "The proportion of women who smoke is significally different from the proportion of men who smoke. We will reject the null hypothesis."
      ]
    },
    {
      "cell_type": "markdown",
      "metadata": {
        "id": "uzE6U0HKKYmj"
      },
      "source": [
        "__Q1b.__ Construct three 95% confidence intervals: one for the proportion of women who smoke, one for the proportion of men who smoke, and one for the difference in the rates of smoking between women and men."
      ]
    },
    {
      "cell_type": "code",
      "metadata": {
        "id": "iK2p-MSoK5yM"
      },
      "source": [
        "import statsmodels.api as sm"
      ],
      "execution_count": 13,
      "outputs": []
    },
    {
      "cell_type": "code",
      "metadata": {
        "id": "i7tpboyl9LSM",
        "outputId": "bf8fc1eb-9f8a-4722-c3ce-170411fec9d1",
        "colab": {
          "base_uri": "https://localhost:8080/"
        }
      },
      "source": [
        "ci_low, ci_upp = sm.stats.proportion_confint(sum(female_smoke == 1), len(female_smoke), alpha=0.05, method='normal')\n",
        "ci_low, ci_upp"
      ],
      "execution_count": 14,
      "outputs": [
        {
          "output_type": "execute_result",
          "data": {
            "text/plain": [
              "(0.2879026244757051, 0.3209683432662304)"
            ]
          },
          "metadata": {
            "tags": []
          },
          "execution_count": 14
        }
      ]
    },
    {
      "cell_type": "code",
      "metadata": {
        "id": "VJDctLpb9REy",
        "outputId": "c9440f19-a4d2-47c7-ba78-be5a26e5a3fe",
        "colab": {
          "base_uri": "https://localhost:8080/"
        }
      },
      "source": [
        "ci_low, ci_upp = sm.stats.proportion_confint(sum(male_smoke==1), len(male_smoke), alpha=0.05, method='normal')\n",
        "ci_low, ci_upp"
      ],
      "execution_count": 15,
      "outputs": [
        {
          "output_type": "execute_result",
          "data": {
            "text/plain": [
              "(0.49349056386167417, 0.5307935970661982)"
            ]
          },
          "metadata": {
            "tags": []
          },
          "execution_count": 15
        }
      ]
    },
    {
      "cell_type": "code",
      "metadata": {
        "id": "qNVlkfgr9UO2",
        "outputId": "4d70b7ea-95bf-4ff2-b57e-28378982d6f0",
        "colab": {
          "base_uri": "https://localhost:8080/"
        }
      },
      "source": [
        "proportion_male_smokers = (sum(male_smoke ==1) / len(male_smoke))\n",
        "proportion_male_smokers"
      ],
      "execution_count": 16,
      "outputs": [
        {
          "output_type": "execute_result",
          "data": {
            "text/plain": [
              "0.5121420804639362"
            ]
          },
          "metadata": {
            "tags": []
          },
          "execution_count": 16
        }
      ]
    },
    {
      "cell_type": "code",
      "metadata": {
        "id": "UNT3TkUt9W1R",
        "outputId": "9f5c5d21-7fa4-4d56-fb8e-10fa0074e6e0",
        "colab": {
          "base_uri": "https://localhost:8080/"
        }
      },
      "source": [
        "proportion_female_smokers = (sum(female_smoke ==1) / len(female_smoke))\n",
        "proportion_female_smokers"
      ],
      "execution_count": 17,
      "outputs": [
        {
          "output_type": "execute_result",
          "data": {
            "text/plain": [
              "0.30443548387096775"
            ]
          },
          "metadata": {
            "tags": []
          },
          "execution_count": 17
        }
      ]
    },
    {
      "cell_type": "code",
      "metadata": {
        "id": "6GXI9aVn9Zqa",
        "outputId": "2d7f1c51-b678-4ad9-d7cc-6e34d1fbd9a2",
        "colab": {
          "base_uri": "https://localhost:8080/"
        }
      },
      "source": [
        "proportion_smokers_gender_diff = proportion_male_smokers - proportion_female_smokers\n",
        "proportion_smokers_gender_diff"
      ],
      "execution_count": 18,
      "outputs": [
        {
          "output_type": "execute_result",
          "data": {
            "text/plain": [
              "0.20770659659296842"
            ]
          },
          "metadata": {
            "tags": []
          },
          "execution_count": 18
        }
      ]
    },
    {
      "cell_type": "code",
      "metadata": {
        "id": "0m1Uf6WU9dF6",
        "outputId": "8956c7ca-8d79-4601-8071-ab37ab1239e7",
        "colab": {
          "base_uri": "https://localhost:8080/"
        }
      },
      "source": [
        "se_smokers_male = np.sqrt((proportion_male_smokers * (1 - proportion_male_smokers)) / len(male_smoke))\n",
        "se_smokers_male"
      ],
      "execution_count": 19,
      "outputs": [
        {
          "output_type": "execute_result",
          "data": {
            "text/plain": [
              "0.009516254762527675"
            ]
          },
          "metadata": {
            "tags": []
          },
          "execution_count": 19
        }
      ]
    },
    {
      "cell_type": "code",
      "metadata": {
        "id": "IOaTcdTk9fsD",
        "outputId": "b633dcec-452e-4646-ff9b-fc14495b0650",
        "colab": {
          "base_uri": "https://localhost:8080/"
        }
      },
      "source": [
        "se_smokers_female = np.sqrt((proportion_female_smokers * (1 - proportion_female_smokers)) / len(female_smoke))\n",
        "se_smokers_female"
      ],
      "execution_count": 20,
      "outputs": [
        {
          "output_type": "execute_result",
          "data": {
            "text/plain": [
              "0.008435287344906213"
            ]
          },
          "metadata": {
            "tags": []
          },
          "execution_count": 20
        }
      ]
    },
    {
      "cell_type": "code",
      "metadata": {
        "id": "OUlR49Cv9kAO",
        "outputId": "601d03b7-c2a5-4c51-c056-1bfa77b29b08",
        "colab": {
          "base_uri": "https://localhost:8080/"
        }
      },
      "source": [
        "se_proportion_smokers_diff = np.sqrt((se_smokers_male**2) + (se_smokers_female**2))\n",
        "se_proportion_smokers_diff"
      ],
      "execution_count": 21,
      "outputs": [
        {
          "output_type": "execute_result",
          "data": {
            "text/plain": [
              "0.012716649609722899"
            ]
          },
          "metadata": {
            "tags": []
          },
          "execution_count": 21
        }
      ]
    },
    {
      "cell_type": "code",
      "metadata": {
        "id": "zsez95_u9nKZ",
        "outputId": "49f6d554-1b1d-448a-fcd6-6b43fd2a73c3",
        "colab": {
          "base_uri": "https://localhost:8080/"
        }
      },
      "source": [
        "print('Lower Boundary Male: ', proportion_smokers_gender_diff - 1.96 * se_proportion_smokers_diff)\n",
        "print('Upper Boundary Male: ', proportion_smokers_gender_diff + 1.96 * se_proportion_smokers_diff)"
      ],
      "execution_count": 22,
      "outputs": [
        {
          "output_type": "stream",
          "text": [
            "Lower Boundary Male:  0.18278196335791153\n",
            "Upper Boundary Male:  0.2326312298280253\n"
          ],
          "name": "stdout"
        }
      ]
    },
    {
      "cell_type": "markdown",
      "metadata": {
        "id": "_iTvlyKIMe5P"
      },
      "source": [
        "__Q1c.__ Comment on any ways in which the confidence intervals that you found in part b reinforce, contradict, or add support to the hypothesis test conducted in part a."
      ]
    },
    {
      "cell_type": "markdown",
      "metadata": {
        "id": "MS1394lcMgIh"
      },
      "source": [
        "The confidence intervals support our conclusion that the the proportion of males who smoke is significant from the proportion of females who smoke. The confidence interval for the proportion of males who smoke does not overlap with the proportion of females who smoke."
      ]
    },
    {
      "cell_type": "markdown",
      "metadata": {
        "id": "IntEHnppMoMT"
      },
      "source": [
        "## Question 2\n",
        "\n",
        "Partition the population into two groups based on whether a person has graduated college or not, using the educational attainment variable [DMDEDUC2](https://wwwn.cdc.gov/Nchs/Nhanes/2015-2016/DEMO_I.htm#DMDEDUC2).  Then conduct a test of the null hypothesis that the average heights (in centimeters) of the two groups are equal.  Next, convert the heights from centimeters to inches, and conduct a test of the null hypothesis that the average heights (in inches) of the two groups are equal."
      ]
    },
    {
      "cell_type": "code",
      "metadata": {
        "id": "gucWlBTb9qDc"
      },
      "source": [
        "graduated_height_cm = df[df['DMDEDUC2'] ==5]['BMXHT']\n",
        "graduated_height_cm = graduated_height_cm[~graduated_height_cm.isna()]\n",
        "graduated_height_cm.reset_index(inplace=True, drop=True)"
      ],
      "execution_count": 23,
      "outputs": []
    },
    {
      "cell_type": "code",
      "metadata": {
        "id": "4LPO4wxnM96F"
      },
      "source": [
        "not_graduated_height_cm = df[df['DMDEDUC2']!=5]['BMXHT']\n",
        "not_graduated_height_cm = not_graduated_height_cm[~not_graduated_height_cm.isna()]\n",
        "not_graduated_height_cm.reset_index(inplace=True, drop=True)"
      ],
      "execution_count": 24,
      "outputs": []
    },
    {
      "cell_type": "code",
      "metadata": {
        "id": "o0eGlJoI9xE6",
        "outputId": "d2d48e84-4e66-402a-e1c1-277a2efe8caf",
        "colab": {
          "base_uri": "https://localhost:8080/"
        }
      },
      "source": [
        "len(graduated_height_cm)"
      ],
      "execution_count": 25,
      "outputs": [
        {
          "output_type": "execute_result",
          "data": {
            "text/plain": [
              "1355"
            ]
          },
          "metadata": {
            "tags": []
          },
          "execution_count": 25
        }
      ]
    },
    {
      "cell_type": "code",
      "metadata": {
        "id": "92n7CG6Z9zpF",
        "outputId": "fbbb2bc5-b029-4314-f409-9677eca52af0",
        "colab": {
          "base_uri": "https://localhost:8080/"
        }
      },
      "source": [
        "len(not_graduated_height_cm)"
      ],
      "execution_count": 26,
      "outputs": [
        {
          "output_type": "execute_result",
          "data": {
            "text/plain": [
              "4318"
            ]
          },
          "metadata": {
            "tags": []
          },
          "execution_count": 26
        }
      ]
    },
    {
      "cell_type": "code",
      "metadata": {
        "id": "3KaiCN--91rF",
        "outputId": "1ebdb43b-aca0-4051-9b07-7e634f366ba4",
        "colab": {
          "base_uri": "https://localhost:8080/"
        }
      },
      "source": [
        "graduated_height_cm.mean()"
      ],
      "execution_count": 27,
      "outputs": [
        {
          "output_type": "execute_result",
          "data": {
            "text/plain": [
              "167.85535055350562"
            ]
          },
          "metadata": {
            "tags": []
          },
          "execution_count": 27
        }
      ]
    },
    {
      "cell_type": "code",
      "metadata": {
        "id": "yvI7K20G932R",
        "outputId": "1e03ab35-7ab0-43d6-db29-dd87f78862cf",
        "colab": {
          "base_uri": "https://localhost:8080/"
        }
      },
      "source": [
        "not_graduated_height_cm.mean()"
      ],
      "execution_count": 28,
      "outputs": [
        {
          "output_type": "execute_result",
          "data": {
            "text/plain": [
              "165.60544233441394"
            ]
          },
          "metadata": {
            "tags": []
          },
          "execution_count": 28
        }
      ]
    },
    {
      "cell_type": "code",
      "metadata": {
        "id": "RQElY1ZN95-Y",
        "outputId": "15eaa6e3-cb4e-4319-e9e6-702a8064c802",
        "colab": {
          "base_uri": "https://localhost:8080/"
        }
      },
      "source": [
        "print(sm.stats.ztest(graduated_height_cm, not_graduated_height_cm))"
      ],
      "execution_count": 29,
      "outputs": [
        {
          "output_type": "stream",
          "text": [
            "(7.2007656698012505, 5.987537169067422e-13)\n"
          ],
          "name": "stdout"
        }
      ]
    },
    {
      "cell_type": "code",
      "metadata": {
        "id": "1iA-6EfF98K1"
      },
      "source": [
        "graduated_height_inches = graduated_height_cm / 2.54\n",
        "graduated_height_inches = graduated_height_inches[~graduated_height_inches.isna()]\n",
        "graduated_height_inches.reset_index(inplace=True, drop=True)"
      ],
      "execution_count": 30,
      "outputs": []
    },
    {
      "cell_type": "code",
      "metadata": {
        "id": "NWZ6ivmH9-xb"
      },
      "source": [
        "not_graduated_height_inches = not_graduated_height_cm / 2.54\n",
        "not_graduated_height_inches = not_graduated_height_inches[~not_graduated_height_inches.isna()]\n",
        "not_graduated_height_inches.reset_index(inplace=True, drop=True)"
      ],
      "execution_count": 31,
      "outputs": []
    },
    {
      "cell_type": "code",
      "metadata": {
        "id": "YA9k8Rgl-BfS",
        "outputId": "98057e56-b047-46d2-913f-7688d6c785c0",
        "colab": {
          "base_uri": "https://localhost:8080/"
        }
      },
      "source": [
        "print(sm.stats.ztest(graduated_height_inches, not_graduated_height_inches))"
      ],
      "execution_count": 32,
      "outputs": [
        {
          "output_type": "stream",
          "text": [
            "(7.200765669801254, 5.987537169067249e-13)\n"
          ],
          "name": "stdout"
        }
      ]
    },
    {
      "cell_type": "markdown",
      "metadata": {
        "id": "ndx1WkRkOB52"
      },
      "source": [
        "__Q2a.__ Based on the analysis performed here, are you confident that people who graduated from college have a different average height compared to people who did not graduate from college?"
      ]
    },
    {
      "cell_type": "markdown",
      "metadata": {
        "id": "Y_v-eqX7OHvm"
      },
      "source": [
        "Yes, we should reject the null hypothesis in favor of the alternative one."
      ]
    },
    {
      "cell_type": "markdown",
      "metadata": {
        "id": "1t01yOw1OJL5"
      },
      "source": [
        "Q2b: How do the results obtained using the heights expressed in inches compare to the results obtained using the heights expressed in centimeters?"
      ]
    },
    {
      "cell_type": "markdown",
      "metadata": {
        "id": "z7m4hR0IOO_S"
      },
      "source": [
        "The z-statistic and p-values are very similar."
      ]
    },
    {
      "cell_type": "markdown",
      "metadata": {
        "id": "QulPH4TzOQUR"
      },
      "source": [
        "## Question 3\n",
        "\n",
        "Conduct a hypothesis test of the null hypothesis that the average BMI for men between 30 and 40 is equal to the average BMI for men between 50 and 60.  Then carry out this test again after log transforming the BMI values."
      ]
    },
    {
      "cell_type": "code",
      "metadata": {
        "id": "r9ScSuR0-EfB"
      },
      "source": [
        "bmi = df[(df['RIDAGEYR'] >= 30) & (df['RIDAGEYR'] <= 40)]\n",
        "bmi.reset_index(inplace=True, drop=True)"
      ],
      "execution_count": 33,
      "outputs": []
    },
    {
      "cell_type": "code",
      "metadata": {
        "id": "xQtXgl5g-KOq"
      },
      "source": [
        "bmi_men = bmi[bmi['RIAGENDR']==1]['BMXBMI']\n",
        "bmi_men = bmi_men[~bmi_men.isna()]\n",
        "bmi_men.reset_index(inplace=True, drop=True)"
      ],
      "execution_count": 35,
      "outputs": []
    },
    {
      "cell_type": "code",
      "metadata": {
        "id": "4QqsTfxv-Mhw"
      },
      "source": [
        "bmi_women = bmi[bmi['RIAGENDR']==2]['BMXBMI']\n",
        "bmi_women = bmi_women[~bmi_women.isna()]\n",
        "bmi_women.reset_index(inplace=True, drop=True)"
      ],
      "execution_count": 37,
      "outputs": []
    },
    {
      "cell_type": "code",
      "metadata": {
        "id": "HdjGhEkS-Ozo",
        "outputId": "cf62e74c-fc7c-48b5-d82c-612597caa1fe",
        "colab": {
          "base_uri": "https://localhost:8080/"
        }
      },
      "source": [
        "len(bmi_men)"
      ],
      "execution_count": 38,
      "outputs": [
        {
          "output_type": "execute_result",
          "data": {
            "text/plain": [
              "488"
            ]
          },
          "metadata": {
            "tags": []
          },
          "execution_count": 38
        }
      ]
    },
    {
      "cell_type": "code",
      "metadata": {
        "id": "k3xyZTuI-Q6q",
        "outputId": "a3ade733-de4d-43ca-d22c-1e3654617035",
        "colab": {
          "base_uri": "https://localhost:8080/"
        }
      },
      "source": [
        "len(bmi_women)"
      ],
      "execution_count": 39,
      "outputs": [
        {
          "output_type": "execute_result",
          "data": {
            "text/plain": [
              "525"
            ]
          },
          "metadata": {
            "tags": []
          },
          "execution_count": 39
        }
      ]
    },
    {
      "cell_type": "code",
      "metadata": {
        "id": "YT82ZNvT-S5H",
        "outputId": "19079c86-d15b-476b-fe04-fa3e5c549e3f",
        "colab": {
          "base_uri": "https://localhost:8080/"
        }
      },
      "source": [
        "print(sm.stats.ztest(bmi_men, bmi_women))"
      ],
      "execution_count": 40,
      "outputs": [
        {
          "output_type": "stream",
          "text": [
            "(-1.109324496826031, 0.26729022096402777)\n"
          ],
          "name": "stdout"
        }
      ]
    },
    {
      "cell_type": "markdown",
      "metadata": {
        "id": "HKJO_BHGSSSz"
      },
      "source": [
        "log"
      ]
    },
    {
      "cell_type": "code",
      "metadata": {
        "id": "T8T0F3ZS-VME"
      },
      "source": [
        "bmi_men_log = np.log(bmi_men)"
      ],
      "execution_count": 42,
      "outputs": []
    },
    {
      "cell_type": "code",
      "metadata": {
        "id": "p_Dem-fx-XVs"
      },
      "source": [
        "bmi_women_log = np.log(bmi_women)"
      ],
      "execution_count": 43,
      "outputs": []
    },
    {
      "cell_type": "code",
      "metadata": {
        "id": "Qe_KemjN-ZKu",
        "outputId": "dab66cf8-877a-49d6-b3ba-4188ef0a5400",
        "colab": {
          "base_uri": "https://localhost:8080/"
        }
      },
      "source": [
        "print(sm.stats.ztest(bmi_men_log, bmi_women_log))"
      ],
      "execution_count": 44,
      "outputs": [
        {
          "output_type": "stream",
          "text": [
            "(-0.4737991644730396, 0.6356431304660779)\n"
          ],
          "name": "stdout"
        }
      ]
    },
    {
      "cell_type": "markdown",
      "metadata": {
        "id": "SKiXtLZIQAPU"
      },
      "source": [
        "__Q3a.__ How would you characterize the evidence that mean BMI differs between these age bands, and how would you characterize the evidence that mean log BMI differs between these age bands?"
      ]
    },
    {
      "cell_type": "markdown",
      "metadata": {
        "id": "EsUVJB3cQC0f"
      },
      "source": [
        "In both, the mean BMI does not significally differ between the two genders. The p-value is higher after applying log transform to our values. Therefore, we fail to reject the null hypothesis."
      ]
    },
    {
      "cell_type": "markdown",
      "metadata": {
        "id": "pr9B8WZBQHe1"
      },
      "source": [
        "## Question 4\n",
        "\n",
        "Suppose we wish to compare the mean BMI between college graduates and people who have not graduated from college, focusing on women between the ages of 30 and 40.  First, consider the variance of BMI within each of these subpopulations using graphical techniques, and through the estimated subpopulation variances.  Then, calculate pooled and unpooled estimates of the standard error for the difference between the mean BMI in the two populations being compared.  Finally, test the null hypothesis that the two population means are equal, using each of the two different standard errors."
      ]
    },
    {
      "cell_type": "code",
      "metadata": {
        "id": "qPAdv9QmQNUE"
      },
      "source": [
        "bmi_female = bmi[bmi['RIAGENDR'] ==2]\n",
        "bmi_female.reset_index(inplace=True, drop=True)"
      ],
      "execution_count": 45,
      "outputs": []
    },
    {
      "cell_type": "code",
      "metadata": {
        "id": "yt1p60ZFQY4J"
      },
      "source": [
        "bmi_female_graduated = bmi_female[bmi_female['DMDEDUC2'] ==5]['BMXBMI']\n",
        "bmi_female_graduated = bmi_female_graduated[~bmi_female_graduated.isna()]\n",
        "bmi_female_graduated.reset_index(inplace=True, drop=True)"
      ],
      "execution_count": 46,
      "outputs": []
    },
    {
      "cell_type": "code",
      "metadata": {
        "id": "blGwVqa1-bXg"
      },
      "source": [
        "bmi_female_not_graduated = bmi_female[bmi_female['DMDEDUC2'].isin([1, 2, 3, 4])]['BMXBMI']\n",
        "bmi_female_not_graduated = bmi_female_not_graduated[~bmi_female_not_graduated.isna()]\n",
        "bmi_female_not_graduated.reset_index(inplace=True, drop=True)"
      ],
      "execution_count": 47,
      "outputs": []
    },
    {
      "cell_type": "code",
      "metadata": {
        "id": "mCRTiKlp-hqG",
        "outputId": "c311796f-0cf6-4105-d813-656b87e9839f",
        "colab": {
          "base_uri": "https://localhost:8080/"
        }
      },
      "source": [
        "bmi_female_graduated.describe()"
      ],
      "execution_count": 48,
      "outputs": [
        {
          "output_type": "execute_result",
          "data": {
            "text/plain": [
              "count    171.000000\n",
              "mean      27.808187\n",
              "std        7.358264\n",
              "min       17.100000\n",
              "25%       22.750000\n",
              "50%       26.300000\n",
              "75%       31.150000\n",
              "max       62.700000\n",
              "Name: BMXBMI, dtype: float64"
            ]
          },
          "metadata": {
            "tags": []
          },
          "execution_count": 48
        }
      ]
    },
    {
      "cell_type": "code",
      "metadata": {
        "id": "Zr2b6Q9j-kRH",
        "outputId": "d35ffc3c-1a3f-46d9-cc87-c04617968ab4",
        "colab": {
          "base_uri": "https://localhost:8080/"
        }
      },
      "source": [
        "bmi_female_not_graduated.describe()"
      ],
      "execution_count": 49,
      "outputs": [
        {
          "output_type": "execute_result",
          "data": {
            "text/plain": [
              "count    354.000000\n",
              "mean      31.257345\n",
              "std        8.256083\n",
              "min       16.600000\n",
              "25%       25.300000\n",
              "50%       29.500000\n",
              "75%       35.875000\n",
              "max       60.900000\n",
              "Name: BMXBMI, dtype: float64"
            ]
          },
          "metadata": {
            "tags": []
          },
          "execution_count": 49
        }
      ]
    },
    {
      "cell_type": "code",
      "metadata": {
        "id": "t9tou8ol-mR4",
        "outputId": "6ea31173-1960-4fd0-de6e-5e5208df6159",
        "colab": {
          "base_uri": "https://localhost:8080/",
          "height": 350
        }
      },
      "source": [
        "sns.boxplot(bmi_female_graduated)"
      ],
      "execution_count": 51,
      "outputs": [
        {
          "output_type": "stream",
          "text": [
            "/usr/local/lib/python3.6/dist-packages/seaborn/_decorators.py:43: FutureWarning: Pass the following variable as a keyword arg: x. From version 0.12, the only valid positional argument will be `data`, and passing other arguments without an explicit keyword will result in an error or misinterpretation.\n",
            "  FutureWarning\n"
          ],
          "name": "stderr"
        },
        {
          "output_type": "execute_result",
          "data": {
            "text/plain": [
              "<matplotlib.axes._subplots.AxesSubplot at 0x7f517b3b0860>"
            ]
          },
          "metadata": {
            "tags": []
          },
          "execution_count": 51
        },
        {
          "output_type": "display_data",
          "data": {
            "image/png": "[encoded data removed]",
            "text/plain": [
              "<Figure size 432x288 with 1 Axes>"
            ]
          },
          "metadata": {
            "tags": [],
            "needs_background": "light"
          }
        }
      ]
    },
    {
      "cell_type": "code",
      "metadata": {
        "id": "zVFIPUSy-qVs",
        "outputId": "2c4cfe9b-be95-434a-e651-25134f1705eb",
        "colab": {
          "base_uri": "https://localhost:8080/",
          "height": 350
        }
      },
      "source": [
        "sns.boxplot(bmi_female_not_graduated)"
      ],
      "execution_count": 52,
      "outputs": [
        {
          "output_type": "stream",
          "text": [
            "/usr/local/lib/python3.6/dist-packages/seaborn/_decorators.py:43: FutureWarning: Pass the following variable as a keyword arg: x. From version 0.12, the only valid positional argument will be `data`, and passing other arguments without an explicit keyword will result in an error or misinterpretation.\n",
            "  FutureWarning\n"
          ],
          "name": "stderr"
        },
        {
          "output_type": "execute_result",
          "data": {
            "text/plain": [
              "<matplotlib.axes._subplots.AxesSubplot at 0x7f517ae09c50>"
            ]
          },
          "metadata": {
            "tags": []
          },
          "execution_count": 52
        },
        {
          "output_type": "display_data",
          "data": {
            "image/png": "[encoded data removed]",
            "text/plain": [
              "<Figure size 432x288 with 1 Axes>"
            ]
          },
          "metadata": {
            "tags": [],
            "needs_background": "light"
          }
        }
      ]
    },
    {
      "cell_type": "code",
      "metadata": {
        "id": "kivVzDrv-q9F",
        "outputId": "0f386dc0-30c8-4de3-85c8-7b204c7812ac",
        "colab": {
          "base_uri": "https://localhost:8080/"
        }
      },
      "source": [
        "(np.std(bmi_female_graduated)**2) / (np.std(bmi_female_not_graduated)**2)"
      ],
      "execution_count": 53,
      "outputs": [
        {
          "output_type": "execute_result",
          "data": {
            "text/plain": [
              "0.791924918261364"
            ]
          },
          "metadata": {
            "tags": []
          },
          "execution_count": 53
        }
      ]
    },
    {
      "cell_type": "code",
      "metadata": {
        "id": "EfcPSzh9-tQ1",
        "outputId": "02b4464c-ee94-4f44-a038-eeb9f6a77db0",
        "colab": {
          "base_uri": "https://localhost:8080/"
        }
      },
      "source": [
        "bmi_female_graduated = sm.stats.DescrStatsW(bmi_female_graduated)\n",
        "bmi_female_not_graduated = sm.stats.DescrStatsW(bmi_female_not_graduated)\n",
        "print(\"pooled: \", sm.stats.CompareMeans(bmi_female_graduated, bmi_female_not_graduated).ztest_ind(usevar='pooled'))\n",
        "print(\"unequal:\", sm.stats.CompareMeans(bmi_female_graduated, bmi_female_not_graduated).ztest_ind(usevar='unequal'))"
      ],
      "execution_count": 54,
      "outputs": [
        {
          "output_type": "stream",
          "text": [
            "pooled:  (-4.643908450956424, 3.4187910067116893e-06)\n",
            "unequal: (-4.833662355599101, 1.340438616920389e-06)\n"
          ],
          "name": "stdout"
        }
      ]
    },
    {
      "cell_type": "markdown",
      "metadata": {
        "id": "FPYjjSdrR0rK"
      },
      "source": [
        "__Q4a.__ Comment on the strength of evidence against the null hypothesis that these two populations have equal mean BMI."
      ]
    },
    {
      "cell_type": "markdown",
      "metadata": {
        "id": "-rzkLfYnR27e"
      },
      "source": [
        "The two populations don't have an equal BMI and we will reject the null hypothesis since the p-value is really small and below our significant level for the alternative hypothesis."
      ]
    },
    {
      "cell_type": "markdown",
      "metadata": {
        "id": "XIYPxNN9R4ZV"
      },
      "source": [
        "__Q4b.__ Comment on the degree to which the two populations have different variances, and on the extent to which the results using different approaches to estimating the standard error of the mean difference give divergent results."
      ]
    },
    {
      "cell_type": "markdown",
      "metadata": {
        "id": "zGwvn31GR-nF"
      },
      "source": [
        "The variance difference between the two populations is not that huge therefore, the two approaches result in very close values and we reach the same conclusion."
      ]
    },
    {
      "cell_type": "markdown",
      "metadata": {
        "id": "FPSwbrJBR_49"
      },
      "source": [
        "## Question 5\n",
        "\n",
        "Conduct a test of the null hypothesis that the first and second diastolic blood pressure measurements within a subject have the same mean values."
      ]
    },
    {
      "cell_type": "code",
      "metadata": {
        "id": "Owxdrq7E-wQc",
        "outputId": "70e03848-7caa-4057-9977-0cdd72090362",
        "colab": {
          "base_uri": "https://localhost:8080/"
        }
      },
      "source": [
        "dx = df[[\"BPXDI1\", \"BPXDI2\"]].dropna()\n",
        "db = dx.BPXDI1 - dx.BPXDI2\n",
        "print(db.mean())\n",
        "sm.stats.ztest(db)"
      ],
      "execution_count": 55,
      "outputs": [
        {
          "output_type": "stream",
          "text": [
            "0.3490407897187558\n"
          ],
          "name": "stdout"
        },
        {
          "output_type": "execute_result",
          "data": {
            "text/plain": [
              "(4.140387087476751, 3.467202439743513e-05)"
            ]
          },
          "metadata": {
            "tags": []
          },
          "execution_count": 55
        }
      ]
    },
    {
      "cell_type": "markdown",
      "metadata": {
        "id": "NSKRezFwSRQ5"
      },
      "source": [
        "__Q5a.__ Briefly describe your findings for an audience that is not familiar with statistical hypothesis testing."
      ]
    },
    {
      "cell_type": "markdown",
      "metadata": {
        "id": "_i-idWKaST52"
      },
      "source": [
        "The first diastolic blood pressure is significally different from the second diastolic blood pressure."
      ]
    },
    {
      "cell_type": "markdown",
      "metadata": {
        "id": "3BdwMln3SYbx"
      },
      "source": [
        "__Q5b.__ Pretend that the first and second diastolic blood pressure measurements were taken on different people.  Modfify the analysis above as appropriate for this setting."
      ]
    },
    {
      "cell_type": "code",
      "metadata": {
        "id": "zsU0OZNA-2Mf"
      },
      "source": [
        "BPXDI1 = df[~df['BPXDI1'].isna()]['BPXDI1']\n",
        "BPXDI1.reset_index(inplace=True, drop=True)\n",
        "BPXDI2 = df[~df['BPXDI2'].isna()]['BPXDI2']\n",
        "BPXDI2.reset_index(inplace=True, drop=True)"
      ],
      "execution_count": 56,
      "outputs": []
    },
    {
      "cell_type": "code",
      "metadata": {
        "id": "UTag4-ss-8A-",
        "outputId": "a307494e-c5f4-46a0-d12b-7d7a5dcf68f2",
        "colab": {
          "base_uri": "https://localhost:8080/"
        }
      },
      "source": [
        "BPXDI1 = sm.stats.DescrStatsW(BPXDI1)\n",
        "BPXDI2 = sm.stats.DescrStatsW(BPXDI2)\n",
        "print(sm.stats.CompareMeans(BPXDI1, BPXDI2).ztest_ind(usevar='pooled'))"
      ],
      "execution_count": 57,
      "outputs": [
        {
          "output_type": "stream",
          "text": [
            "(0.6848982193746493, 0.49340814971248503)\n"
          ],
          "name": "stdout"
        }
      ]
    },
    {
      "cell_type": "markdown",
      "metadata": {
        "id": "Fxw-ae-WSdKE"
      },
      "source": [
        "__Q5c.__ Briefly describe how the approaches used and the results obtained in the preceeding two parts of the question differ."
      ]
    },
    {
      "cell_type": "markdown",
      "metadata": {
        "id": "aSAghjsXSfnM"
      },
      "source": [
        "When we have the two measurments as unpaired we failed to reject the null hypothesis. However, when two measurments are paired, we rejected the null hypothesis as the p-value was below our significance leve."
      ]
    }
  ]
}