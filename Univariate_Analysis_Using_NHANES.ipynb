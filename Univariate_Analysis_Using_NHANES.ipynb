{
  "nbformat": 4,
  "nbformat_minor": 0,
  "metadata": {
    "colab": {
      "name": "1_Practice Univariate Analysis Using NHANES.ipynb",
      "provenance": [],
      "collapsed_sections": [
        "6aDf76uabN2h"
      ],
      "authorship_tag": "ABX9TyN1s4QRSHlbopy4EN0zw5KW",
      "include_colab_link": true
    },
    "kernelspec": {
      "name": "python3",
      "display_name": "Python 3"
    }
  },
  "cells": [
    {
      "cell_type": "markdown",
      "metadata": {
        "id": "view-in-github",
        "colab_type": "text"
      },
      "source": [
        "<a href=\"https://colab.research.google.com/github/vard-uhi/statistics-with-python-tasks/blob/main/Univariate_Analysis_Using_NHANES.ipynb\" target=\"_parent\"><img src=\"https://colab.research.google.com/assets/colab-badge.svg\" alt=\"Open In Colab\"/></a>"
      ]
    },
    {
      "cell_type": "markdown",
      "metadata": {
        "id": "vihD-ob2gv_6"
      },
      "source": [
        "# Practice notebook for univariate analysis using NHANES data\n",
        "\n",
        "This notebook will give you the opportunity to perform some univariate analyses on your own using the NHANES.  These analyses are similar to what was done in the week 2 NHANES case study notebook.\n",
        "\n",
        "You can enter your code into the cells that say \"enter your code here\", and you can type responses to the questions into the cells that say \"Type Markdown and Latex\".\n",
        "\n",
        "Note that most of the code that you will need to write below is very similar to code that appears in the case study notebook.  You will need to edit code from that notebook in small ways to adapt it to the prompts below.\n",
        "\n",
        "To get started, we will use the same module imports and read the data in the same way as we did in the case study:"
      ]
    },
    {
      "cell_type": "code",
      "metadata": {
        "id": "5FCtw-p-gwUy"
      },
      "source": [
        "%matplotlib inline\n",
        "import matplotlib.pyplot as plt\n",
        "import seaborn as sns\n",
        "import pandas as pd\n",
        "import statsmodels.api as sm\n",
        "import numpy as np"
      ],
      "execution_count": 46,
      "outputs": []
    },
    {
      "cell_type": "code",
      "metadata": {
        "id": "QXXkf2EYf-su",
        "outputId": "735baaeb-c6e6-40ad-fc87-59dde6e77d5b",
        "colab": {
          "resources": {
            "http://localhost:8080/nbextensions/google.colab/files.js": {
              "data": "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",
              "ok": true,
              "headers": [
                [
                  "content-type",
                  "application/javascript"
                ]
              ],
              "status": 200,
              "status_text": ""
            }
          },
          "base_uri": "https://localhost:8080/",
          "height": 72
        }
      },
      "source": [
        "#load the data\n",
        "from google.colab import files\n",
        "data_to_load = files.upload()"
      ],
      "execution_count": 3,
      "outputs": [
        {
          "output_type": "display_data",
          "data": {
            "text/html": [
              "\n",
              "     <input type=\"file\" id=\"files-bf3e402c-f446-4480-8850-1b6dd7b1192c\" name=\"files[]\" multiple disabled\n",
              "        style=\"border:none\" />\n",
              "     <output id=\"result-bf3e402c-f446-4480-8850-1b6dd7b1192c\">\n",
              "      Upload widget is only available when the cell has been executed in the\n",
              "      current browser session. Please rerun this cell to enable.\n",
              "      </output>\n",
              "      <script src=\"/nbextensions/google.colab/files.js\"></script> "
            ],
            "text/plain": [
              "<IPython.core.display.HTML object>"
            ]
          },
          "metadata": {
            "tags": []
          }
        },
        {
          "output_type": "stream",
          "text": [
            "Saving nhanes_2015_2016.csv to nhanes_2015_2016.csv\n"
          ],
          "name": "stdout"
        }
      ]
    },
    {
      "cell_type": "code",
      "metadata": {
        "id": "xqFbwzbogZqv"
      },
      "source": [
        "import io\n",
        "# .read_csv() assigns the information from the initial *.csv file to this variable\n",
        "raw_data = pd.read_csv(io.BytesIO(data_to_load['nhanes_2015_2016.csv']))"
      ],
      "execution_count": 4,
      "outputs": []
    },
    {
      "cell_type": "code",
      "metadata": {
        "id": "NUtIHbTxgt-6"
      },
      "source": [
        "df = raw_data.copy()"
      ],
      "execution_count": 5,
      "outputs": []
    },
    {
      "cell_type": "code",
      "metadata": {
        "id": "zovAq_mfhOxI",
        "outputId": "10c545db-884d-40b3-d1d7-1f2194275a6d",
        "colab": {
          "base_uri": "https://localhost:8080/",
          "height": 224
        }
      },
      "source": [
        "df.head()"
      ],
      "execution_count": 6,
      "outputs": [
        {
          "output_type": "execute_result",
          "data": {
            "text/html": [
              "<div>\n",
              "<style scoped>\n",
              "    .dataframe tbody tr th:only-of-type {\n",
              "        vertical-align: middle;\n",
              "    }\n",
              "\n",
              "    .dataframe tbody tr th {\n",
              "        vertical-align: top;\n",
              "    }\n",
              "\n",
              "    .dataframe thead th {\n",
              "        text-align: right;\n",
              "    }\n",
              "</style>\n",
              "<table border=\"1\" class=\"dataframe\">\n",
              "  <thead>\n",
              "    <tr style=\"text-align: right;\">\n",
              "      <th></th>\n",
              "      <th>SEQN</th>\n",
              "      <th>ALQ101</th>\n",
              "      <th>ALQ110</th>\n",
              "      <th>ALQ130</th>\n",
              "      <th>SMQ020</th>\n",
              "      <th>RIAGENDR</th>\n",
              "      <th>RIDAGEYR</th>\n",
              "      <th>RIDRETH1</th>\n",
              "      <th>DMDCITZN</th>\n",
              "      <th>DMDEDUC2</th>\n",
              "      <th>DMDMARTL</th>\n",
              "      <th>DMDHHSIZ</th>\n",
              "      <th>WTINT2YR</th>\n",
              "      <th>SDMVPSU</th>\n",
              "      <th>SDMVSTRA</th>\n",
              "      <th>INDFMPIR</th>\n",
              "      <th>BPXSY1</th>\n",
              "      <th>BPXDI1</th>\n",
              "      <th>BPXSY2</th>\n",
              "      <th>BPXDI2</th>\n",
              "      <th>BMXWT</th>\n",
              "      <th>BMXHT</th>\n",
              "      <th>BMXBMI</th>\n",
              "      <th>BMXLEG</th>\n",
              "      <th>BMXARML</th>\n",
              "      <th>BMXARMC</th>\n",
              "      <th>BMXWAIST</th>\n",
              "      <th>HIQ210</th>\n",
              "    </tr>\n",
              "  </thead>\n",
              "  <tbody>\n",
              "    <tr>\n",
              "      <th>0</th>\n",
              "      <td>83732</td>\n",
              "      <td>1.0</td>\n",
              "      <td>NaN</td>\n",
              "      <td>1.0</td>\n",
              "      <td>1</td>\n",
              "      <td>1</td>\n",
              "      <td>62</td>\n",
              "      <td>3</td>\n",
              "      <td>1.0</td>\n",
              "      <td>5.0</td>\n",
              "      <td>1.0</td>\n",
              "      <td>2</td>\n",
              "      <td>134671.37</td>\n",
              "      <td>1</td>\n",
              "      <td>125</td>\n",
              "      <td>4.39</td>\n",
              "      <td>128.0</td>\n",
              "      <td>70.0</td>\n",
              "      <td>124.0</td>\n",
              "      <td>64.0</td>\n",
              "      <td>94.8</td>\n",
              "      <td>184.5</td>\n",
              "      <td>27.8</td>\n",
              "      <td>43.3</td>\n",
              "      <td>43.6</td>\n",
              "      <td>35.9</td>\n",
              "      <td>101.1</td>\n",
              "      <td>2.0</td>\n",
              "    </tr>\n",
              "    <tr>\n",
              "      <th>1</th>\n",
              "      <td>83733</td>\n",
              "      <td>1.0</td>\n",
              "      <td>NaN</td>\n",
              "      <td>6.0</td>\n",
              "      <td>1</td>\n",
              "      <td>1</td>\n",
              "      <td>53</td>\n",
              "      <td>3</td>\n",
              "      <td>2.0</td>\n",
              "      <td>3.0</td>\n",
              "      <td>3.0</td>\n",
              "      <td>1</td>\n",
              "      <td>24328.56</td>\n",
              "      <td>1</td>\n",
              "      <td>125</td>\n",
              "      <td>1.32</td>\n",
              "      <td>146.0</td>\n",
              "      <td>88.0</td>\n",
              "      <td>140.0</td>\n",
              "      <td>88.0</td>\n",
              "      <td>90.4</td>\n",
              "      <td>171.4</td>\n",
              "      <td>30.8</td>\n",
              "      <td>38.0</td>\n",
              "      <td>40.0</td>\n",
              "      <td>33.2</td>\n",
              "      <td>107.9</td>\n",
              "      <td>NaN</td>\n",
              "    </tr>\n",
              "    <tr>\n",
              "      <th>2</th>\n",
              "      <td>83734</td>\n",
              "      <td>1.0</td>\n",
              "      <td>NaN</td>\n",
              "      <td>NaN</td>\n",
              "      <td>1</td>\n",
              "      <td>1</td>\n",
              "      <td>78</td>\n",
              "      <td>3</td>\n",
              "      <td>1.0</td>\n",
              "      <td>3.0</td>\n",
              "      <td>1.0</td>\n",
              "      <td>2</td>\n",
              "      <td>12400.01</td>\n",
              "      <td>1</td>\n",
              "      <td>131</td>\n",
              "      <td>1.51</td>\n",
              "      <td>138.0</td>\n",
              "      <td>46.0</td>\n",
              "      <td>132.0</td>\n",
              "      <td>44.0</td>\n",
              "      <td>83.4</td>\n",
              "      <td>170.1</td>\n",
              "      <td>28.8</td>\n",
              "      <td>35.6</td>\n",
              "      <td>37.0</td>\n",
              "      <td>31.0</td>\n",
              "      <td>116.5</td>\n",
              "      <td>2.0</td>\n",
              "    </tr>\n",
              "    <tr>\n",
              "      <th>3</th>\n",
              "      <td>83735</td>\n",
              "      <td>2.0</td>\n",
              "      <td>1.0</td>\n",
              "      <td>1.0</td>\n",
              "      <td>2</td>\n",
              "      <td>2</td>\n",
              "      <td>56</td>\n",
              "      <td>3</td>\n",
              "      <td>1.0</td>\n",
              "      <td>5.0</td>\n",
              "      <td>6.0</td>\n",
              "      <td>1</td>\n",
              "      <td>102718.00</td>\n",
              "      <td>1</td>\n",
              "      <td>131</td>\n",
              "      <td>5.00</td>\n",
              "      <td>132.0</td>\n",
              "      <td>72.0</td>\n",
              "      <td>134.0</td>\n",
              "      <td>68.0</td>\n",
              "      <td>109.8</td>\n",
              "      <td>160.9</td>\n",
              "      <td>42.4</td>\n",
              "      <td>38.5</td>\n",
              "      <td>37.7</td>\n",
              "      <td>38.3</td>\n",
              "      <td>110.1</td>\n",
              "      <td>2.0</td>\n",
              "    </tr>\n",
              "    <tr>\n",
              "      <th>4</th>\n",
              "      <td>83736</td>\n",
              "      <td>2.0</td>\n",
              "      <td>1.0</td>\n",
              "      <td>1.0</td>\n",
              "      <td>2</td>\n",
              "      <td>2</td>\n",
              "      <td>42</td>\n",
              "      <td>4</td>\n",
              "      <td>1.0</td>\n",
              "      <td>4.0</td>\n",
              "      <td>3.0</td>\n",
              "      <td>5</td>\n",
              "      <td>17627.67</td>\n",
              "      <td>2</td>\n",
              "      <td>126</td>\n",
              "      <td>1.23</td>\n",
              "      <td>100.0</td>\n",
              "      <td>70.0</td>\n",
              "      <td>114.0</td>\n",
              "      <td>54.0</td>\n",
              "      <td>55.2</td>\n",
              "      <td>164.9</td>\n",
              "      <td>20.3</td>\n",
              "      <td>37.4</td>\n",
              "      <td>36.0</td>\n",
              "      <td>27.2</td>\n",
              "      <td>80.4</td>\n",
              "      <td>2.0</td>\n",
              "    </tr>\n",
              "  </tbody>\n",
              "</table>\n",
              "</div>"
            ],
            "text/plain": [
              "    SEQN  ALQ101  ALQ110  ALQ130  ...  BMXARML  BMXARMC  BMXWAIST  HIQ210\n",
              "0  83732     1.0     NaN     1.0  ...     43.6     35.9     101.1     2.0\n",
              "1  83733     1.0     NaN     6.0  ...     40.0     33.2     107.9     NaN\n",
              "2  83734     1.0     NaN     NaN  ...     37.0     31.0     116.5     2.0\n",
              "3  83735     2.0     1.0     1.0  ...     37.7     38.3     110.1     2.0\n",
              "4  83736     2.0     1.0     1.0  ...     36.0     27.2      80.4     2.0\n",
              "\n",
              "[5 rows x 28 columns]"
            ]
          },
          "metadata": {
            "tags": []
          },
          "execution_count": 6
        }
      ]
    },
    {
      "cell_type": "markdown",
      "metadata": {
        "id": "Tpolj4CGlhjo"
      },
      "source": [
        "## Question 1\n",
        "\n",
        "Relabel the marital status variable [DMDMARTL](https://wwwn.cdc.gov/Nchs/Nhanes/2015-2016/DEMO_I.htm#DMDMARTL) to have brief but informative character labels.  Then construct a frequency table of these values for all people, then for women only, and for men only.  Then construct these three contingency tables using only people whose age is between 30 and 40."
      ]
    },
    {
      "cell_type": "code",
      "metadata": {
        "id": "_6bjGqRhnd0B",
        "outputId": "cd7e9629-b838-4fd0-c988-20ae43d59818",
        "colab": {
          "base_uri": "https://localhost:8080/"
        }
      },
      "source": [
        "#checking unique values in Marital Status\n",
        "df['DMDMARTL'].unique()"
      ],
      "execution_count": 7,
      "outputs": [
        {
          "output_type": "execute_result",
          "data": {
            "text/plain": [
              "array([ 1.,  3.,  6.,  4.,  5., nan,  2., 77.])"
            ]
          },
          "metadata": {
            "tags": []
          },
          "execution_count": 7
        }
      ]
    },
    {
      "cell_type": "code",
      "metadata": {
        "id": "vnbBLEPKp9jq",
        "outputId": "9cea5609-7ec9-4752-fb61-53d56ca873a1",
        "colab": {
          "base_uri": "https://localhost:8080/"
        }
      },
      "source": [
        "#shape of the DataFrame\n",
        "df.shape"
      ],
      "execution_count": 8,
      "outputs": [
        {
          "output_type": "execute_result",
          "data": {
            "text/plain": [
              "(5735, 28)"
            ]
          },
          "metadata": {
            "tags": []
          },
          "execution_count": 8
        }
      ]
    },
    {
      "cell_type": "code",
      "metadata": {
        "id": "i5glezxsqO9K",
        "outputId": "9a2f0b4b-2483-47cc-f802-377da6144e4a",
        "colab": {
          "base_uri": "https://localhost:8080/"
        }
      },
      "source": [
        "#total number of null values in Marital Status\n",
        "pd.isnull(df['DMDMARTL']).sum()"
      ],
      "execution_count": 9,
      "outputs": [
        {
          "output_type": "execute_result",
          "data": {
            "text/plain": [
              "261"
            ]
          },
          "metadata": {
            "tags": []
          },
          "execution_count": 9
        }
      ]
    },
    {
      "cell_type": "code",
      "metadata": {
        "id": "GoZclR3jy7Ps"
      },
      "source": [
        "#creating new Dataframe with required variables\n",
        "new_df = df.loc[:, [\"DMDMARTL\", \"RIAGENDR\", \"RIDAGEYR\"]]"
      ],
      "execution_count": 10,
      "outputs": []
    },
    {
      "cell_type": "code",
      "metadata": {
        "id": "pPHnMkQLzF2h",
        "outputId": "fa34c8f7-aab7-4645-8615-2ace96a69f70",
        "colab": {
          "base_uri": "https://localhost:8080/",
          "height": 204
        }
      },
      "source": [
        "#looking at data\n",
        "new_df.head()"
      ],
      "execution_count": 11,
      "outputs": [
        {
          "output_type": "execute_result",
          "data": {
            "text/html": [
              "<div>\n",
              "<style scoped>\n",
              "    .dataframe tbody tr th:only-of-type {\n",
              "        vertical-align: middle;\n",
              "    }\n",
              "\n",
              "    .dataframe tbody tr th {\n",
              "        vertical-align: top;\n",
              "    }\n",
              "\n",
              "    .dataframe thead th {\n",
              "        text-align: right;\n",
              "    }\n",
              "</style>\n",
              "<table border=\"1\" class=\"dataframe\">\n",
              "  <thead>\n",
              "    <tr style=\"text-align: right;\">\n",
              "      <th></th>\n",
              "      <th>DMDMARTL</th>\n",
              "      <th>RIAGENDR</th>\n",
              "      <th>RIDAGEYR</th>\n",
              "    </tr>\n",
              "  </thead>\n",
              "  <tbody>\n",
              "    <tr>\n",
              "      <th>0</th>\n",
              "      <td>1.0</td>\n",
              "      <td>1</td>\n",
              "      <td>62</td>\n",
              "    </tr>\n",
              "    <tr>\n",
              "      <th>1</th>\n",
              "      <td>3.0</td>\n",
              "      <td>1</td>\n",
              "      <td>53</td>\n",
              "    </tr>\n",
              "    <tr>\n",
              "      <th>2</th>\n",
              "      <td>1.0</td>\n",
              "      <td>1</td>\n",
              "      <td>78</td>\n",
              "    </tr>\n",
              "    <tr>\n",
              "      <th>3</th>\n",
              "      <td>6.0</td>\n",
              "      <td>2</td>\n",
              "      <td>56</td>\n",
              "    </tr>\n",
              "    <tr>\n",
              "      <th>4</th>\n",
              "      <td>3.0</td>\n",
              "      <td>2</td>\n",
              "      <td>42</td>\n",
              "    </tr>\n",
              "  </tbody>\n",
              "</table>\n",
              "</div>"
            ],
            "text/plain": [
              "   DMDMARTL  RIAGENDR  RIDAGEYR\n",
              "0       1.0         1        62\n",
              "1       3.0         1        53\n",
              "2       1.0         1        78\n",
              "3       6.0         2        56\n",
              "4       3.0         2        42"
            ]
          },
          "metadata": {
            "tags": []
          },
          "execution_count": 11
        }
      ]
    },
    {
      "cell_type": "code",
      "metadata": {
        "id": "IkzBko9YzKrB",
        "outputId": "99a9b179-3a3f-4a76-8dce-44fbc8a1954e",
        "colab": {
          "base_uri": "https://localhost:8080/"
        }
      },
      "source": [
        "#checking whether we have other columns with missing values\n",
        "pd.isnull(new_df).sum()"
      ],
      "execution_count": 12,
      "outputs": [
        {
          "output_type": "execute_result",
          "data": {
            "text/plain": [
              "DMDMARTL    261\n",
              "RIAGENDR      0\n",
              "RIDAGEYR      0\n",
              "dtype: int64"
            ]
          },
          "metadata": {
            "tags": []
          },
          "execution_count": 12
        }
      ]
    },
    {
      "cell_type": "code",
      "metadata": {
        "id": "e9ge-cRHzZn4"
      },
      "source": [
        "#drop missing values\n",
        "new_df = new_df.dropna()"
      ],
      "execution_count": 13,
      "outputs": []
    },
    {
      "cell_type": "code",
      "metadata": {
        "id": "U9TTmlq3zZn9"
      },
      "source": [
        "#reset index\n",
        "new_df.reset_index(inplace=True, drop=True)"
      ],
      "execution_count": 14,
      "outputs": []
    },
    {
      "cell_type": "code",
      "metadata": {
        "id": "DqbH9SZFzgOB",
        "outputId": "4dad3730-d70b-42c4-a455-caa7437d6b45",
        "colab": {
          "base_uri": "https://localhost:8080/"
        }
      },
      "source": [
        "pd.isnull(new_df).sum()"
      ],
      "execution_count": 15,
      "outputs": [
        {
          "output_type": "execute_result",
          "data": {
            "text/plain": [
              "DMDMARTL    0\n",
              "RIAGENDR    0\n",
              "RIDAGEYR    0\n",
              "dtype: int64"
            ]
          },
          "metadata": {
            "tags": []
          },
          "execution_count": 15
        }
      ]
    },
    {
      "cell_type": "code",
      "metadata": {
        "id": "Z8Wg12uzziux",
        "outputId": "51076171-0635-4fa0-ae99-21f00929f433",
        "colab": {
          "base_uri": "https://localhost:8080/"
        }
      },
      "source": [
        "new_df.info()"
      ],
      "execution_count": 16,
      "outputs": [
        {
          "output_type": "stream",
          "text": [
            "<class 'pandas.core.frame.DataFrame'>\n",
            "RangeIndex: 5474 entries, 0 to 5473\n",
            "Data columns (total 3 columns):\n",
            " #   Column    Non-Null Count  Dtype  \n",
            "---  ------    --------------  -----  \n",
            " 0   DMDMARTL  5474 non-null   float64\n",
            " 1   RIAGENDR  5474 non-null   int64  \n",
            " 2   RIDAGEYR  5474 non-null   int64  \n",
            "dtypes: float64(1), int64(2)\n",
            "memory usage: 128.4 KB\n"
          ],
          "name": "stdout"
        }
      ]
    },
    {
      "cell_type": "code",
      "metadata": {
        "id": "nfuWjWquzoNY",
        "outputId": "36819614-d9e6-4bbd-c34b-997989e2a3c7",
        "colab": {
          "base_uri": "https://localhost:8080/"
        }
      },
      "source": [
        "#checking unique values in Marital Status\n",
        "new_df['DMDMARTL'].unique()"
      ],
      "execution_count": 17,
      "outputs": [
        {
          "output_type": "execute_result",
          "data": {
            "text/plain": [
              "array([ 1.,  3.,  6.,  4.,  5.,  2., 77.])"
            ]
          },
          "metadata": {
            "tags": []
          },
          "execution_count": 17
        }
      ]
    },
    {
      "cell_type": "code",
      "metadata": {
        "id": "xfMp7WG2qqIV"
      },
      "source": [
        "#relabeling them\n",
        "new_df['Marital_Status'] = new_df['DMDMARTL'].replace({1.0: \"Married\", 5.0: \"Never married\", 3.0: \"Divorced\", 6.0: \"Living with partner\", \n",
        "                                               2.0: \"Widowed\", 4.0: \"Separated\", 77.0: \"Refused\"})"
      ],
      "execution_count": 18,
      "outputs": []
    },
    {
      "cell_type": "code",
      "metadata": {
        "id": "PuytI4SYxrlU",
        "outputId": "e6909a1b-1c69-4242-e2c6-5fc613c3fcc6",
        "colab": {
          "base_uri": "https://localhost:8080/"
        }
      },
      "source": [
        "#looking at unique values in gender\n",
        "new_df['RIAGENDR'].unique()"
      ],
      "execution_count": 19,
      "outputs": [
        {
          "output_type": "execute_result",
          "data": {
            "text/plain": [
              "array([1, 2])"
            ]
          },
          "metadata": {
            "tags": []
          },
          "execution_count": 19
        }
      ]
    },
    {
      "cell_type": "code",
      "metadata": {
        "id": "0XPOfAwas-ZJ"
      },
      "source": [
        "#relabeling gender variable\n",
        "new_df['Gender'] = new_df['RIAGENDR'].replace({1: \"Male\", 2: \"Female\"})"
      ],
      "execution_count": 20,
      "outputs": []
    },
    {
      "cell_type": "code",
      "metadata": {
        "id": "GeMEosBVzQWx",
        "outputId": "e01e4393-1e4a-4b13-c7ce-d136c4b608e8",
        "colab": {
          "base_uri": "https://localhost:8080/"
        }
      },
      "source": [
        "#checking data in Age variable\n",
        "new_df['RIDAGEYR'].unique()"
      ],
      "execution_count": 21,
      "outputs": [
        {
          "output_type": "execute_result",
          "data": {
            "text/plain": [
              "array([62, 53, 78, 56, 42, 72, 22, 32, 46, 45, 30, 67, 57, 24, 27, 54, 49,\n",
              "       80, 69, 58, 60, 51, 68, 66, 37, 29, 20, 70, 23, 61, 39, 50, 44, 71,\n",
              "       31, 41, 35, 21, 40, 48, 63, 79, 38, 74, 26, 55, 52, 47, 43, 75, 33,\n",
              "       28, 65, 25, 73, 36, 64, 59, 77, 76, 34])"
            ]
          },
          "metadata": {
            "tags": []
          },
          "execution_count": 21
        }
      ]
    },
    {
      "cell_type": "code",
      "metadata": {
        "id": "QM6ItOgWzr9J"
      },
      "source": [
        "#renaming it\n",
        "new_df['Age'] = new_df['RIDAGEYR']"
      ],
      "execution_count": 22,
      "outputs": []
    },
    {
      "cell_type": "code",
      "metadata": {
        "id": "CLmo3T_XyoBA",
        "outputId": "d66b4100-0485-4000-a152-b08e2c0633df",
        "colab": {
          "base_uri": "https://localhost:8080/"
        }
      },
      "source": [
        "#Marital Status Frequency Table for All People\n",
        "new_df['Marital_Status'].value_counts()"
      ],
      "execution_count": 23,
      "outputs": [
        {
          "output_type": "execute_result",
          "data": {
            "text/plain": [
              "Married                2780\n",
              "Never married          1004\n",
              "Divorced                579\n",
              "Living with partner     527\n",
              "Widowed                 396\n",
              "Separated               186\n",
              "Refused                   2\n",
              "Name: Marital_Status, dtype: int64"
            ]
          },
          "metadata": {
            "tags": []
          },
          "execution_count": 23
        }
      ]
    },
    {
      "cell_type": "code",
      "metadata": {
        "id": "f-6__1YA2alz",
        "outputId": "4a72ac18-f1e1-4f7a-a5be-6f704f9aee5b",
        "colab": {
          "base_uri": "https://localhost:8080/"
        }
      },
      "source": [
        "#Frequency Table for Women and Man by Martial Status\n",
        "new_df.groupby([\"Gender\", \"Marital_Status\"]).size()"
      ],
      "execution_count": 24,
      "outputs": [
        {
          "output_type": "execute_result",
          "data": {
            "text/plain": [
              "Gender  Marital_Status     \n",
              "Female  Divorced                350\n",
              "        Living with partner     262\n",
              "        Married                1303\n",
              "        Never married           520\n",
              "        Refused                   1\n",
              "        Separated               118\n",
              "        Widowed                 296\n",
              "Male    Divorced                229\n",
              "        Living with partner     265\n",
              "        Married                1477\n",
              "        Never married           484\n",
              "        Refused                   1\n",
              "        Separated                68\n",
              "        Widowed                 100\n",
              "dtype: int64"
            ]
          },
          "metadata": {
            "tags": []
          },
          "execution_count": 24
        }
      ]
    },
    {
      "cell_type": "markdown",
      "metadata": {
        "id": "UHV_c-pK39u6"
      },
      "source": [
        "same thing this time with separate tables"
      ]
    },
    {
      "cell_type": "code",
      "metadata": {
        "id": "kM6hambtuqps",
        "outputId": "622d1413-83e1-455e-953f-81c64cac6511",
        "colab": {
          "base_uri": "https://localhost:8080/"
        }
      },
      "source": [
        "#Marital Status Frequency Table for women only\n",
        "new_df[new_df['Gender'] == 'Female'].groupby('Marital_Status')['Gender'].count()"
      ],
      "execution_count": 25,
      "outputs": [
        {
          "output_type": "execute_result",
          "data": {
            "text/plain": [
              "Marital_Status\n",
              "Divorced                350\n",
              "Living with partner     262\n",
              "Married                1303\n",
              "Never married           520\n",
              "Refused                   1\n",
              "Separated               118\n",
              "Widowed                 296\n",
              "Name: Gender, dtype: int64"
            ]
          },
          "metadata": {
            "tags": []
          },
          "execution_count": 25
        }
      ]
    },
    {
      "cell_type": "code",
      "metadata": {
        "id": "HpLf1q0LiC8_",
        "outputId": "f8bafd46-2cad-4e5d-fc0c-90c9884408ed",
        "colab": {
          "base_uri": "https://localhost:8080/"
        }
      },
      "source": [
        "##Marital Status Frequency Table for men only\n",
        "new_df[new_df['Gender'] == 'Male'].groupby('Marital_Status')['Gender'].count()"
      ],
      "execution_count": 26,
      "outputs": [
        {
          "output_type": "execute_result",
          "data": {
            "text/plain": [
              "Marital_Status\n",
              "Divorced                229\n",
              "Living with partner     265\n",
              "Married                1477\n",
              "Never married           484\n",
              "Refused                   1\n",
              "Separated                68\n",
              "Widowed                 100\n",
              "Name: Gender, dtype: int64"
            ]
          },
          "metadata": {
            "tags": []
          },
          "execution_count": 26
        }
      ]
    },
    {
      "cell_type": "markdown",
      "metadata": {
        "id": "VNJt3WBN55_e"
      },
      "source": [
        "__Q1a.__ Briefly comment on some of the differences that you observe between the distribution of marital status between women and men, for people of all ages."
      ]
    },
    {
      "cell_type": "code",
      "metadata": {
        "id": "kdbqmls-8_fm",
        "outputId": "97deaa41-18ee-4ff7-e723-ed371037e8af",
        "colab": {
          "base_uri": "https://localhost:8080/",
          "height": 351
        }
      },
      "source": [
        "plt.figure(figsize=(10,5))\n",
        "sns.countplot(x = 'Marital_Status', hue = 'Gender', data = new_df, palette = 'magma')\n",
        "plt.title('Marital Status between Women and Men')\n",
        "plt.show()"
      ],
      "execution_count": 69,
      "outputs": [
        {
          "output_type": "display_data",
          "data": {
            "image/png": "[encoded data removed]",
            "text/plain": [
              "<Figure size 720x360 with 1 Axes>"
            ]
          },
          "metadata": {
            "tags": [],
            "needs_background": "light"
          }
        }
      ]
    },
    {
      "cell_type": "markdown",
      "metadata": {
        "id": "OzKfCSXj57V1"
      },
      "source": [
        "As we can conclude from the analysis all Marital Status categories have almost the same distribution for male and female. We can see significant difference in \"Widowed\" category. Where female respondents appeared to have higher frequency than male. We also see that women have more frequency in the \"Divorced\" category. However, frequency in the \"Married\" category is higher among male than female respondents."
      ]
    },
    {
      "cell_type": "markdown",
      "metadata": {
        "id": "84FslvWX9Km2"
      },
      "source": [
        "Then construct these three contingency tables using only people whose age is between 30 and 40."
      ]
    },
    {
      "cell_type": "code",
      "metadata": {
        "id": "SX8PFmvqwylv",
        "outputId": "a57e75ce-9a12-4ab0-9394-4f6126ef92d2",
        "colab": {
          "base_uri": "https://localhost:8080/"
        }
      },
      "source": [
        "#Combined Frequency Table grouped by Marital Status and Gender for people whose age is between 30 and 40\n",
        "new_df[(new_df['Age'] >= 30) & (new_df['Age'] <=40)].groupby('Marital_Status')['Gender'].value_counts()"
      ],
      "execution_count": 28,
      "outputs": [
        {
          "output_type": "execute_result",
          "data": {
            "text/plain": [
              "Marital_Status       Gender\n",
              "Divorced             Female     46\n",
              "                     Male       24\n",
              "Living with partner  Male       78\n",
              "                     Female     65\n",
              "Married              Female    285\n",
              "                     Male      275\n",
              "Never married        Female    116\n",
              "                     Male      101\n",
              "Refused              Male        1\n",
              "Separated            Female     18\n",
              "                     Male       12\n",
              "Widowed              Male        3\n",
              "                     Female      2\n",
              "Name: Gender, dtype: int64"
            ]
          },
          "metadata": {
            "tags": []
          },
          "execution_count": 28
        }
      ]
    },
    {
      "cell_type": "markdown",
      "metadata": {
        "id": "QbP_hmCH5T1K"
      },
      "source": [
        "same thing on separate tables"
      ]
    },
    {
      "cell_type": "code",
      "metadata": {
        "id": "4vGEDKJyvj_e",
        "outputId": "45c83435-8977-4044-e997-b293400d6a1f",
        "colab": {
          "base_uri": "https://localhost:8080/"
        }
      },
      "source": [
        "#for women\n",
        "new_df[(new_df['Gender'] == 'Female') & (new_df['Age'] >= 30) & (new_df['Age'] <=40)].groupby('Marital_Status')['Gender'].count()"
      ],
      "execution_count": 29,
      "outputs": [
        {
          "output_type": "execute_result",
          "data": {
            "text/plain": [
              "Marital_Status\n",
              "Divorced                46\n",
              "Living with partner     65\n",
              "Married                285\n",
              "Never married          116\n",
              "Separated               18\n",
              "Widowed                  2\n",
              "Name: Gender, dtype: int64"
            ]
          },
          "metadata": {
            "tags": []
          },
          "execution_count": 29
        }
      ]
    },
    {
      "cell_type": "code",
      "metadata": {
        "id": "DcpHXW1jwa-a",
        "outputId": "c4d7e8b9-0369-42a5-eef2-3a91b0058a7e",
        "colab": {
          "base_uri": "https://localhost:8080/"
        }
      },
      "source": [
        "#for men\n",
        "new_df[(new_df['Gender'] == 'Male') & (new_df['Age'] >= 30) & (new_df['Age'] <=40)].groupby('Marital_Status')['Gender'].count()"
      ],
      "execution_count": 30,
      "outputs": [
        {
          "output_type": "execute_result",
          "data": {
            "text/plain": [
              "Marital_Status\n",
              "Divorced                24\n",
              "Living with partner     78\n",
              "Married                275\n",
              "Never married          101\n",
              "Refused                  1\n",
              "Separated               12\n",
              "Widowed                  3\n",
              "Name: Gender, dtype: int64"
            ]
          },
          "metadata": {
            "tags": []
          },
          "execution_count": 30
        }
      ]
    },
    {
      "cell_type": "code",
      "metadata": {
        "id": "kyrOklYUxFis",
        "outputId": "319eef40-738a-40bd-89bb-a2ba3b97eb55",
        "colab": {
          "base_uri": "https://localhost:8080/"
        }
      },
      "source": [
        "#for all people\n",
        "new_df[(new_df['Age'] >= 30) & (new_df['Age'] <=40)].groupby('Marital_Status')['Gender'].count()"
      ],
      "execution_count": 31,
      "outputs": [
        {
          "output_type": "execute_result",
          "data": {
            "text/plain": [
              "Marital_Status\n",
              "Divorced                70\n",
              "Living with partner    143\n",
              "Married                560\n",
              "Never married          217\n",
              "Refused                  1\n",
              "Separated               30\n",
              "Widowed                  5\n",
              "Name: Gender, dtype: int64"
            ]
          },
          "metadata": {
            "tags": []
          },
          "execution_count": 31
        }
      ]
    },
    {
      "cell_type": "markdown",
      "metadata": {
        "id": "xPxEzlMSI92s"
      },
      "source": [
        "__Q1b.__ Briefly comment on the differences that you observe between the distribution of marital status states for women between the overall population, and for women between the ages of 30 and 40."
      ]
    },
    {
      "cell_type": "code",
      "metadata": {
        "id": "6Emqhzi0CPCT",
        "outputId": "dc68b8f9-d560-4f96-85dd-749290692096",
        "colab": {
          "base_uri": "https://localhost:8080/",
          "height": 382
        }
      },
      "source": [
        "new_df[new_df['Gender'] == 'Female'].groupby('Marital_Status')['Gender'].count().plot(kind='bar')"
      ],
      "execution_count": 32,
      "outputs": [
        {
          "output_type": "execute_result",
          "data": {
            "text/plain": [
              "<matplotlib.axes._subplots.AxesSubplot at 0x7f674ca7b588>"
            ]
          },
          "metadata": {
            "tags": []
          },
          "execution_count": 32
        },
        {
          "output_type": "display_data",
          "data": {
            "image/png": "[encoded data removed]",
            "text/plain": [
              "<Figure size 432x288 with 1 Axes>"
            ]
          },
          "metadata": {
            "tags": [],
            "needs_background": "light"
          }
        }
      ]
    },
    {
      "cell_type": "code",
      "metadata": {
        "id": "rkS1E1LzChOS",
        "outputId": "4d04ff97-d995-49bd-fb44-9dd859e06824",
        "colab": {
          "base_uri": "https://localhost:8080/",
          "height": 382
        }
      },
      "source": [
        "new_df[(new_df['Gender'] == 'Female') & (new_df['Age'] >= 30) & (new_df['Age'] <=40)].groupby('Marital_Status')['Gender'].count().plot(kind='bar')"
      ],
      "execution_count": 33,
      "outputs": [
        {
          "output_type": "execute_result",
          "data": {
            "text/plain": [
              "<matplotlib.axes._subplots.AxesSubplot at 0x7f674ca99e80>"
            ]
          },
          "metadata": {
            "tags": []
          },
          "execution_count": 33
        },
        {
          "output_type": "display_data",
          "data": {
            "image/png": "[encoded data removed]",
            "text/plain": [
              "<Figure size 432x288 with 1 Axes>"
            ]
          },
          "metadata": {
            "tags": [],
            "needs_background": "light"
          }
        }
      ]
    },
    {
      "cell_type": "markdown",
      "metadata": {
        "id": "lLKqMWXiI2Q1"
      },
      "source": [
        "In the 30-40 age group significant differences were in the \"Widowed\" and \"Divorced\" categories. To compare with women in all ages women between 30 -40 have less frequency in \"Widowed\" and \"Divorced\" categories."
      ]
    },
    {
      "cell_type": "markdown",
      "metadata": {
        "id": "aJSpe17LJI1r"
      },
      "source": [
        "__Q1c.__ Repeat part b for the men."
      ]
    },
    {
      "cell_type": "code",
      "metadata": {
        "id": "AyRTwxbYGPjd",
        "outputId": "398df5b2-95fa-4994-e040-5e8d950b789f",
        "colab": {
          "base_uri": "https://localhost:8080/",
          "height": 382
        }
      },
      "source": [
        "new_df[new_df['Gender'] == 'Male'].groupby('Marital_Status')['Gender'].count().plot(kind='bar')"
      ],
      "execution_count": 34,
      "outputs": [
        {
          "output_type": "execute_result",
          "data": {
            "text/plain": [
              "<matplotlib.axes._subplots.AxesSubplot at 0x7f674c9fb7f0>"
            ]
          },
          "metadata": {
            "tags": []
          },
          "execution_count": 34
        },
        {
          "output_type": "display_data",
          "data": {
            "image/png": "[encoded data removed]",
            "text/plain": [
              "<Figure size 432x288 with 1 Axes>"
            ]
          },
          "metadata": {
            "tags": [],
            "needs_background": "light"
          }
        }
      ]
    },
    {
      "cell_type": "code",
      "metadata": {
        "id": "hZVGrVUTGZAp",
        "outputId": "32afdb46-798f-4857-e4d8-12dd90043cc5",
        "colab": {
          "base_uri": "https://localhost:8080/",
          "height": 382
        }
      },
      "source": [
        "new_df[(new_df['Gender'] == 'Male') & (new_df['Age'] >= 30) & (new_df['Age'] <=40)].groupby('Marital_Status')['Gender'].count().plot(kind='bar')"
      ],
      "execution_count": 35,
      "outputs": [
        {
          "output_type": "execute_result",
          "data": {
            "text/plain": [
              "<matplotlib.axes._subplots.AxesSubplot at 0x7f674c8d5e48>"
            ]
          },
          "metadata": {
            "tags": []
          },
          "execution_count": 35
        },
        {
          "output_type": "display_data",
          "data": {
            "image/png": "[encoded data removed]",
            "text/plain": [
              "<Figure size 432x288 with 1 Axes>"
            ]
          },
          "metadata": {
            "tags": [],
            "needs_background": "light"
          }
        }
      ]
    },
    {
      "cell_type": "markdown",
      "metadata": {
        "id": "vv0USxEgGdgb"
      },
      "source": [
        "Here we can notice significant differences in the \"Living with partner\" and \"Widowed\" categories. In the 30-40 age group frequencies for these categories are less to compare with all age groups."
      ]
    },
    {
      "cell_type": "markdown",
      "metadata": {
        "id": "kEhauhrXmCLq"
      },
      "source": [
        "## Question 2\n",
        "\n",
        "Restricting to the female population, stratify the subjects into age bands no wider than ten years, and construct the distribution of marital status within each age band.  Within each age band, present the distribution in terms of proportions that must sum to 1."
      ]
    },
    {
      "cell_type": "code",
      "metadata": {
        "id": "Xl9vllp6BdfM",
        "outputId": "178b78d9-abb9-4140-a74b-6fe7c95ea819",
        "colab": {
          "base_uri": "https://localhost:8080/"
        }
      },
      "source": [
        "new_df[\"Age\"].describe()"
      ],
      "execution_count": 36,
      "outputs": [
        {
          "output_type": "execute_result",
          "data": {
            "text/plain": [
              "count    5474.000000\n",
              "mean       49.461820\n",
              "std        17.669968\n",
              "min        20.000000\n",
              "25%        34.000000\n",
              "50%        49.000000\n",
              "75%        64.000000\n",
              "max        80.000000\n",
              "Name: Age, dtype: float64"
            ]
          },
          "metadata": {
            "tags": []
          },
          "execution_count": 36
        }
      ]
    },
    {
      "cell_type": "code",
      "metadata": {
        "id": "zGseyEA4Ip4n"
      },
      "source": [
        "new_df[\"Age_Group\"] = pd.cut(new_df.Age, [20,30,40,50,60,70,80])"
      ],
      "execution_count": 39,
      "outputs": []
    },
    {
      "cell_type": "code",
      "metadata": {
        "id": "1bZVNYzxJAPJ",
        "outputId": "ca769515-0335-4615-e378-f46bc611816d",
        "colab": {
          "base_uri": "https://localhost:8080/",
          "height": 204
        }
      },
      "source": [
        "new_df.head()"
      ],
      "execution_count": 40,
      "outputs": [
        {
          "output_type": "execute_result",
          "data": {
            "text/html": [
              "<div>\n",
              "<style scoped>\n",
              "    .dataframe tbody tr th:only-of-type {\n",
              "        vertical-align: middle;\n",
              "    }\n",
              "\n",
              "    .dataframe tbody tr th {\n",
              "        vertical-align: top;\n",
              "    }\n",
              "\n",
              "    .dataframe thead th {\n",
              "        text-align: right;\n",
              "    }\n",
              "</style>\n",
              "<table border=\"1\" class=\"dataframe\">\n",
              "  <thead>\n",
              "    <tr style=\"text-align: right;\">\n",
              "      <th></th>\n",
              "      <th>DMDMARTL</th>\n",
              "      <th>RIAGENDR</th>\n",
              "      <th>RIDAGEYR</th>\n",
              "      <th>Marital_Status</th>\n",
              "      <th>Gender</th>\n",
              "      <th>Age</th>\n",
              "      <th>Age_Group</th>\n",
              "    </tr>\n",
              "  </thead>\n",
              "  <tbody>\n",
              "    <tr>\n",
              "      <th>0</th>\n",
              "      <td>1.0</td>\n",
              "      <td>1</td>\n",
              "      <td>62</td>\n",
              "      <td>Married</td>\n",
              "      <td>Male</td>\n",
              "      <td>62</td>\n",
              "      <td>(60, 70]</td>\n",
              "    </tr>\n",
              "    <tr>\n",
              "      <th>1</th>\n",
              "      <td>3.0</td>\n",
              "      <td>1</td>\n",
              "      <td>53</td>\n",
              "      <td>Divorced</td>\n",
              "      <td>Male</td>\n",
              "      <td>53</td>\n",
              "      <td>(50, 60]</td>\n",
              "    </tr>\n",
              "    <tr>\n",
              "      <th>2</th>\n",
              "      <td>1.0</td>\n",
              "      <td>1</td>\n",
              "      <td>78</td>\n",
              "      <td>Married</td>\n",
              "      <td>Male</td>\n",
              "      <td>78</td>\n",
              "      <td>(70, 80]</td>\n",
              "    </tr>\n",
              "    <tr>\n",
              "      <th>3</th>\n",
              "      <td>6.0</td>\n",
              "      <td>2</td>\n",
              "      <td>56</td>\n",
              "      <td>Living with partner</td>\n",
              "      <td>Female</td>\n",
              "      <td>56</td>\n",
              "      <td>(50, 60]</td>\n",
              "    </tr>\n",
              "    <tr>\n",
              "      <th>4</th>\n",
              "      <td>3.0</td>\n",
              "      <td>2</td>\n",
              "      <td>42</td>\n",
              "      <td>Divorced</td>\n",
              "      <td>Female</td>\n",
              "      <td>42</td>\n",
              "      <td>(40, 50]</td>\n",
              "    </tr>\n",
              "  </tbody>\n",
              "</table>\n",
              "</div>"
            ],
            "text/plain": [
              "   DMDMARTL  RIAGENDR  RIDAGEYR       Marital_Status  Gender  Age Age_Group\n",
              "0       1.0         1        62              Married    Male   62  (60, 70]\n",
              "1       3.0         1        53             Divorced    Male   53  (50, 60]\n",
              "2       1.0         1        78              Married    Male   78  (70, 80]\n",
              "3       6.0         2        56  Living with partner  Female   56  (50, 60]\n",
              "4       3.0         2        42             Divorced  Female   42  (40, 50]"
            ]
          },
          "metadata": {
            "tags": []
          },
          "execution_count": 40
        }
      ]
    },
    {
      "cell_type": "code",
      "metadata": {
        "id": "JWIGY-_zKHkN"
      },
      "source": [
        "new_df_female = new_df[(new_df['Gender'] == \"Female\" )]\n",
        "new_df_female.reset_index(inplace = True, drop = True)"
      ],
      "execution_count": 41,
      "outputs": []
    },
    {
      "cell_type": "code",
      "metadata": {
        "id": "ZX32gTN0Kxnm"
      },
      "source": [
        "Freq_Table = pd.crosstab(new_df_female.Marital_Status, new_df_female.Age_Group)"
      ],
      "execution_count": 42,
      "outputs": []
    },
    {
      "cell_type": "code",
      "metadata": {
        "id": "L88A-hBnLIrQ",
        "outputId": "00bc3e71-3af3-405a-e235-fe03ca1a3558",
        "colab": {
          "base_uri": "https://localhost:8080/",
          "height": 297
        }
      },
      "source": [
        "Freq_Table.apply(lambda z: 100*z/z.sum(), axis = 1)"
      ],
      "execution_count": 44,
      "outputs": [
        {
          "output_type": "execute_result",
          "data": {
            "text/html": [
              "<div>\n",
              "<style scoped>\n",
              "    .dataframe tbody tr th:only-of-type {\n",
              "        vertical-align: middle;\n",
              "    }\n",
              "\n",
              "    .dataframe tbody tr th {\n",
              "        vertical-align: top;\n",
              "    }\n",
              "\n",
              "    .dataframe thead th {\n",
              "        text-align: right;\n",
              "    }\n",
              "</style>\n",
              "<table border=\"1\" class=\"dataframe\">\n",
              "  <thead>\n",
              "    <tr style=\"text-align: right;\">\n",
              "      <th>Age_Group</th>\n",
              "      <th>(20, 30]</th>\n",
              "      <th>(30, 40]</th>\n",
              "      <th>(40, 50]</th>\n",
              "      <th>(50, 60]</th>\n",
              "      <th>(60, 70]</th>\n",
              "      <th>(70, 80]</th>\n",
              "    </tr>\n",
              "    <tr>\n",
              "      <th>Marital_Status</th>\n",
              "      <th></th>\n",
              "      <th></th>\n",
              "      <th></th>\n",
              "      <th></th>\n",
              "      <th></th>\n",
              "      <th></th>\n",
              "    </tr>\n",
              "  </thead>\n",
              "  <tbody>\n",
              "    <tr>\n",
              "      <th>Divorced</th>\n",
              "      <td>3.142857</td>\n",
              "      <td>12.285714</td>\n",
              "      <td>19.714286</td>\n",
              "      <td>23.714286</td>\n",
              "      <td>24.285714</td>\n",
              "      <td>16.857143</td>\n",
              "    </tr>\n",
              "    <tr>\n",
              "      <th>Living with partner</th>\n",
              "      <td>41.732283</td>\n",
              "      <td>22.440945</td>\n",
              "      <td>14.566929</td>\n",
              "      <td>12.598425</td>\n",
              "      <td>7.480315</td>\n",
              "      <td>1.181102</td>\n",
              "    </tr>\n",
              "    <tr>\n",
              "      <th>Married</th>\n",
              "      <td>12.058372</td>\n",
              "      <td>19.815668</td>\n",
              "      <td>22.119816</td>\n",
              "      <td>19.738863</td>\n",
              "      <td>16.282642</td>\n",
              "      <td>9.984639</td>\n",
              "    </tr>\n",
              "    <tr>\n",
              "      <th>Never married</th>\n",
              "      <td>46.734694</td>\n",
              "      <td>19.795918</td>\n",
              "      <td>12.857143</td>\n",
              "      <td>8.571429</td>\n",
              "      <td>7.755102</td>\n",
              "      <td>4.285714</td>\n",
              "    </tr>\n",
              "    <tr>\n",
              "      <th>Refused</th>\n",
              "      <td>0.000000</td>\n",
              "      <td>0.000000</td>\n",
              "      <td>0.000000</td>\n",
              "      <td>100.000000</td>\n",
              "      <td>0.000000</td>\n",
              "      <td>0.000000</td>\n",
              "    </tr>\n",
              "    <tr>\n",
              "      <th>Separated</th>\n",
              "      <td>9.322034</td>\n",
              "      <td>14.406780</td>\n",
              "      <td>27.966102</td>\n",
              "      <td>22.881356</td>\n",
              "      <td>18.644068</td>\n",
              "      <td>6.779661</td>\n",
              "    </tr>\n",
              "    <tr>\n",
              "      <th>Widowed</th>\n",
              "      <td>0.000000</td>\n",
              "      <td>0.675676</td>\n",
              "      <td>4.054054</td>\n",
              "      <td>9.459459</td>\n",
              "      <td>21.959459</td>\n",
              "      <td>63.851351</td>\n",
              "    </tr>\n",
              "  </tbody>\n",
              "</table>\n",
              "</div>"
            ],
            "text/plain": [
              "Age_Group             (20, 30]   (30, 40]  ...   (60, 70]   (70, 80]\n",
              "Marital_Status                             ...                      \n",
              "Divorced              3.142857  12.285714  ...  24.285714  16.857143\n",
              "Living with partner  41.732283  22.440945  ...   7.480315   1.181102\n",
              "Married              12.058372  19.815668  ...  16.282642   9.984639\n",
              "Never married        46.734694  19.795918  ...   7.755102   4.285714\n",
              "Refused               0.000000   0.000000  ...   0.000000   0.000000\n",
              "Separated             9.322034  14.406780  ...  18.644068   6.779661\n",
              "Widowed               0.000000   0.675676  ...  21.959459  63.851351\n",
              "\n",
              "[7 rows x 6 columns]"
            ]
          },
          "metadata": {
            "tags": []
          },
          "execution_count": 44
        }
      ]
    },
    {
      "cell_type": "markdown",
      "metadata": {
        "id": "Y4Wp4OkRLpUC"
      },
      "source": [
        "__Q2a.__ Comment on the trends that you see in this series of marginal distributions."
      ]
    },
    {
      "cell_type": "markdown",
      "metadata": {
        "id": "f4UB1lVwLwWo"
      },
      "source": [
        "As we see, the proportion of \"Living with partner\" and \"Never married\" is high in young ages. As age grows the percentage of these variables decreases."
      ]
    },
    {
      "cell_type": "markdown",
      "metadata": {
        "id": "ahC094owLzZb"
      },
      "source": [
        "__Q2b.__ Repeat the construction for males."
      ]
    },
    {
      "cell_type": "code",
      "metadata": {
        "id": "ZzqmiIeILSfe"
      },
      "source": [
        "new_df_male = new_df[(new_df['Gender'] == \"Male\" )]\n",
        "new_df_male.reset_index(inplace = True, drop = True)"
      ],
      "execution_count": 60,
      "outputs": []
    },
    {
      "cell_type": "code",
      "metadata": {
        "id": "oLIdRMUsL-HP"
      },
      "source": [
        "Freq_Table_male = pd.crosstab(new_df_male.Marital_Status, new_df_male.Age_Group)"
      ],
      "execution_count": 61,
      "outputs": []
    },
    {
      "cell_type": "code",
      "metadata": {
        "id": "ZzVLH4phMFQC",
        "outputId": "f8114b55-41dd-4529-e723-8bf635b4a2cd",
        "colab": {
          "base_uri": "https://localhost:8080/",
          "height": 297
        }
      },
      "source": [
        "Freq_Table_male.apply(lambda z: 100*z/z.sum(), axis = 1)"
      ],
      "execution_count": 62,
      "outputs": [
        {
          "output_type": "execute_result",
          "data": {
            "text/html": [
              "<div>\n",
              "<style scoped>\n",
              "    .dataframe tbody tr th:only-of-type {\n",
              "        vertical-align: middle;\n",
              "    }\n",
              "\n",
              "    .dataframe tbody tr th {\n",
              "        vertical-align: top;\n",
              "    }\n",
              "\n",
              "    .dataframe thead th {\n",
              "        text-align: right;\n",
              "    }\n",
              "</style>\n",
              "<table border=\"1\" class=\"dataframe\">\n",
              "  <thead>\n",
              "    <tr style=\"text-align: right;\">\n",
              "      <th>Age_Group</th>\n",
              "      <th>(20, 30]</th>\n",
              "      <th>(30, 40]</th>\n",
              "      <th>(40, 50]</th>\n",
              "      <th>(50, 60]</th>\n",
              "      <th>(60, 70]</th>\n",
              "      <th>(70, 80]</th>\n",
              "    </tr>\n",
              "    <tr>\n",
              "      <th>Marital_Status</th>\n",
              "      <th></th>\n",
              "      <th></th>\n",
              "      <th></th>\n",
              "      <th></th>\n",
              "      <th></th>\n",
              "      <th></th>\n",
              "    </tr>\n",
              "  </thead>\n",
              "  <tbody>\n",
              "    <tr>\n",
              "      <th>Divorced</th>\n",
              "      <td>0.873362</td>\n",
              "      <td>10.480349</td>\n",
              "      <td>14.847162</td>\n",
              "      <td>24.890830</td>\n",
              "      <td>24.017467</td>\n",
              "      <td>24.890830</td>\n",
              "    </tr>\n",
              "    <tr>\n",
              "      <th>Living with partner</th>\n",
              "      <td>35.114504</td>\n",
              "      <td>27.480916</td>\n",
              "      <td>12.595420</td>\n",
              "      <td>12.977099</td>\n",
              "      <td>8.396947</td>\n",
              "      <td>3.435115</td>\n",
              "    </tr>\n",
              "    <tr>\n",
              "      <th>Married</th>\n",
              "      <td>6.978320</td>\n",
              "      <td>17.479675</td>\n",
              "      <td>19.105691</td>\n",
              "      <td>20.054201</td>\n",
              "      <td>19.715447</td>\n",
              "      <td>16.666667</td>\n",
              "    </tr>\n",
              "    <tr>\n",
              "      <th>Never married</th>\n",
              "      <td>50.446429</td>\n",
              "      <td>19.866071</td>\n",
              "      <td>8.705357</td>\n",
              "      <td>10.491071</td>\n",
              "      <td>8.482143</td>\n",
              "      <td>2.008929</td>\n",
              "    </tr>\n",
              "    <tr>\n",
              "      <th>Refused</th>\n",
              "      <td>0.000000</td>\n",
              "      <td>100.000000</td>\n",
              "      <td>0.000000</td>\n",
              "      <td>0.000000</td>\n",
              "      <td>0.000000</td>\n",
              "      <td>0.000000</td>\n",
              "    </tr>\n",
              "    <tr>\n",
              "      <th>Separated</th>\n",
              "      <td>10.294118</td>\n",
              "      <td>17.647059</td>\n",
              "      <td>16.176471</td>\n",
              "      <td>14.705882</td>\n",
              "      <td>20.588235</td>\n",
              "      <td>20.588235</td>\n",
              "    </tr>\n",
              "    <tr>\n",
              "      <th>Widowed</th>\n",
              "      <td>2.000000</td>\n",
              "      <td>2.000000</td>\n",
              "      <td>2.000000</td>\n",
              "      <td>10.000000</td>\n",
              "      <td>17.000000</td>\n",
              "      <td>67.000000</td>\n",
              "    </tr>\n",
              "  </tbody>\n",
              "</table>\n",
              "</div>"
            ],
            "text/plain": [
              "Age_Group             (20, 30]    (30, 40]  ...   (60, 70]   (70, 80]\n",
              "Marital_Status                              ...                      \n",
              "Divorced              0.873362   10.480349  ...  24.017467  24.890830\n",
              "Living with partner  35.114504   27.480916  ...   8.396947   3.435115\n",
              "Married               6.978320   17.479675  ...  19.715447  16.666667\n",
              "Never married        50.446429   19.866071  ...   8.482143   2.008929\n",
              "Refused               0.000000  100.000000  ...   0.000000   0.000000\n",
              "Separated            10.294118   17.647059  ...  20.588235  20.588235\n",
              "Widowed               2.000000    2.000000  ...  17.000000  67.000000\n",
              "\n",
              "[7 rows x 6 columns]"
            ]
          },
          "metadata": {
            "tags": []
          },
          "execution_count": 62
        }
      ]
    },
    {
      "cell_type": "markdown",
      "metadata": {
        "id": "bkrComfLMPVw"
      },
      "source": [
        "__Q2c.__ Comment on any notable differences that you see when comparing these results for females and for males."
      ]
    },
    {
      "cell_type": "markdown",
      "metadata": {
        "id": "Dyu32EfbMQk_"
      },
      "source": [
        "Tendency in \"Living with partner\" and \"Never married\" is the same as in Female age groups. However, the proportion is higher among Male respondents. As the age group grows \"Living with partner\" and \"Never married\" % decreases."
      ]
    },
    {
      "cell_type": "markdown",
      "metadata": {
        "id": "WRMxs6LiMqQ-"
      },
      "source": [
        "## Question 3\n",
        "\n",
        "Construct a histogram of the distribution of heights in the NHANES sample."
      ]
    },
    {
      "cell_type": "code",
      "metadata": {
        "id": "GrvKL-d6TwJK",
        "outputId": "babb86be-a780-4807-a813-5c43830b2431",
        "colab": {
          "base_uri": "https://localhost:8080/",
          "height": 224
        }
      },
      "source": [
        "df.head()"
      ],
      "execution_count": 63,
      "outputs": [
        {
          "output_type": "execute_result",
          "data": {
            "text/html": [
              "<div>\n",
              "<style scoped>\n",
              "    .dataframe tbody tr th:only-of-type {\n",
              "        vertical-align: middle;\n",
              "    }\n",
              "\n",
              "    .dataframe tbody tr th {\n",
              "        vertical-align: top;\n",
              "    }\n",
              "\n",
              "    .dataframe thead th {\n",
              "        text-align: right;\n",
              "    }\n",
              "</style>\n",
              "<table border=\"1\" class=\"dataframe\">\n",
              "  <thead>\n",
              "    <tr style=\"text-align: right;\">\n",
              "      <th></th>\n",
              "      <th>SEQN</th>\n",
              "      <th>ALQ101</th>\n",
              "      <th>ALQ110</th>\n",
              "      <th>ALQ130</th>\n",
              "      <th>SMQ020</th>\n",
              "      <th>RIAGENDR</th>\n",
              "      <th>RIDAGEYR</th>\n",
              "      <th>RIDRETH1</th>\n",
              "      <th>DMDCITZN</th>\n",
              "      <th>DMDEDUC2</th>\n",
              "      <th>DMDMARTL</th>\n",
              "      <th>DMDHHSIZ</th>\n",
              "      <th>WTINT2YR</th>\n",
              "      <th>SDMVPSU</th>\n",
              "      <th>SDMVSTRA</th>\n",
              "      <th>INDFMPIR</th>\n",
              "      <th>BPXSY1</th>\n",
              "      <th>BPXDI1</th>\n",
              "      <th>BPXSY2</th>\n",
              "      <th>BPXDI2</th>\n",
              "      <th>BMXWT</th>\n",
              "      <th>BMXHT</th>\n",
              "      <th>BMXBMI</th>\n",
              "      <th>BMXLEG</th>\n",
              "      <th>BMXARML</th>\n",
              "      <th>BMXARMC</th>\n",
              "      <th>BMXWAIST</th>\n",
              "      <th>HIQ210</th>\n",
              "    </tr>\n",
              "  </thead>\n",
              "  <tbody>\n",
              "    <tr>\n",
              "      <th>0</th>\n",
              "      <td>83732</td>\n",
              "      <td>1.0</td>\n",
              "      <td>NaN</td>\n",
              "      <td>1.0</td>\n",
              "      <td>1</td>\n",
              "      <td>1</td>\n",
              "      <td>62</td>\n",
              "      <td>3</td>\n",
              "      <td>1.0</td>\n",
              "      <td>5.0</td>\n",
              "      <td>1.0</td>\n",
              "      <td>2</td>\n",
              "      <td>134671.37</td>\n",
              "      <td>1</td>\n",
              "      <td>125</td>\n",
              "      <td>4.39</td>\n",
              "      <td>128.0</td>\n",
              "      <td>70.0</td>\n",
              "      <td>124.0</td>\n",
              "      <td>64.0</td>\n",
              "      <td>94.8</td>\n",
              "      <td>184.5</td>\n",
              "      <td>27.8</td>\n",
              "      <td>43.3</td>\n",
              "      <td>43.6</td>\n",
              "      <td>35.9</td>\n",
              "      <td>101.1</td>\n",
              "      <td>2.0</td>\n",
              "    </tr>\n",
              "    <tr>\n",
              "      <th>1</th>\n",
              "      <td>83733</td>\n",
              "      <td>1.0</td>\n",
              "      <td>NaN</td>\n",
              "      <td>6.0</td>\n",
              "      <td>1</td>\n",
              "      <td>1</td>\n",
              "      <td>53</td>\n",
              "      <td>3</td>\n",
              "      <td>2.0</td>\n",
              "      <td>3.0</td>\n",
              "      <td>3.0</td>\n",
              "      <td>1</td>\n",
              "      <td>24328.56</td>\n",
              "      <td>1</td>\n",
              "      <td>125</td>\n",
              "      <td>1.32</td>\n",
              "      <td>146.0</td>\n",
              "      <td>88.0</td>\n",
              "      <td>140.0</td>\n",
              "      <td>88.0</td>\n",
              "      <td>90.4</td>\n",
              "      <td>171.4</td>\n",
              "      <td>30.8</td>\n",
              "      <td>38.0</td>\n",
              "      <td>40.0</td>\n",
              "      <td>33.2</td>\n",
              "      <td>107.9</td>\n",
              "      <td>NaN</td>\n",
              "    </tr>\n",
              "    <tr>\n",
              "      <th>2</th>\n",
              "      <td>83734</td>\n",
              "      <td>1.0</td>\n",
              "      <td>NaN</td>\n",
              "      <td>NaN</td>\n",
              "      <td>1</td>\n",
              "      <td>1</td>\n",
              "      <td>78</td>\n",
              "      <td>3</td>\n",
              "      <td>1.0</td>\n",
              "      <td>3.0</td>\n",
              "      <td>1.0</td>\n",
              "      <td>2</td>\n",
              "      <td>12400.01</td>\n",
              "      <td>1</td>\n",
              "      <td>131</td>\n",
              "      <td>1.51</td>\n",
              "      <td>138.0</td>\n",
              "      <td>46.0</td>\n",
              "      <td>132.0</td>\n",
              "      <td>44.0</td>\n",
              "      <td>83.4</td>\n",
              "      <td>170.1</td>\n",
              "      <td>28.8</td>\n",
              "      <td>35.6</td>\n",
              "      <td>37.0</td>\n",
              "      <td>31.0</td>\n",
              "      <td>116.5</td>\n",
              "      <td>2.0</td>\n",
              "    </tr>\n",
              "    <tr>\n",
              "      <th>3</th>\n",
              "      <td>83735</td>\n",
              "      <td>2.0</td>\n",
              "      <td>1.0</td>\n",
              "      <td>1.0</td>\n",
              "      <td>2</td>\n",
              "      <td>2</td>\n",
              "      <td>56</td>\n",
              "      <td>3</td>\n",
              "      <td>1.0</td>\n",
              "      <td>5.0</td>\n",
              "      <td>6.0</td>\n",
              "      <td>1</td>\n",
              "      <td>102718.00</td>\n",
              "      <td>1</td>\n",
              "      <td>131</td>\n",
              "      <td>5.00</td>\n",
              "      <td>132.0</td>\n",
              "      <td>72.0</td>\n",
              "      <td>134.0</td>\n",
              "      <td>68.0</td>\n",
              "      <td>109.8</td>\n",
              "      <td>160.9</td>\n",
              "      <td>42.4</td>\n",
              "      <td>38.5</td>\n",
              "      <td>37.7</td>\n",
              "      <td>38.3</td>\n",
              "      <td>110.1</td>\n",
              "      <td>2.0</td>\n",
              "    </tr>\n",
              "    <tr>\n",
              "      <th>4</th>\n",
              "      <td>83736</td>\n",
              "      <td>2.0</td>\n",
              "      <td>1.0</td>\n",
              "      <td>1.0</td>\n",
              "      <td>2</td>\n",
              "      <td>2</td>\n",
              "      <td>42</td>\n",
              "      <td>4</td>\n",
              "      <td>1.0</td>\n",
              "      <td>4.0</td>\n",
              "      <td>3.0</td>\n",
              "      <td>5</td>\n",
              "      <td>17627.67</td>\n",
              "      <td>2</td>\n",
              "      <td>126</td>\n",
              "      <td>1.23</td>\n",
              "      <td>100.0</td>\n",
              "      <td>70.0</td>\n",
              "      <td>114.0</td>\n",
              "      <td>54.0</td>\n",
              "      <td>55.2</td>\n",
              "      <td>164.9</td>\n",
              "      <td>20.3</td>\n",
              "      <td>37.4</td>\n",
              "      <td>36.0</td>\n",
              "      <td>27.2</td>\n",
              "      <td>80.4</td>\n",
              "      <td>2.0</td>\n",
              "    </tr>\n",
              "  </tbody>\n",
              "</table>\n",
              "</div>"
            ],
            "text/plain": [
              "    SEQN  ALQ101  ALQ110  ALQ130  ...  BMXARML  BMXARMC  BMXWAIST  HIQ210\n",
              "0  83732     1.0     NaN     1.0  ...     43.6     35.9     101.1     2.0\n",
              "1  83733     1.0     NaN     6.0  ...     40.0     33.2     107.9     NaN\n",
              "2  83734     1.0     NaN     NaN  ...     37.0     31.0     116.5     2.0\n",
              "3  83735     2.0     1.0     1.0  ...     37.7     38.3     110.1     2.0\n",
              "4  83736     2.0     1.0     1.0  ...     36.0     27.2      80.4     2.0\n",
              "\n",
              "[5 rows x 28 columns]"
            ]
          },
          "metadata": {
            "tags": []
          },
          "execution_count": 63
        }
      ]
    },
    {
      "cell_type": "code",
      "metadata": {
        "id": "dceBSPCiM1FY",
        "outputId": "d3fe037c-cca1-4fe3-e285-63f417222042",
        "colab": {
          "base_uri": "https://localhost:8080/",
          "height": 349
        }
      },
      "source": [
        "sns.distplot(df[\"BMXHT\"]).set_title(\"Histogram of Heights\")\n",
        "plt.show()"
      ],
      "execution_count": 64,
      "outputs": [
        {
          "output_type": "stream",
          "text": [
            "/usr/local/lib/python3.6/dist-packages/seaborn/distributions.py:2551: FutureWarning: `distplot` is a deprecated function and will be removed in a future version. Please adapt your code to use either `displot` (a figure-level function with similar flexibility) or `histplot` (an axes-level function for histograms).\n",
            "  warnings.warn(msg, FutureWarning)\n"
          ],
          "name": "stderr"
        },
        {
          "output_type": "display_data",
          "data": {
            "image/png": "[encoded data removed]",
            "text/plain": [
              "<Figure size 432x288 with 1 Axes>"
            ]
          },
          "metadata": {
            "tags": [],
            "needs_background": "light"
          }
        }
      ]
    },
    {
      "cell_type": "markdown",
      "metadata": {
        "id": "GCMMPwgZR-qO"
      },
      "source": [
        "__Q3a.__ Use the `bins` argument to [distplot](https://seaborn.pydata.org/generated/seaborn.distplot.html) to produce histograms with different numbers of bins.  Assess whether the default value for this argument gives a meaningful result, and comment on what happens as the number of bins grows excessively large or excessively small. "
      ]
    },
    {
      "cell_type": "code",
      "metadata": {
        "id": "CD1RKO3QSAWJ",
        "outputId": "39c74118-e5f5-48f1-de5c-dd046f25df52",
        "colab": {
          "base_uri": "https://localhost:8080/",
          "height": 349
        }
      },
      "source": [
        "sns.distplot(df[\"BMXHT\"], bins=5, kde = False).set_title(\"Histogram of Heights\")\n",
        "plt.show()"
      ],
      "execution_count": 65,
      "outputs": [
        {
          "output_type": "stream",
          "text": [
            "/usr/local/lib/python3.6/dist-packages/seaborn/distributions.py:2551: FutureWarning: `distplot` is a deprecated function and will be removed in a future version. Please adapt your code to use either `displot` (a figure-level function with similar flexibility) or `histplot` (an axes-level function for histograms).\n",
            "  warnings.warn(msg, FutureWarning)\n"
          ],
          "name": "stderr"
        },
        {
          "output_type": "display_data",
          "data": {
            "image/png": "[encoded data removed]",
            "text/plain": [
              "<Figure size 432x288 with 1 Axes>"
            ]
          },
          "metadata": {
            "tags": [],
            "needs_background": "light"
          }
        }
      ]
    },
    {
      "cell_type": "markdown",
      "metadata": {
        "id": "8lBLT_wdTHyW"
      },
      "source": [
        "Bins specifies the size of the groups into which the data is sorted. When we have a high number in bins our histogram is more bell shaped which is the case in default parameter."
      ]
    },
    {
      "cell_type": "markdown",
      "metadata": {
        "id": "ZAzk-Jb5TYJb"
      },
      "source": [
        "__Q3b.__ Make separate histograms for the heights of women and men, then make a side-by-side boxplot showing the heights of women and men."
      ]
    },
    {
      "cell_type": "code",
      "metadata": {
        "id": "ItB_-hn6S4XC"
      },
      "source": [
        "male_heights = df.loc[(df.RIAGENDR  == 1), \"BMXHT\"]"
      ],
      "execution_count": 66,
      "outputs": []
    },
    {
      "cell_type": "code",
      "metadata": {
        "id": "sN5PMK7UV8O5"
      },
      "source": [
        "female_heights = df.loc[(df.RIAGENDR  == 2), \"BMXHT\"]"
      ],
      "execution_count": 67,
      "outputs": []
    },
    {
      "cell_type": "code",
      "metadata": {
        "id": "nmQ4wCzXWiUe",
        "outputId": "cdfe9f06-8b85-40e0-fc91-923a8c110164",
        "colab": {
          "base_uri": "https://localhost:8080/"
        }
      },
      "source": [
        "male_heights.head()"
      ],
      "execution_count": 68,
      "outputs": [
        {
          "output_type": "execute_result",
          "data": {
            "text/plain": [
              "0    184.5\n",
              "1    171.4\n",
              "2    170.1\n",
              "6    165.4\n",
              "8    166.1\n",
              "Name: BMXHT, dtype: float64"
            ]
          },
          "metadata": {
            "tags": []
          },
          "execution_count": 68
        }
      ]
    },
    {
      "cell_type": "code",
      "metadata": {
        "id": "WNDWn3UbWM5n",
        "outputId": "19bdc6ff-04ae-4043-d00e-83111565eba7",
        "colab": {
          "base_uri": "https://localhost:8080/",
          "height": 349
        }
      },
      "source": [
        "sns.distplot(male_heights, kde = False).set_title(\"Histogram of Men Heights\")\n",
        "plt.show()"
      ],
      "execution_count": 70,
      "outputs": [
        {
          "output_type": "stream",
          "text": [
            "/usr/local/lib/python3.6/dist-packages/seaborn/distributions.py:2551: FutureWarning: `distplot` is a deprecated function and will be removed in a future version. Please adapt your code to use either `displot` (a figure-level function with similar flexibility) or `histplot` (an axes-level function for histograms).\n",
            "  warnings.warn(msg, FutureWarning)\n"
          ],
          "name": "stderr"
        },
        {
          "output_type": "display_data",
          "data": {
            "image/png": "[encoded data removed]",
            "text/plain": [
              "<Figure size 432x288 with 1 Axes>"
            ]
          },
          "metadata": {
            "tags": [],
            "needs_background": "light"
          }
        }
      ]
    },
    {
      "cell_type": "code",
      "metadata": {
        "id": "Cco-c_QsWdjs",
        "outputId": "68d0c6db-af76-45fd-b55a-5f5a49997173",
        "colab": {
          "base_uri": "https://localhost:8080/",
          "height": 349
        }
      },
      "source": [
        "sns.distplot(female_heights, kde = False).set_title(\"Histogram of Women Heights\")\n",
        "plt.show()"
      ],
      "execution_count": 71,
      "outputs": [
        {
          "output_type": "stream",
          "text": [
            "/usr/local/lib/python3.6/dist-packages/seaborn/distributions.py:2551: FutureWarning: `distplot` is a deprecated function and will be removed in a future version. Please adapt your code to use either `displot` (a figure-level function with similar flexibility) or `histplot` (an axes-level function for histograms).\n",
            "  warnings.warn(msg, FutureWarning)\n"
          ],
          "name": "stderr"
        },
        {
          "output_type": "display_data",
          "data": {
            "image/png": "[encoded data removed]",
            "text/plain": [
              "<Figure size 432x288 with 1 Axes>"
            ]
          },
          "metadata": {
            "tags": [],
            "needs_background": "light"
          }
        }
      ]
    },
    {
      "cell_type": "code",
      "metadata": {
        "id": "ptZPKKudWvYA",
        "outputId": "7ae9b1b8-9a01-4a78-bce9-9d0712f8c13d",
        "colab": {
          "base_uri": "https://localhost:8080/",
          "height": 352
        }
      },
      "source": [
        "plt.figure(figsize=(9,5))\n",
        "sns.boxplot(x=\"RIAGENDR\", y=\"BMXHT\", data=df, showmeans=True)\n",
        "plt.xlabel(\"Gender\")\n",
        "plt.ylabel(\"Heights\")\n",
        "plt.title(\"Heights of Women and Men\",fontdict={\"fontsize\":16})\n",
        "plt.show()"
      ],
      "execution_count": 72,
      "outputs": [
        {
          "output_type": "display_data",
          "data": {
            "image/png": "[encoded data removed]",
            "text/plain": [
              "<Figure size 648x360 with 1 Axes>"
            ]
          },
          "metadata": {
            "tags": [],
            "needs_background": "light"
          }
        }
      ]
    },
    {
      "cell_type": "markdown",
      "metadata": {
        "id": "OQqvacAyZvky"
      },
      "source": [
        "__Q3c.__ Comment on what features, if any are not represented clearly in the boxplots, and what features, if any, are easier to see in the boxplots than in the histograms."
      ]
    },
    {
      "cell_type": "markdown",
      "metadata": {
        "id": "rwmhjr1hZ1GP"
      },
      "source": [
        "In boxplot we can easily see where most of the variance of data is concentrated. The variance of data in Male(1) respondents is concentrated in about 170-180 interval. However, for Female(2) it is about 155-165. In the histogram we see more central tendency than variability of data."
      ]
    },
    {
      "cell_type": "markdown",
      "metadata": {
        "id": "JhlsNotaZ3Eb"
      },
      "source": [
        "__Q3d.__ Make a histogram of the log-transformed heights."
      ]
    },
    {
      "cell_type": "code",
      "metadata": {
        "id": "y1Az1rWQaBW8"
      },
      "source": [
        "#transforming to log value\n",
        "log_heights = np.log(df['BMXHT'])"
      ],
      "execution_count": 73,
      "outputs": []
    },
    {
      "cell_type": "code",
      "metadata": {
        "id": "xDAklmlDaqs3",
        "outputId": "1c5561d5-202d-41df-bf0d-1a648a4d02e1",
        "colab": {
          "base_uri": "https://localhost:8080/",
          "height": 349
        }
      },
      "source": [
        "sns.distplot(log_heights).set_title(\"Histogram of Log of Heights\")\n",
        "plt.show()"
      ],
      "execution_count": 74,
      "outputs": [
        {
          "output_type": "stream",
          "text": [
            "/usr/local/lib/python3.6/dist-packages/seaborn/distributions.py:2551: FutureWarning: `distplot` is a deprecated function and will be removed in a future version. Please adapt your code to use either `displot` (a figure-level function with similar flexibility) or `histplot` (an axes-level function for histograms).\n",
            "  warnings.warn(msg, FutureWarning)\n"
          ],
          "name": "stderr"
        },
        {
          "output_type": "display_data",
          "data": {
            "image/png": "[encoded data removed]",
            "text/plain": [
              "<Figure size 432x288 with 1 Axes>"
            ]
          },
          "metadata": {
            "tags": [],
            "needs_background": "light"
          }
        }
      ]
    },
    {
      "cell_type": "code",
      "metadata": {
        "id": "PnS1hs9KML-Y",
        "outputId": "9260337e-5ba2-47fa-a4ab-c8fcd9842e43",
        "colab": {
          "base_uri": "https://localhost:8080/",
          "height": 349
        }
      },
      "source": [
        "sns.distplot(df[\"BMXHT\"]).set_title(\"Histogram of Heights\")\n",
        "plt.show()"
      ],
      "execution_count": 75,
      "outputs": [
        {
          "output_type": "stream",
          "text": [
            "/usr/local/lib/python3.6/dist-packages/seaborn/distributions.py:2551: FutureWarning: `distplot` is a deprecated function and will be removed in a future version. Please adapt your code to use either `displot` (a figure-level function with similar flexibility) or `histplot` (an axes-level function for histograms).\n",
            "  warnings.warn(msg, FutureWarning)\n"
          ],
          "name": "stderr"
        },
        {
          "output_type": "display_data",
          "data": {
            "image/png": "[encoded data removed]",
            "text/plain": [
              "<Figure size 432x288 with 1 Axes>"
            ]
          },
          "metadata": {
            "tags": [],
            "needs_background": "light"
          }
        }
      ]
    },
    {
      "cell_type": "markdown",
      "metadata": {
        "id": "mVLgmz7FZ904"
      },
      "source": [
        "__Q3e.__ Comment on the relationship between the ditribution of the heights and the distribution of the log-transformed heights. "
      ]
    },
    {
      "cell_type": "markdown",
      "metadata": {
        "id": "SQsRfZsZZ_MJ"
      },
      "source": [
        "They almost look the same in our case, but Log Histogram is more bell shaped, we do it to transform our data, especially outliers to have a Normal Distribution."
      ]
    },
    {
      "cell_type": "markdown",
      "metadata": {
        "id": "6aDf76uabN2h"
      },
      "source": [
        "## Question 4\n",
        "\n",
        "Make a boxplot showing the distribution of within-subject differences between the first and second systolic blood pressure measurents ([BPXSY1](https://wwwn.cdc.gov/Nchs/Nhanes/2015-2016/BPX_I.htm#BPXSY1) and [BPXSY2](https://wwwn.cdc.gov/Nchs/Nhanes/2015-2016/BPX_I.htm#BPXSY2))."
      ]
    },
    {
      "cell_type": "code",
      "metadata": {
        "id": "FcjE2thafhHu"
      },
      "source": [
        "difference = df['BPXSY2'] - df['BPXSY1']"
      ],
      "execution_count": 76,
      "outputs": []
    },
    {
      "cell_type": "code",
      "metadata": {
        "id": "3-fmV470f9iA",
        "outputId": "2f4b329d-2001-4500-e2f1-25aeb37e3e91",
        "colab": {
          "base_uri": "https://localhost:8080/"
        }
      },
      "source": [
        "difference.head()"
      ],
      "execution_count": 77,
      "outputs": [
        {
          "output_type": "execute_result",
          "data": {
            "text/plain": [
              "0    -4.0\n",
              "1    -6.0\n",
              "2    -6.0\n",
              "3     2.0\n",
              "4    14.0\n",
              "dtype: float64"
            ]
          },
          "metadata": {
            "tags": []
          },
          "execution_count": 77
        }
      ]
    },
    {
      "cell_type": "code",
      "metadata": {
        "id": "Jub28O3KZm4W",
        "outputId": "7e8cd122-2453-4f8e-a85f-f4c138b55f44",
        "colab": {
          "base_uri": "https://localhost:8080/",
          "height": 338
        }
      },
      "source": [
        "plt.figure(figsize=(9,5))\n",
        "sns.boxplot(data=difference, showmeans=True)\n",
        "plt.title(\"Differences between the First and Second Systolic Blood Pressure Measurents\",fontdict={\"fontsize\":16})\n",
        "plt.show()"
      ],
      "execution_count": 78,
      "outputs": [
        {
          "output_type": "display_data",
          "data": {
            "image/png": "[encoded data removed]",
            "text/plain": [
              "<Figure size 648x360 with 1 Axes>"
            ]
          },
          "metadata": {
            "tags": [],
            "needs_background": "light"
          }
        }
      ]
    },
    {
      "cell_type": "markdown",
      "metadata": {
        "id": "aNXaHQE_duaK"
      },
      "source": [
        "__Q4a.__ What proportion of the subjects have a lower SBP on the second reading compared to the first?"
      ]
    },
    {
      "cell_type": "markdown",
      "metadata": {
        "id": "iSOtXFKseanE"
      },
      "source": [
        "!!!!! I have some difficulty to interpret this result. I think I didn't get the above question right."
      ]
    },
    {
      "cell_type": "markdown",
      "metadata": {
        "id": "Euy0q39SiH_S"
      },
      "source": [
        "__Q4b.__ Make side-by-side boxplots of the two systolic blood pressure variables."
      ]
    },
    {
      "cell_type": "code",
      "metadata": {
        "id": "W9YA-wYTcdN7",
        "outputId": "2205a467-872d-4ea7-d68e-8c14ff6ea698",
        "colab": {
          "base_uri": "https://localhost:8080/",
          "height": 324
        }
      },
      "source": [
        "plt.figure(figsize=(9,5))\n",
        "sns.boxplot(y=\"BPXSY1\", data=df, showmeans=True)\n",
        "plt.title(\"BPXSY1\",fontdict={\"fontsize\":16})\n",
        "plt.show()"
      ],
      "execution_count": 79,
      "outputs": [
        {
          "output_type": "display_data",
          "data": {
            "image/png": "[encoded data removed]",
            "text/plain": [
              "<Figure size 648x360 with 1 Axes>"
            ]
          },
          "metadata": {
            "tags": [],
            "needs_background": "light"
          }
        }
      ]
    },
    {
      "cell_type": "code",
      "metadata": {
        "id": "ZjC0WNXXiZf-",
        "outputId": "15d751d5-65c2-429f-908b-bd754436f4df",
        "colab": {
          "base_uri": "https://localhost:8080/",
          "height": 324
        }
      },
      "source": [
        "plt.figure(figsize=(9,5))\n",
        "sns.boxplot(y=\"BPXSY2\", data=df, showmeans=True)\n",
        "plt.title(\"BPXSY2\",fontdict={\"fontsize\":16})\n",
        "plt.show()"
      ],
      "execution_count": 80,
      "outputs": [
        {
          "output_type": "display_data",
          "data": {
            "image/png": "[encoded data removed]",
            "text/plain": [
              "<Figure size 648x360 with 1 Axes>"
            ]
          },
          "metadata": {
            "tags": [],
            "needs_background": "light"
          }
        }
      ]
    },
    {
      "cell_type": "markdown",
      "metadata": {
        "id": "4H2Q93KJlhyh"
      },
      "source": [
        "__Q4c.__ Comment on the variation within either the first or second systolic blood pressure measurements, and the variation in the within-subject differences between the first and second systolic blood pressure measurements."
      ]
    },
    {
      "cell_type": "markdown",
      "metadata": {
        "id": "6uAwBdpellWP"
      },
      "source": [
        ""
      ]
    },
    {
      "cell_type": "markdown",
      "metadata": {
        "id": "ujtpYQb6lrLc"
      },
      "source": [
        "## Question 5\n",
        "\n",
        "Construct a frequency table of household sizes for people within each educational attainment category (the relevant variable is [DMDEDUC2](https://wwwn.cdc.gov/Nchs/Nhanes/2015-2016/DEMO_I.htm#DMDEDUC2)).  Convert the frequencies to proportions."
      ]
    },
    {
      "cell_type": "code",
      "metadata": {
        "id": "JmByKxfYlbIv",
        "outputId": "e291442b-b961-4913-954e-a8078487dd4b",
        "colab": {
          "base_uri": "https://localhost:8080/",
          "height": 224
        }
      },
      "source": [
        "df.head()"
      ],
      "execution_count": 81,
      "outputs": [
        {
          "output_type": "execute_result",
          "data": {
            "text/html": [
              "<div>\n",
              "<style scoped>\n",
              "    .dataframe tbody tr th:only-of-type {\n",
              "        vertical-align: middle;\n",
              "    }\n",
              "\n",
              "    .dataframe tbody tr th {\n",
              "        vertical-align: top;\n",
              "    }\n",
              "\n",
              "    .dataframe thead th {\n",
              "        text-align: right;\n",
              "    }\n",
              "</style>\n",
              "<table border=\"1\" class=\"dataframe\">\n",
              "  <thead>\n",
              "    <tr style=\"text-align: right;\">\n",
              "      <th></th>\n",
              "      <th>SEQN</th>\n",
              "      <th>ALQ101</th>\n",
              "      <th>ALQ110</th>\n",
              "      <th>ALQ130</th>\n",
              "      <th>SMQ020</th>\n",
              "      <th>RIAGENDR</th>\n",
              "      <th>RIDAGEYR</th>\n",
              "      <th>RIDRETH1</th>\n",
              "      <th>DMDCITZN</th>\n",
              "      <th>DMDEDUC2</th>\n",
              "      <th>DMDMARTL</th>\n",
              "      <th>DMDHHSIZ</th>\n",
              "      <th>WTINT2YR</th>\n",
              "      <th>SDMVPSU</th>\n",
              "      <th>SDMVSTRA</th>\n",
              "      <th>INDFMPIR</th>\n",
              "      <th>BPXSY1</th>\n",
              "      <th>BPXDI1</th>\n",
              "      <th>BPXSY2</th>\n",
              "      <th>BPXDI2</th>\n",
              "      <th>BMXWT</th>\n",
              "      <th>BMXHT</th>\n",
              "      <th>BMXBMI</th>\n",
              "      <th>BMXLEG</th>\n",
              "      <th>BMXARML</th>\n",
              "      <th>BMXARMC</th>\n",
              "      <th>BMXWAIST</th>\n",
              "      <th>HIQ210</th>\n",
              "    </tr>\n",
              "  </thead>\n",
              "  <tbody>\n",
              "    <tr>\n",
              "      <th>0</th>\n",
              "      <td>83732</td>\n",
              "      <td>1.0</td>\n",
              "      <td>NaN</td>\n",
              "      <td>1.0</td>\n",
              "      <td>1</td>\n",
              "      <td>1</td>\n",
              "      <td>62</td>\n",
              "      <td>3</td>\n",
              "      <td>1.0</td>\n",
              "      <td>5.0</td>\n",
              "      <td>1.0</td>\n",
              "      <td>2</td>\n",
              "      <td>134671.37</td>\n",
              "      <td>1</td>\n",
              "      <td>125</td>\n",
              "      <td>4.39</td>\n",
              "      <td>128.0</td>\n",
              "      <td>70.0</td>\n",
              "      <td>124.0</td>\n",
              "      <td>64.0</td>\n",
              "      <td>94.8</td>\n",
              "      <td>184.5</td>\n",
              "      <td>27.8</td>\n",
              "      <td>43.3</td>\n",
              "      <td>43.6</td>\n",
              "      <td>35.9</td>\n",
              "      <td>101.1</td>\n",
              "      <td>2.0</td>\n",
              "    </tr>\n",
              "    <tr>\n",
              "      <th>1</th>\n",
              "      <td>83733</td>\n",
              "      <td>1.0</td>\n",
              "      <td>NaN</td>\n",
              "      <td>6.0</td>\n",
              "      <td>1</td>\n",
              "      <td>1</td>\n",
              "      <td>53</td>\n",
              "      <td>3</td>\n",
              "      <td>2.0</td>\n",
              "      <td>3.0</td>\n",
              "      <td>3.0</td>\n",
              "      <td>1</td>\n",
              "      <td>24328.56</td>\n",
              "      <td>1</td>\n",
              "      <td>125</td>\n",
              "      <td>1.32</td>\n",
              "      <td>146.0</td>\n",
              "      <td>88.0</td>\n",
              "      <td>140.0</td>\n",
              "      <td>88.0</td>\n",
              "      <td>90.4</td>\n",
              "      <td>171.4</td>\n",
              "      <td>30.8</td>\n",
              "      <td>38.0</td>\n",
              "      <td>40.0</td>\n",
              "      <td>33.2</td>\n",
              "      <td>107.9</td>\n",
              "      <td>NaN</td>\n",
              "    </tr>\n",
              "    <tr>\n",
              "      <th>2</th>\n",
              "      <td>83734</td>\n",
              "      <td>1.0</td>\n",
              "      <td>NaN</td>\n",
              "      <td>NaN</td>\n",
              "      <td>1</td>\n",
              "      <td>1</td>\n",
              "      <td>78</td>\n",
              "      <td>3</td>\n",
              "      <td>1.0</td>\n",
              "      <td>3.0</td>\n",
              "      <td>1.0</td>\n",
              "      <td>2</td>\n",
              "      <td>12400.01</td>\n",
              "      <td>1</td>\n",
              "      <td>131</td>\n",
              "      <td>1.51</td>\n",
              "      <td>138.0</td>\n",
              "      <td>46.0</td>\n",
              "      <td>132.0</td>\n",
              "      <td>44.0</td>\n",
              "      <td>83.4</td>\n",
              "      <td>170.1</td>\n",
              "      <td>28.8</td>\n",
              "      <td>35.6</td>\n",
              "      <td>37.0</td>\n",
              "      <td>31.0</td>\n",
              "      <td>116.5</td>\n",
              "      <td>2.0</td>\n",
              "    </tr>\n",
              "    <tr>\n",
              "      <th>3</th>\n",
              "      <td>83735</td>\n",
              "      <td>2.0</td>\n",
              "      <td>1.0</td>\n",
              "      <td>1.0</td>\n",
              "      <td>2</td>\n",
              "      <td>2</td>\n",
              "      <td>56</td>\n",
              "      <td>3</td>\n",
              "      <td>1.0</td>\n",
              "      <td>5.0</td>\n",
              "      <td>6.0</td>\n",
              "      <td>1</td>\n",
              "      <td>102718.00</td>\n",
              "      <td>1</td>\n",
              "      <td>131</td>\n",
              "      <td>5.00</td>\n",
              "      <td>132.0</td>\n",
              "      <td>72.0</td>\n",
              "      <td>134.0</td>\n",
              "      <td>68.0</td>\n",
              "      <td>109.8</td>\n",
              "      <td>160.9</td>\n",
              "      <td>42.4</td>\n",
              "      <td>38.5</td>\n",
              "      <td>37.7</td>\n",
              "      <td>38.3</td>\n",
              "      <td>110.1</td>\n",
              "      <td>2.0</td>\n",
              "    </tr>\n",
              "    <tr>\n",
              "      <th>4</th>\n",
              "      <td>83736</td>\n",
              "      <td>2.0</td>\n",
              "      <td>1.0</td>\n",
              "      <td>1.0</td>\n",
              "      <td>2</td>\n",
              "      <td>2</td>\n",
              "      <td>42</td>\n",
              "      <td>4</td>\n",
              "      <td>1.0</td>\n",
              "      <td>4.0</td>\n",
              "      <td>3.0</td>\n",
              "      <td>5</td>\n",
              "      <td>17627.67</td>\n",
              "      <td>2</td>\n",
              "      <td>126</td>\n",
              "      <td>1.23</td>\n",
              "      <td>100.0</td>\n",
              "      <td>70.0</td>\n",
              "      <td>114.0</td>\n",
              "      <td>54.0</td>\n",
              "      <td>55.2</td>\n",
              "      <td>164.9</td>\n",
              "      <td>20.3</td>\n",
              "      <td>37.4</td>\n",
              "      <td>36.0</td>\n",
              "      <td>27.2</td>\n",
              "      <td>80.4</td>\n",
              "      <td>2.0</td>\n",
              "    </tr>\n",
              "  </tbody>\n",
              "</table>\n",
              "</div>"
            ],
            "text/plain": [
              "    SEQN  ALQ101  ALQ110  ALQ130  ...  BMXARML  BMXARMC  BMXWAIST  HIQ210\n",
              "0  83732     1.0     NaN     1.0  ...     43.6     35.9     101.1     2.0\n",
              "1  83733     1.0     NaN     6.0  ...     40.0     33.2     107.9     NaN\n",
              "2  83734     1.0     NaN     NaN  ...     37.0     31.0     116.5     2.0\n",
              "3  83735     2.0     1.0     1.0  ...     37.7     38.3     110.1     2.0\n",
              "4  83736     2.0     1.0     1.0  ...     36.0     27.2      80.4     2.0\n",
              "\n",
              "[5 rows x 28 columns]"
            ]
          },
          "metadata": {
            "tags": []
          },
          "execution_count": 81
        }
      ]
    },
    {
      "cell_type": "code",
      "metadata": {
        "id": "dtoKdkjHnfUx"
      },
      "source": [
        "edu_df = df.loc[:, [\"RIAGENDR\", \"RIDAGEYR\", \"DMDEDUC2\", \"DMDHHSIZ\"]]"
      ],
      "execution_count": 82,
      "outputs": []
    },
    {
      "cell_type": "code",
      "metadata": {
        "id": "lFA0x35fobNf",
        "outputId": "86c8b389-c612-4c65-d659-afb57594c44b",
        "colab": {
          "base_uri": "https://localhost:8080/"
        }
      },
      "source": [
        "pd.isnull(edu_df).sum()"
      ],
      "execution_count": 83,
      "outputs": [
        {
          "output_type": "execute_result",
          "data": {
            "text/plain": [
              "RIAGENDR      0\n",
              "RIDAGEYR      0\n",
              "DMDEDUC2    261\n",
              "DMDHHSIZ      0\n",
              "dtype: int64"
            ]
          },
          "metadata": {
            "tags": []
          },
          "execution_count": 83
        }
      ]
    },
    {
      "cell_type": "code",
      "metadata": {
        "id": "BajLDgYMobNR"
      },
      "source": [
        "#drop missing values\n",
        "edu_df = edu_df.dropna()"
      ],
      "execution_count": 84,
      "outputs": []
    },
    {
      "cell_type": "code",
      "metadata": {
        "id": "02xrVVwzobNb"
      },
      "source": [
        "#reset index\n",
        "edu_df.reset_index(inplace=True, drop=True)"
      ],
      "execution_count": 85,
      "outputs": []
    },
    {
      "cell_type": "code",
      "metadata": {
        "id": "QEE3Uy2cobNk",
        "outputId": "7b976e7a-65a2-441c-c10e-d4e9b196bb90",
        "colab": {
          "base_uri": "https://localhost:8080/"
        }
      },
      "source": [
        "#rechecking the shape\n",
        "edu_df.shape"
      ],
      "execution_count": 86,
      "outputs": [
        {
          "output_type": "execute_result",
          "data": {
            "text/plain": [
              "(5474, 4)"
            ]
          },
          "metadata": {
            "tags": []
          },
          "execution_count": 86
        }
      ]
    },
    {
      "cell_type": "code",
      "metadata": {
        "id": "NdTMERdBowLf"
      },
      "source": [
        "edu_df['Gender'] = edu_df['RIAGENDR'].replace({1: \"Male\", 2: \"Female\"})"
      ],
      "execution_count": 87,
      "outputs": []
    },
    {
      "cell_type": "code",
      "metadata": {
        "id": "FxahY4XdpYMM",
        "outputId": "a6de3014-51f2-48de-98b1-63b74b3ff339",
        "colab": {
          "base_uri": "https://localhost:8080/"
        }
      },
      "source": [
        "edu_df['DMDEDUC2'].unique()"
      ],
      "execution_count": 88,
      "outputs": [
        {
          "output_type": "execute_result",
          "data": {
            "text/plain": [
              "array([5., 3., 4., 2., 1., 9.])"
            ]
          },
          "metadata": {
            "tags": []
          },
          "execution_count": 88
        }
      ]
    },
    {
      "cell_type": "code",
      "metadata": {
        "id": "czvjE93ppFey"
      },
      "source": [
        "edu_df['Edu'] = edu_df['DMDEDUC2'].replace({5: \"College graduate or above\", 3: \"High school graduate/GED\",\n",
        "                                            4: \"Some college or AA degree\", 2: \"9-11th grade\",\n",
        "                                            1: \"Less than 9th grade\", 9: \"Don't Know\"})"
      ],
      "execution_count": 89,
      "outputs": []
    },
    {
      "cell_type": "code",
      "metadata": {
        "id": "hg0uXemmp79a",
        "outputId": "4e2e47f8-59ec-4fc8-eb92-b061de3013f1",
        "colab": {
          "base_uri": "https://localhost:8080/",
          "height": 204
        }
      },
      "source": [
        "edu_df.head()"
      ],
      "execution_count": 90,
      "outputs": [
        {
          "output_type": "execute_result",
          "data": {
            "text/html": [
              "<div>\n",
              "<style scoped>\n",
              "    .dataframe tbody tr th:only-of-type {\n",
              "        vertical-align: middle;\n",
              "    }\n",
              "\n",
              "    .dataframe tbody tr th {\n",
              "        vertical-align: top;\n",
              "    }\n",
              "\n",
              "    .dataframe thead th {\n",
              "        text-align: right;\n",
              "    }\n",
              "</style>\n",
              "<table border=\"1\" class=\"dataframe\">\n",
              "  <thead>\n",
              "    <tr style=\"text-align: right;\">\n",
              "      <th></th>\n",
              "      <th>RIAGENDR</th>\n",
              "      <th>RIDAGEYR</th>\n",
              "      <th>DMDEDUC2</th>\n",
              "      <th>DMDHHSIZ</th>\n",
              "      <th>Gender</th>\n",
              "      <th>Edu</th>\n",
              "    </tr>\n",
              "  </thead>\n",
              "  <tbody>\n",
              "    <tr>\n",
              "      <th>0</th>\n",
              "      <td>1</td>\n",
              "      <td>62</td>\n",
              "      <td>5.0</td>\n",
              "      <td>2</td>\n",
              "      <td>Male</td>\n",
              "      <td>College graduate or above</td>\n",
              "    </tr>\n",
              "    <tr>\n",
              "      <th>1</th>\n",
              "      <td>1</td>\n",
              "      <td>53</td>\n",
              "      <td>3.0</td>\n",
              "      <td>1</td>\n",
              "      <td>Male</td>\n",
              "      <td>High school graduate/GED</td>\n",
              "    </tr>\n",
              "    <tr>\n",
              "      <th>2</th>\n",
              "      <td>1</td>\n",
              "      <td>78</td>\n",
              "      <td>3.0</td>\n",
              "      <td>2</td>\n",
              "      <td>Male</td>\n",
              "      <td>High school graduate/GED</td>\n",
              "    </tr>\n",
              "    <tr>\n",
              "      <th>3</th>\n",
              "      <td>2</td>\n",
              "      <td>56</td>\n",
              "      <td>5.0</td>\n",
              "      <td>1</td>\n",
              "      <td>Female</td>\n",
              "      <td>College graduate or above</td>\n",
              "    </tr>\n",
              "    <tr>\n",
              "      <th>4</th>\n",
              "      <td>2</td>\n",
              "      <td>42</td>\n",
              "      <td>4.0</td>\n",
              "      <td>5</td>\n",
              "      <td>Female</td>\n",
              "      <td>Some college or AA degree</td>\n",
              "    </tr>\n",
              "  </tbody>\n",
              "</table>\n",
              "</div>"
            ],
            "text/plain": [
              "   RIAGENDR  RIDAGEYR  DMDEDUC2  DMDHHSIZ  Gender                        Edu\n",
              "0         1        62       5.0         2    Male  College graduate or above\n",
              "1         1        53       3.0         1    Male   High school graduate/GED\n",
              "2         1        78       3.0         2    Male   High school graduate/GED\n",
              "3         2        56       5.0         1  Female  College graduate or above\n",
              "4         2        42       4.0         5  Female  Some college or AA degree"
            ]
          },
          "metadata": {
            "tags": []
          },
          "execution_count": 90
        }
      ]
    },
    {
      "cell_type": "code",
      "metadata": {
        "id": "cHZXxmA0p_Dr",
        "outputId": "49c68a37-fa00-419b-abe6-b91d7c65b520",
        "colab": {
          "base_uri": "https://localhost:8080/"
        }
      },
      "source": [
        "edu_df['DMDHHSIZ'].unique()"
      ],
      "execution_count": 91,
      "outputs": [
        {
          "output_type": "execute_result",
          "data": {
            "text/plain": [
              "array([2, 1, 5, 3, 4, 7, 6])"
            ]
          },
          "metadata": {
            "tags": []
          },
          "execution_count": 91
        }
      ]
    },
    {
      "cell_type": "code",
      "metadata": {
        "id": "L55bQz6wqPHr"
      },
      "source": [
        "#frequency table of household sizes for people within each educational attainment category\n",
        "freq_edu = edu_df.groupby([\"DMDHHSIZ\", \"Edu\"]).agg({'Edu': 'count'})"
      ],
      "execution_count": 95,
      "outputs": []
    },
    {
      "cell_type": "code",
      "metadata": {
        "id": "yFsSNUpFyX7r",
        "outputId": "35d45552-ee01-4f03-bcee-b334ab30235a",
        "colab": {
          "base_uri": "https://localhost:8080/",
          "height": 1000
        }
      },
      "source": [
        "freq_edu"
      ],
      "execution_count": 96,
      "outputs": [
        {
          "output_type": "execute_result",
          "data": {
            "text/html": [
              "<div>\n",
              "<style scoped>\n",
              "    .dataframe tbody tr th:only-of-type {\n",
              "        vertical-align: middle;\n",
              "    }\n",
              "\n",
              "    .dataframe tbody tr th {\n",
              "        vertical-align: top;\n",
              "    }\n",
              "\n",
              "    .dataframe thead th {\n",
              "        text-align: right;\n",
              "    }\n",
              "</style>\n",
              "<table border=\"1\" class=\"dataframe\">\n",
              "  <thead>\n",
              "    <tr style=\"text-align: right;\">\n",
              "      <th></th>\n",
              "      <th></th>\n",
              "      <th>Edu</th>\n",
              "    </tr>\n",
              "    <tr>\n",
              "      <th>DMDHHSIZ</th>\n",
              "      <th>Edu</th>\n",
              "      <th></th>\n",
              "    </tr>\n",
              "  </thead>\n",
              "  <tbody>\n",
              "    <tr>\n",
              "      <th rowspan=\"5\" valign=\"top\">1</th>\n",
              "      <th>9-11th grade</th>\n",
              "      <td>75</td>\n",
              "    </tr>\n",
              "    <tr>\n",
              "      <th>College graduate or above</th>\n",
              "      <td>195</td>\n",
              "    </tr>\n",
              "    <tr>\n",
              "      <th>High school graduate/GED</th>\n",
              "      <td>181</td>\n",
              "    </tr>\n",
              "    <tr>\n",
              "      <th>Less than 9th grade</th>\n",
              "      <td>72</td>\n",
              "    </tr>\n",
              "    <tr>\n",
              "      <th>Some college or AA degree</th>\n",
              "      <td>245</td>\n",
              "    </tr>\n",
              "    <tr>\n",
              "      <th rowspan=\"6\" valign=\"top\">2</th>\n",
              "      <th>9-11th grade</th>\n",
              "      <td>143</td>\n",
              "    </tr>\n",
              "    <tr>\n",
              "      <th>College graduate or above</th>\n",
              "      <td>475</td>\n",
              "    </tr>\n",
              "    <tr>\n",
              "      <th>Don't Know</th>\n",
              "      <td>2</td>\n",
              "    </tr>\n",
              "    <tr>\n",
              "      <th>High school graduate/GED</th>\n",
              "      <td>321</td>\n",
              "    </tr>\n",
              "    <tr>\n",
              "      <th>Less than 9th grade</th>\n",
              "      <td>147</td>\n",
              "    </tr>\n",
              "    <tr>\n",
              "      <th>Some college or AA degree</th>\n",
              "      <td>436</td>\n",
              "    </tr>\n",
              "    <tr>\n",
              "      <th rowspan=\"5\" valign=\"top\">3</th>\n",
              "      <th>9-11th grade</th>\n",
              "      <td>105</td>\n",
              "    </tr>\n",
              "    <tr>\n",
              "      <th>College graduate or above</th>\n",
              "      <td>265</td>\n",
              "    </tr>\n",
              "    <tr>\n",
              "      <th>High school graduate/GED</th>\n",
              "      <td>203</td>\n",
              "    </tr>\n",
              "    <tr>\n",
              "      <th>Less than 9th grade</th>\n",
              "      <td>96</td>\n",
              "    </tr>\n",
              "    <tr>\n",
              "      <th>Some college or AA degree</th>\n",
              "      <td>313</td>\n",
              "    </tr>\n",
              "    <tr>\n",
              "      <th rowspan=\"5\" valign=\"top\">4</th>\n",
              "      <th>9-11th grade</th>\n",
              "      <td>98</td>\n",
              "    </tr>\n",
              "    <tr>\n",
              "      <th>College graduate or above</th>\n",
              "      <td>226</td>\n",
              "    </tr>\n",
              "    <tr>\n",
              "      <th>High school graduate/GED</th>\n",
              "      <td>192</td>\n",
              "    </tr>\n",
              "    <tr>\n",
              "      <th>Less than 9th grade</th>\n",
              "      <td>87</td>\n",
              "    </tr>\n",
              "    <tr>\n",
              "      <th>Some college or AA degree</th>\n",
              "      <td>274</td>\n",
              "    </tr>\n",
              "    <tr>\n",
              "      <th rowspan=\"6\" valign=\"top\">5</th>\n",
              "      <th>9-11th grade</th>\n",
              "      <td>94</td>\n",
              "    </tr>\n",
              "    <tr>\n",
              "      <th>College graduate or above</th>\n",
              "      <td>130</td>\n",
              "    </tr>\n",
              "    <tr>\n",
              "      <th>Don't Know</th>\n",
              "      <td>1</td>\n",
              "    </tr>\n",
              "    <tr>\n",
              "      <th>High school graduate/GED</th>\n",
              "      <td>130</td>\n",
              "    </tr>\n",
              "    <tr>\n",
              "      <th>Less than 9th grade</th>\n",
              "      <td>97</td>\n",
              "    </tr>\n",
              "    <tr>\n",
              "      <th>Some college or AA degree</th>\n",
              "      <td>198</td>\n",
              "    </tr>\n",
              "    <tr>\n",
              "      <th rowspan=\"5\" valign=\"top\">6</th>\n",
              "      <th>9-11th grade</th>\n",
              "      <td>73</td>\n",
              "    </tr>\n",
              "    <tr>\n",
              "      <th>College graduate or above</th>\n",
              "      <td>40</td>\n",
              "    </tr>\n",
              "    <tr>\n",
              "      <th>High school graduate/GED</th>\n",
              "      <td>78</td>\n",
              "    </tr>\n",
              "    <tr>\n",
              "      <th>Less than 9th grade</th>\n",
              "      <td>71</td>\n",
              "    </tr>\n",
              "    <tr>\n",
              "      <th>Some college or AA degree</th>\n",
              "      <td>82</td>\n",
              "    </tr>\n",
              "    <tr>\n",
              "      <th rowspan=\"5\" valign=\"top\">7</th>\n",
              "      <th>9-11th grade</th>\n",
              "      <td>55</td>\n",
              "    </tr>\n",
              "    <tr>\n",
              "      <th>College graduate or above</th>\n",
              "      <td>35</td>\n",
              "    </tr>\n",
              "    <tr>\n",
              "      <th>High school graduate/GED</th>\n",
              "      <td>81</td>\n",
              "    </tr>\n",
              "    <tr>\n",
              "      <th>Less than 9th grade</th>\n",
              "      <td>85</td>\n",
              "    </tr>\n",
              "    <tr>\n",
              "      <th>Some college or AA degree</th>\n",
              "      <td>73</td>\n",
              "    </tr>\n",
              "  </tbody>\n",
              "</table>\n",
              "</div>"
            ],
            "text/plain": [
              "                                    Edu\n",
              "DMDHHSIZ Edu                           \n",
              "1        9-11th grade                75\n",
              "         College graduate or above  195\n",
              "         High school graduate/GED   181\n",
              "         Less than 9th grade         72\n",
              "         Some college or AA degree  245\n",
              "2        9-11th grade               143\n",
              "         College graduate or above  475\n",
              "         Don't Know                   2\n",
              "         High school graduate/GED   321\n",
              "         Less than 9th grade        147\n",
              "         Some college or AA degree  436\n",
              "3        9-11th grade               105\n",
              "         College graduate or above  265\n",
              "         High school graduate/GED   203\n",
              "         Less than 9th grade         96\n",
              "         Some college or AA degree  313\n",
              "4        9-11th grade                98\n",
              "         College graduate or above  226\n",
              "         High school graduate/GED   192\n",
              "         Less than 9th grade         87\n",
              "         Some college or AA degree  274\n",
              "5        9-11th grade                94\n",
              "         College graduate or above  130\n",
              "         Don't Know                   1\n",
              "         High school graduate/GED   130\n",
              "         Less than 9th grade         97\n",
              "         Some college or AA degree  198\n",
              "6        9-11th grade                73\n",
              "         College graduate or above   40\n",
              "         High school graduate/GED    78\n",
              "         Less than 9th grade         71\n",
              "         Some college or AA degree   82\n",
              "7        9-11th grade                55\n",
              "         College graduate or above   35\n",
              "         High school graduate/GED    81\n",
              "         Less than 9th grade         85\n",
              "         Some college or AA degree   73"
            ]
          },
          "metadata": {
            "tags": []
          },
          "execution_count": 96
        }
      ]
    },
    {
      "cell_type": "markdown",
      "metadata": {
        "id": "We-xrm3TsPyv"
      },
      "source": [
        "Convert the frequencies to proportions."
      ]
    },
    {
      "cell_type": "code",
      "metadata": {
        "id": "CI9eAk9Pwrqc",
        "outputId": "afc4ae8e-5740-4e6c-94d1-ddbc14b51599",
        "colab": {
          "base_uri": "https://localhost:8080/",
          "height": 1000
        }
      },
      "source": [
        "freq_edu.apply(lambda x:  100*x / x.sum())"
      ],
      "execution_count": 97,
      "outputs": [
        {
          "output_type": "execute_result",
          "data": {
            "text/html": [
              "<div>\n",
              "<style scoped>\n",
              "    .dataframe tbody tr th:only-of-type {\n",
              "        vertical-align: middle;\n",
              "    }\n",
              "\n",
              "    .dataframe tbody tr th {\n",
              "        vertical-align: top;\n",
              "    }\n",
              "\n",
              "    .dataframe thead th {\n",
              "        text-align: right;\n",
              "    }\n",
              "</style>\n",
              "<table border=\"1\" class=\"dataframe\">\n",
              "  <thead>\n",
              "    <tr style=\"text-align: right;\">\n",
              "      <th></th>\n",
              "      <th></th>\n",
              "      <th>Edu</th>\n",
              "    </tr>\n",
              "    <tr>\n",
              "      <th>DMDHHSIZ</th>\n",
              "      <th>Edu</th>\n",
              "      <th></th>\n",
              "    </tr>\n",
              "  </thead>\n",
              "  <tbody>\n",
              "    <tr>\n",
              "      <th rowspan=\"5\" valign=\"top\">1</th>\n",
              "      <th>9-11th grade</th>\n",
              "      <td>1.370113</td>\n",
              "    </tr>\n",
              "    <tr>\n",
              "      <th>College graduate or above</th>\n",
              "      <td>3.562294</td>\n",
              "    </tr>\n",
              "    <tr>\n",
              "      <th>High school graduate/GED</th>\n",
              "      <td>3.306540</td>\n",
              "    </tr>\n",
              "    <tr>\n",
              "      <th>Less than 9th grade</th>\n",
              "      <td>1.315309</td>\n",
              "    </tr>\n",
              "    <tr>\n",
              "      <th>Some college or AA degree</th>\n",
              "      <td>4.475703</td>\n",
              "    </tr>\n",
              "    <tr>\n",
              "      <th rowspan=\"6\" valign=\"top\">2</th>\n",
              "      <th>9-11th grade</th>\n",
              "      <td>2.612349</td>\n",
              "    </tr>\n",
              "    <tr>\n",
              "      <th>College graduate or above</th>\n",
              "      <td>8.677384</td>\n",
              "    </tr>\n",
              "    <tr>\n",
              "      <th>Don't Know</th>\n",
              "      <td>0.036536</td>\n",
              "    </tr>\n",
              "    <tr>\n",
              "      <th>High school graduate/GED</th>\n",
              "      <td>5.864085</td>\n",
              "    </tr>\n",
              "    <tr>\n",
              "      <th>Less than 9th grade</th>\n",
              "      <td>2.685422</td>\n",
              "    </tr>\n",
              "    <tr>\n",
              "      <th>Some college or AA degree</th>\n",
              "      <td>7.964925</td>\n",
              "    </tr>\n",
              "    <tr>\n",
              "      <th rowspan=\"5\" valign=\"top\">3</th>\n",
              "      <th>9-11th grade</th>\n",
              "      <td>1.918159</td>\n",
              "    </tr>\n",
              "    <tr>\n",
              "      <th>College graduate or above</th>\n",
              "      <td>4.841067</td>\n",
              "    </tr>\n",
              "    <tr>\n",
              "      <th>High school graduate/GED</th>\n",
              "      <td>3.708440</td>\n",
              "    </tr>\n",
              "    <tr>\n",
              "      <th>Less than 9th grade</th>\n",
              "      <td>1.753745</td>\n",
              "    </tr>\n",
              "    <tr>\n",
              "      <th>Some college or AA degree</th>\n",
              "      <td>5.717939</td>\n",
              "    </tr>\n",
              "    <tr>\n",
              "      <th rowspan=\"5\" valign=\"top\">4</th>\n",
              "      <th>9-11th grade</th>\n",
              "      <td>1.790281</td>\n",
              "    </tr>\n",
              "    <tr>\n",
              "      <th>College graduate or above</th>\n",
              "      <td>4.128608</td>\n",
              "    </tr>\n",
              "    <tr>\n",
              "      <th>High school graduate/GED</th>\n",
              "      <td>3.507490</td>\n",
              "    </tr>\n",
              "    <tr>\n",
              "      <th>Less than 9th grade</th>\n",
              "      <td>1.589331</td>\n",
              "    </tr>\n",
              "    <tr>\n",
              "      <th>Some college or AA degree</th>\n",
              "      <td>5.005480</td>\n",
              "    </tr>\n",
              "    <tr>\n",
              "      <th rowspan=\"6\" valign=\"top\">5</th>\n",
              "      <th>9-11th grade</th>\n",
              "      <td>1.717209</td>\n",
              "    </tr>\n",
              "    <tr>\n",
              "      <th>College graduate or above</th>\n",
              "      <td>2.374863</td>\n",
              "    </tr>\n",
              "    <tr>\n",
              "      <th>Don't Know</th>\n",
              "      <td>0.018268</td>\n",
              "    </tr>\n",
              "    <tr>\n",
              "      <th>High school graduate/GED</th>\n",
              "      <td>2.374863</td>\n",
              "    </tr>\n",
              "    <tr>\n",
              "      <th>Less than 9th grade</th>\n",
              "      <td>1.772013</td>\n",
              "    </tr>\n",
              "    <tr>\n",
              "      <th>Some college or AA degree</th>\n",
              "      <td>3.617099</td>\n",
              "    </tr>\n",
              "    <tr>\n",
              "      <th rowspan=\"5\" valign=\"top\">6</th>\n",
              "      <th>9-11th grade</th>\n",
              "      <td>1.333577</td>\n",
              "    </tr>\n",
              "    <tr>\n",
              "      <th>College graduate or above</th>\n",
              "      <td>0.730727</td>\n",
              "    </tr>\n",
              "    <tr>\n",
              "      <th>High school graduate/GED</th>\n",
              "      <td>1.424918</td>\n",
              "    </tr>\n",
              "    <tr>\n",
              "      <th>Less than 9th grade</th>\n",
              "      <td>1.297041</td>\n",
              "    </tr>\n",
              "    <tr>\n",
              "      <th>Some college or AA degree</th>\n",
              "      <td>1.497991</td>\n",
              "    </tr>\n",
              "    <tr>\n",
              "      <th rowspan=\"5\" valign=\"top\">7</th>\n",
              "      <th>9-11th grade</th>\n",
              "      <td>1.004750</td>\n",
              "    </tr>\n",
              "    <tr>\n",
              "      <th>College graduate or above</th>\n",
              "      <td>0.639386</td>\n",
              "    </tr>\n",
              "    <tr>\n",
              "      <th>High school graduate/GED</th>\n",
              "      <td>1.479722</td>\n",
              "    </tr>\n",
              "    <tr>\n",
              "      <th>Less than 9th grade</th>\n",
              "      <td>1.552795</td>\n",
              "    </tr>\n",
              "    <tr>\n",
              "      <th>Some college or AA degree</th>\n",
              "      <td>1.333577</td>\n",
              "    </tr>\n",
              "  </tbody>\n",
              "</table>\n",
              "</div>"
            ],
            "text/plain": [
              "                                         Edu\n",
              "DMDHHSIZ Edu                                \n",
              "1        9-11th grade               1.370113\n",
              "         College graduate or above  3.562294\n",
              "         High school graduate/GED   3.306540\n",
              "         Less than 9th grade        1.315309\n",
              "         Some college or AA degree  4.475703\n",
              "2        9-11th grade               2.612349\n",
              "         College graduate or above  8.677384\n",
              "         Don't Know                 0.036536\n",
              "         High school graduate/GED   5.864085\n",
              "         Less than 9th grade        2.685422\n",
              "         Some college or AA degree  7.964925\n",
              "3        9-11th grade               1.918159\n",
              "         College graduate or above  4.841067\n",
              "         High school graduate/GED   3.708440\n",
              "         Less than 9th grade        1.753745\n",
              "         Some college or AA degree  5.717939\n",
              "4        9-11th grade               1.790281\n",
              "         College graduate or above  4.128608\n",
              "         High school graduate/GED   3.507490\n",
              "         Less than 9th grade        1.589331\n",
              "         Some college or AA degree  5.005480\n",
              "5        9-11th grade               1.717209\n",
              "         College graduate or above  2.374863\n",
              "         Don't Know                 0.018268\n",
              "         High school graduate/GED   2.374863\n",
              "         Less than 9th grade        1.772013\n",
              "         Some college or AA degree  3.617099\n",
              "6        9-11th grade               1.333577\n",
              "         College graduate or above  0.730727\n",
              "         High school graduate/GED   1.424918\n",
              "         Less than 9th grade        1.297041\n",
              "         Some college or AA degree  1.497991\n",
              "7        9-11th grade               1.004750\n",
              "         College graduate or above  0.639386\n",
              "         High school graduate/GED   1.479722\n",
              "         Less than 9th grade        1.552795\n",
              "         Some college or AA degree  1.333577"
            ]
          },
          "metadata": {
            "tags": []
          },
          "execution_count": 97
        }
      ]
    },
    {
      "cell_type": "markdown",
      "metadata": {
        "id": "osbIViby0Gwk"
      },
      "source": [
        "__Q5a.__ Comment on any major differences among the distributions."
      ]
    },
    {
      "cell_type": "markdown",
      "metadata": {
        "id": "_aaMWN8I2GsF"
      },
      "source": [
        "## Question 6\n",
        "\n",
        "The participants can be clustered into \"maked variance units\" (MVU) based on every combination of the variables [SDMVSTRA](https://wwwn.cdc.gov/Nchs/Nhanes/2015-2016/DEMO_I.htm#SDMVSTRA) and [SDMVPSU](https://wwwn.cdc.gov/Nchs/Nhanes/2015-2016/DEMO_I.htm#SDMVPSU).  Calculate the mean age ([RIDAGEYR](https://wwwn.cdc.gov/Nchs/Nhanes/2015-2016/DEMO_I.htm#RIDAGEYR)), height ([BMXHT](https://wwwn.cdc.gov/Nchs/Nhanes/2015-2016/BMX_I.htm#BMXHT)), and BMI ([BMXBMI](https://wwwn.cdc.gov/Nchs/Nhanes/2015-2016/BMX_I.htm#BMXBMI)) for each gender ([RIAGENDR](https://wwwn.cdc.gov/Nchs/Nhanes/2015-2016/DEMO_I.htm#RIAGENDR)), within each MVU, and report the ratio between the largest and smallest mean (e.g. for height) across the MVUs."
      ]
    },
    {
      "cell_type": "code",
      "metadata": {
        "id": "P_XV9JLh1S9e",
        "outputId": "7ef7a244-54e0-4e29-b32c-310c5e2eab13",
        "colab": {
          "base_uri": "https://localhost:8080/",
          "height": 224
        }
      },
      "source": [
        "df.head()"
      ],
      "execution_count": 98,
      "outputs": [
        {
          "output_type": "execute_result",
          "data": {
            "text/html": [
              "<div>\n",
              "<style scoped>\n",
              "    .dataframe tbody tr th:only-of-type {\n",
              "        vertical-align: middle;\n",
              "    }\n",
              "\n",
              "    .dataframe tbody tr th {\n",
              "        vertical-align: top;\n",
              "    }\n",
              "\n",
              "    .dataframe thead th {\n",
              "        text-align: right;\n",
              "    }\n",
              "</style>\n",
              "<table border=\"1\" class=\"dataframe\">\n",
              "  <thead>\n",
              "    <tr style=\"text-align: right;\">\n",
              "      <th></th>\n",
              "      <th>SEQN</th>\n",
              "      <th>ALQ101</th>\n",
              "      <th>ALQ110</th>\n",
              "      <th>ALQ130</th>\n",
              "      <th>SMQ020</th>\n",
              "      <th>RIAGENDR</th>\n",
              "      <th>RIDAGEYR</th>\n",
              "      <th>RIDRETH1</th>\n",
              "      <th>DMDCITZN</th>\n",
              "      <th>DMDEDUC2</th>\n",
              "      <th>DMDMARTL</th>\n",
              "      <th>DMDHHSIZ</th>\n",
              "      <th>WTINT2YR</th>\n",
              "      <th>SDMVPSU</th>\n",
              "      <th>SDMVSTRA</th>\n",
              "      <th>INDFMPIR</th>\n",
              "      <th>BPXSY1</th>\n",
              "      <th>BPXDI1</th>\n",
              "      <th>BPXSY2</th>\n",
              "      <th>BPXDI2</th>\n",
              "      <th>BMXWT</th>\n",
              "      <th>BMXHT</th>\n",
              "      <th>BMXBMI</th>\n",
              "      <th>BMXLEG</th>\n",
              "      <th>BMXARML</th>\n",
              "      <th>BMXARMC</th>\n",
              "      <th>BMXWAIST</th>\n",
              "      <th>HIQ210</th>\n",
              "    </tr>\n",
              "  </thead>\n",
              "  <tbody>\n",
              "    <tr>\n",
              "      <th>0</th>\n",
              "      <td>83732</td>\n",
              "      <td>1.0</td>\n",
              "      <td>NaN</td>\n",
              "      <td>1.0</td>\n",
              "      <td>1</td>\n",
              "      <td>1</td>\n",
              "      <td>62</td>\n",
              "      <td>3</td>\n",
              "      <td>1.0</td>\n",
              "      <td>5.0</td>\n",
              "      <td>1.0</td>\n",
              "      <td>2</td>\n",
              "      <td>134671.37</td>\n",
              "      <td>1</td>\n",
              "      <td>125</td>\n",
              "      <td>4.39</td>\n",
              "      <td>128.0</td>\n",
              "      <td>70.0</td>\n",
              "      <td>124.0</td>\n",
              "      <td>64.0</td>\n",
              "      <td>94.8</td>\n",
              "      <td>184.5</td>\n",
              "      <td>27.8</td>\n",
              "      <td>43.3</td>\n",
              "      <td>43.6</td>\n",
              "      <td>35.9</td>\n",
              "      <td>101.1</td>\n",
              "      <td>2.0</td>\n",
              "    </tr>\n",
              "    <tr>\n",
              "      <th>1</th>\n",
              "      <td>83733</td>\n",
              "      <td>1.0</td>\n",
              "      <td>NaN</td>\n",
              "      <td>6.0</td>\n",
              "      <td>1</td>\n",
              "      <td>1</td>\n",
              "      <td>53</td>\n",
              "      <td>3</td>\n",
              "      <td>2.0</td>\n",
              "      <td>3.0</td>\n",
              "      <td>3.0</td>\n",
              "      <td>1</td>\n",
              "      <td>24328.56</td>\n",
              "      <td>1</td>\n",
              "      <td>125</td>\n",
              "      <td>1.32</td>\n",
              "      <td>146.0</td>\n",
              "      <td>88.0</td>\n",
              "      <td>140.0</td>\n",
              "      <td>88.0</td>\n",
              "      <td>90.4</td>\n",
              "      <td>171.4</td>\n",
              "      <td>30.8</td>\n",
              "      <td>38.0</td>\n",
              "      <td>40.0</td>\n",
              "      <td>33.2</td>\n",
              "      <td>107.9</td>\n",
              "      <td>NaN</td>\n",
              "    </tr>\n",
              "    <tr>\n",
              "      <th>2</th>\n",
              "      <td>83734</td>\n",
              "      <td>1.0</td>\n",
              "      <td>NaN</td>\n",
              "      <td>NaN</td>\n",
              "      <td>1</td>\n",
              "      <td>1</td>\n",
              "      <td>78</td>\n",
              "      <td>3</td>\n",
              "      <td>1.0</td>\n",
              "      <td>3.0</td>\n",
              "      <td>1.0</td>\n",
              "      <td>2</td>\n",
              "      <td>12400.01</td>\n",
              "      <td>1</td>\n",
              "      <td>131</td>\n",
              "      <td>1.51</td>\n",
              "      <td>138.0</td>\n",
              "      <td>46.0</td>\n",
              "      <td>132.0</td>\n",
              "      <td>44.0</td>\n",
              "      <td>83.4</td>\n",
              "      <td>170.1</td>\n",
              "      <td>28.8</td>\n",
              "      <td>35.6</td>\n",
              "      <td>37.0</td>\n",
              "      <td>31.0</td>\n",
              "      <td>116.5</td>\n",
              "      <td>2.0</td>\n",
              "    </tr>\n",
              "    <tr>\n",
              "      <th>3</th>\n",
              "      <td>83735</td>\n",
              "      <td>2.0</td>\n",
              "      <td>1.0</td>\n",
              "      <td>1.0</td>\n",
              "      <td>2</td>\n",
              "      <td>2</td>\n",
              "      <td>56</td>\n",
              "      <td>3</td>\n",
              "      <td>1.0</td>\n",
              "      <td>5.0</td>\n",
              "      <td>6.0</td>\n",
              "      <td>1</td>\n",
              "      <td>102718.00</td>\n",
              "      <td>1</td>\n",
              "      <td>131</td>\n",
              "      <td>5.00</td>\n",
              "      <td>132.0</td>\n",
              "      <td>72.0</td>\n",
              "      <td>134.0</td>\n",
              "      <td>68.0</td>\n",
              "      <td>109.8</td>\n",
              "      <td>160.9</td>\n",
              "      <td>42.4</td>\n",
              "      <td>38.5</td>\n",
              "      <td>37.7</td>\n",
              "      <td>38.3</td>\n",
              "      <td>110.1</td>\n",
              "      <td>2.0</td>\n",
              "    </tr>\n",
              "    <tr>\n",
              "      <th>4</th>\n",
              "      <td>83736</td>\n",
              "      <td>2.0</td>\n",
              "      <td>1.0</td>\n",
              "      <td>1.0</td>\n",
              "      <td>2</td>\n",
              "      <td>2</td>\n",
              "      <td>42</td>\n",
              "      <td>4</td>\n",
              "      <td>1.0</td>\n",
              "      <td>4.0</td>\n",
              "      <td>3.0</td>\n",
              "      <td>5</td>\n",
              "      <td>17627.67</td>\n",
              "      <td>2</td>\n",
              "      <td>126</td>\n",
              "      <td>1.23</td>\n",
              "      <td>100.0</td>\n",
              "      <td>70.0</td>\n",
              "      <td>114.0</td>\n",
              "      <td>54.0</td>\n",
              "      <td>55.2</td>\n",
              "      <td>164.9</td>\n",
              "      <td>20.3</td>\n",
              "      <td>37.4</td>\n",
              "      <td>36.0</td>\n",
              "      <td>27.2</td>\n",
              "      <td>80.4</td>\n",
              "      <td>2.0</td>\n",
              "    </tr>\n",
              "  </tbody>\n",
              "</table>\n",
              "</div>"
            ],
            "text/plain": [
              "    SEQN  ALQ101  ALQ110  ALQ130  ...  BMXARML  BMXARMC  BMXWAIST  HIQ210\n",
              "0  83732     1.0     NaN     1.0  ...     43.6     35.9     101.1     2.0\n",
              "1  83733     1.0     NaN     6.0  ...     40.0     33.2     107.9     NaN\n",
              "2  83734     1.0     NaN     NaN  ...     37.0     31.0     116.5     2.0\n",
              "3  83735     2.0     1.0     1.0  ...     37.7     38.3     110.1     2.0\n",
              "4  83736     2.0     1.0     1.0  ...     36.0     27.2      80.4     2.0\n",
              "\n",
              "[5 rows x 28 columns]"
            ]
          },
          "metadata": {
            "tags": []
          },
          "execution_count": 98
        }
      ]
    },
    {
      "cell_type": "code",
      "metadata": {
        "id": "Tmq9VUcXDoT2"
      },
      "source": [
        "mvu_df = df.loc[:, [\"SDMVPSU\", \"RIDAGEYR\", \"BMXHT\", \"BMXBMI\", \"RIAGENDR\"]]"
      ],
      "execution_count": 99,
      "outputs": []
    },
    {
      "cell_type": "code",
      "metadata": {
        "id": "jyGXV3XduCIB",
        "outputId": "ffbce386-0690-485c-b621-7ece9761aeb7",
        "colab": {
          "base_uri": "https://localhost:8080/",
          "height": 235
        }
      },
      "source": [
        "#mean\n",
        "mvu_df.groupby([\"RIAGENDR\", \"SDMVPSU\"]).agg({'BMXBMI': [np.mean], 'RIDAGEYR': [np.mean], 'BMXHT': [np.mean] })"
      ],
      "execution_count": 100,
      "outputs": [
        {
          "output_type": "execute_result",
          "data": {
            "text/html": [
              "<div>\n",
              "<style scoped>\n",
              "    .dataframe tbody tr th:only-of-type {\n",
              "        vertical-align: middle;\n",
              "    }\n",
              "\n",
              "    .dataframe tbody tr th {\n",
              "        vertical-align: top;\n",
              "    }\n",
              "\n",
              "    .dataframe thead tr th {\n",
              "        text-align: left;\n",
              "    }\n",
              "\n",
              "    .dataframe thead tr:last-of-type th {\n",
              "        text-align: right;\n",
              "    }\n",
              "</style>\n",
              "<table border=\"1\" class=\"dataframe\">\n",
              "  <thead>\n",
              "    <tr>\n",
              "      <th></th>\n",
              "      <th></th>\n",
              "      <th>BMXBMI</th>\n",
              "      <th>RIDAGEYR</th>\n",
              "      <th>BMXHT</th>\n",
              "    </tr>\n",
              "    <tr>\n",
              "      <th></th>\n",
              "      <th></th>\n",
              "      <th>mean</th>\n",
              "      <th>mean</th>\n",
              "      <th>mean</th>\n",
              "    </tr>\n",
              "    <tr>\n",
              "      <th>RIAGENDR</th>\n",
              "      <th>SDMVPSU</th>\n",
              "      <th></th>\n",
              "      <th></th>\n",
              "      <th></th>\n",
              "    </tr>\n",
              "  </thead>\n",
              "  <tbody>\n",
              "    <tr>\n",
              "      <th rowspan=\"2\" valign=\"top\">1</th>\n",
              "      <th>1</th>\n",
              "      <td>29.162812</td>\n",
              "      <td>48.604635</td>\n",
              "      <td>172.820114</td>\n",
              "    </tr>\n",
              "    <tr>\n",
              "      <th>2</th>\n",
              "      <td>28.368793</td>\n",
              "      <td>48.041199</td>\n",
              "      <td>173.464545</td>\n",
              "    </tr>\n",
              "    <tr>\n",
              "      <th rowspan=\"2\" valign=\"top\">2</th>\n",
              "      <th>1</th>\n",
              "      <td>30.471591</td>\n",
              "      <td>47.940516</td>\n",
              "      <td>159.351770</td>\n",
              "    </tr>\n",
              "    <tr>\n",
              "      <th>2</th>\n",
              "      <td>29.390677</td>\n",
              "      <td>47.640465</td>\n",
              "      <td>160.005245</td>\n",
              "    </tr>\n",
              "  </tbody>\n",
              "</table>\n",
              "</div>"
            ],
            "text/plain": [
              "                     BMXBMI   RIDAGEYR       BMXHT\n",
              "                       mean       mean        mean\n",
              "RIAGENDR SDMVPSU                                  \n",
              "1        1        29.162812  48.604635  172.820114\n",
              "         2        28.368793  48.041199  173.464545\n",
              "2        1        30.471591  47.940516  159.351770\n",
              "         2        29.390677  47.640465  160.005245"
            ]
          },
          "metadata": {
            "tags": []
          },
          "execution_count": 100
        }
      ]
    },
    {
      "cell_type": "markdown",
      "metadata": {
        "id": "DB07yT2AGfDL"
      },
      "source": [
        "__Q6a.__ Comment on the extent to which mean age, height, and BMI vary among the MVUs."
      ]
    },
    {
      "cell_type": "markdown",
      "metadata": {
        "id": "8zfSFrN0OxEQ"
      },
      "source": [
        "We have almost the same mean among the MVUs. Slightly difference are in \"BMXHT\" variable."
      ]
    },
    {
      "cell_type": "markdown",
      "metadata": {
        "id": "eEch8az1GkfM"
      },
      "source": [
        "__Q6b.__ Calculate the inter-quartile range (IQR) for age, height, and BMI for each gender and each MVU.  Report the ratio between the largest and smalles IQR across the MVUs."
      ]
    },
    {
      "cell_type": "code",
      "metadata": {
        "id": "qTarqeG8G8f-"
      },
      "source": [
        "from scipy import stats"
      ],
      "execution_count": 101,
      "outputs": []
    },
    {
      "cell_type": "code",
      "metadata": {
        "id": "3QUHuO_mPc_4"
      },
      "source": [
        "#Interquartlie range for 1st MVU and Male\n",
        "iqr_1_m = mvu_df[(mvu_df['SDMVPSU'] == 1 ) & (mvu_df['RIAGENDR'] == 1 )]"
      ],
      "execution_count": 102,
      "outputs": []
    },
    {
      "cell_type": "code",
      "metadata": {
        "id": "XcNbgMqtQh1j"
      },
      "source": [
        "iqr_1_m.reset_index(inplace=True, drop=True)"
      ],
      "execution_count": 103,
      "outputs": []
    },
    {
      "cell_type": "code",
      "metadata": {
        "id": "RfvL96J3Tpk-",
        "outputId": "b465ae6c-f64a-4de5-8fa6-0558063bb588",
        "colab": {
          "base_uri": "https://localhost:8080/"
        }
      },
      "source": [
        "#Age\n",
        "stats.iqr(iqr_1_m['RIDAGEYR'])"
      ],
      "execution_count": 104,
      "outputs": [
        {
          "output_type": "execute_result",
          "data": {
            "text/plain": [
              "32.0"
            ]
          },
          "metadata": {
            "tags": []
          },
          "execution_count": 104
        }
      ]
    },
    {
      "cell_type": "code",
      "metadata": {
        "id": "gPjqLNdUSrtk",
        "outputId": "778069aa-7134-44df-885a-2ad605f4980c",
        "colab": {
          "base_uri": "https://localhost:8080/"
        }
      },
      "source": [
        "#BMI\n",
        "stats.iqr(iqr_1_m['BMXBMI'])"
      ],
      "execution_count": 105,
      "outputs": [
        {
          "output_type": "execute_result",
          "data": {
            "text/plain": [
              "nan"
            ]
          },
          "metadata": {
            "tags": []
          },
          "execution_count": 105
        }
      ]
    },
    {
      "cell_type": "code",
      "metadata": {
        "id": "EUf74yjCWgjj",
        "outputId": "97d674f2-5e1d-4481-f2e8-f05a39e6e0f5",
        "colab": {
          "base_uri": "https://localhost:8080/"
        }
      },
      "source": [
        "#Heights\n",
        "stats.iqr(iqr_1_m['BMXHT'])"
      ],
      "execution_count": 106,
      "outputs": [
        {
          "output_type": "execute_result",
          "data": {
            "text/plain": [
              "nan"
            ]
          },
          "metadata": {
            "tags": []
          },
          "execution_count": 106
        }
      ]
    },
    {
      "cell_type": "code",
      "metadata": {
        "id": "XPlzl6iUXqV3"
      },
      "source": [
        "#Interquartlie range for 1st MVU and Female\n",
        "iqr_1_fm = mvu_df[(mvu_df['SDMVPSU'] == 1 ) & (mvu_df['RIAGENDR'] == 2 )]"
      ],
      "execution_count": 107,
      "outputs": []
    },
    {
      "cell_type": "code",
      "metadata": {
        "id": "mExn9EBUXyDz",
        "outputId": "ef9d15c2-1eb5-4dc4-d6a0-ae11e28165e1",
        "colab": {
          "base_uri": "https://localhost:8080/"
        }
      },
      "source": [
        "#Age\n",
        "stats.iqr(iqr_1_fm['RIDAGEYR'])"
      ],
      "execution_count": 108,
      "outputs": [
        {
          "output_type": "execute_result",
          "data": {
            "text/plain": [
              "30.0"
            ]
          },
          "metadata": {
            "tags": []
          },
          "execution_count": 108
        }
      ]
    },
    {
      "cell_type": "code",
      "metadata": {
        "id": "k7RXliaSX4_x",
        "outputId": "c419d5d3-3810-4938-8fcb-54a7b9b418c6",
        "colab": {
          "base_uri": "https://localhost:8080/"
        }
      },
      "source": [
        "#BMI\n",
        "stats.iqr(iqr_1_fm['BMXBMI'])"
      ],
      "execution_count": 109,
      "outputs": [
        {
          "output_type": "execute_result",
          "data": {
            "text/plain": [
              "nan"
            ]
          },
          "metadata": {
            "tags": []
          },
          "execution_count": 109
        }
      ]
    },
    {
      "cell_type": "code",
      "metadata": {
        "id": "Q3w7KL8uX7xx",
        "outputId": "3a5f83f3-3ef5-45f2-b0bd-3498aed8caf9",
        "colab": {
          "base_uri": "https://localhost:8080/"
        }
      },
      "source": [
        "#Heights\n",
        "stats.iqr(iqr_1_fm['BMXHT'])"
      ],
      "execution_count": 110,
      "outputs": [
        {
          "output_type": "execute_result",
          "data": {
            "text/plain": [
              "nan"
            ]
          },
          "metadata": {
            "tags": []
          },
          "execution_count": 110
        }
      ]
    },
    {
      "cell_type": "code",
      "metadata": {
        "id": "GuyorQ_hW2Km"
      },
      "source": [
        "#Interquartlie range for 2nd MVU and Male\n",
        "iqr_2_m = mvu_df[(mvu_df['SDMVPSU'] == 2 ) & (mvu_df['RIAGENDR'] == 1 )]"
      ],
      "execution_count": 111,
      "outputs": []
    },
    {
      "cell_type": "code",
      "metadata": {
        "id": "2FRSwsXfW9Yu",
        "outputId": "a7196885-fd35-4754-b844-831d691b2a9d",
        "colab": {
          "base_uri": "https://localhost:8080/"
        }
      },
      "source": [
        "#Age\n",
        "stats.iqr(iqr_2_m['RIDAGEYR'])"
      ],
      "execution_count": 112,
      "outputs": [
        {
          "output_type": "execute_result",
          "data": {
            "text/plain": [
              "31.0"
            ]
          },
          "metadata": {
            "tags": []
          },
          "execution_count": 112
        }
      ]
    },
    {
      "cell_type": "code",
      "metadata": {
        "id": "haRb5sAgXXU2",
        "outputId": "efe3d429-69dc-482a-cfdd-fdc042bc401f",
        "colab": {
          "base_uri": "https://localhost:8080/"
        }
      },
      "source": [
        "#BMI\n",
        "stats.iqr(iqr_2_m['BMXBMI'])"
      ],
      "execution_count": 113,
      "outputs": [
        {
          "output_type": "execute_result",
          "data": {
            "text/plain": [
              "nan"
            ]
          },
          "metadata": {
            "tags": []
          },
          "execution_count": 113
        }
      ]
    },
    {
      "cell_type": "code",
      "metadata": {
        "id": "veJh00g_XXIo",
        "outputId": "2baa3189-0a84-4964-dd8c-f5efe4512c5c",
        "colab": {
          "base_uri": "https://localhost:8080/"
        }
      },
      "source": [
        "#Heights\n",
        "stats.iqr(iqr_2_m['BMXHT'])"
      ],
      "execution_count": 114,
      "outputs": [
        {
          "output_type": "execute_result",
          "data": {
            "text/plain": [
              "nan"
            ]
          },
          "metadata": {
            "tags": []
          },
          "execution_count": 114
        }
      ]
    },
    {
      "cell_type": "code",
      "metadata": {
        "id": "6nqXmcZVYIQt"
      },
      "source": [
        "#Interquartlie range for 2nd MVU and Male\n",
        "iqr_2_fm = mvu_df[(mvu_df['SDMVPSU'] == 2 ) & (mvu_df['RIAGENDR'] == 2 )]"
      ],
      "execution_count": 115,
      "outputs": []
    },
    {
      "cell_type": "code",
      "metadata": {
        "id": "nQtxrXWoYNA1",
        "outputId": "76d70ab9-1aac-477d-8945-ebea32a6757b",
        "colab": {
          "base_uri": "https://localhost:8080/"
        }
      },
      "source": [
        "#Age\n",
        "stats.iqr(iqr_2_fm['RIDAGEYR'])"
      ],
      "execution_count": 116,
      "outputs": [
        {
          "output_type": "execute_result",
          "data": {
            "text/plain": [
              "32.0"
            ]
          },
          "metadata": {
            "tags": []
          },
          "execution_count": 116
        }
      ]
    },
    {
      "cell_type": "code",
      "metadata": {
        "id": "qdkrscV4YRje",
        "outputId": "36cfb4ca-0899-48dd-fa4b-7104a667fa0a",
        "colab": {
          "base_uri": "https://localhost:8080/"
        }
      },
      "source": [
        "#BMI\n",
        "stats.iqr(iqr_2_fm['BMXBMI'])"
      ],
      "execution_count": 117,
      "outputs": [
        {
          "output_type": "execute_result",
          "data": {
            "text/plain": [
              "nan"
            ]
          },
          "metadata": {
            "tags": []
          },
          "execution_count": 117
        }
      ]
    },
    {
      "cell_type": "code",
      "metadata": {
        "id": "BtvJk9elYWci",
        "outputId": "64c3eadd-6e19-475a-89bb-dd0d25309c7c",
        "colab": {
          "base_uri": "https://localhost:8080/"
        }
      },
      "source": [
        "#Heights\n",
        "stats.iqr(iqr_2_fm['BMXHT'])"
      ],
      "execution_count": 118,
      "outputs": [
        {
          "output_type": "execute_result",
          "data": {
            "text/plain": [
              "nan"
            ]
          },
          "metadata": {
            "tags": []
          },
          "execution_count": 118
        }
      ]
    },
    {
      "cell_type": "markdown",
      "metadata": {
        "id": "zztmVLFQG5Go"
      },
      "source": [
        "__Q6c.__ Comment on the extent to which the IQR for age, height, and BMI vary among the MVUs."
      ]
    },
    {
      "cell_type": "markdown",
      "metadata": {
        "id": "zbefOkBcZKSp"
      },
      "source": [
        "IQR is a measure of variability. IQR of 0 means there is no variability in the middle 50% of your data. Among three variables we detect variability in the \"Age\" variable."
      ]
    }
  ]
}